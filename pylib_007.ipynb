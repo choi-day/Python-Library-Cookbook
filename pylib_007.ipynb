{
  "nbformat": 4,
  "nbformat_minor": 0,
  "metadata": {
    "colab": {
      "provenance": [],
      "authorship_tag": "ABX9TyPV2MPxFywtjJrM8qeHad8+",
      "include_colab_link": true
    },
    "kernelspec": {
      "name": "python3",
      "display_name": "Python 3"
    },
    "language_info": {
      "name": "python"
    }
  },
  "cells": [
    {
      "cell_type": "markdown",
      "metadata": {
        "id": "view-in-github",
        "colab_type": "text"
      },
      "source": [
        "<a href=\"https://colab.research.google.com/github/choi-day/Python-Library-Cookbook/blob/main/pylib_007.ipynb\" target=\"_parent\"><img src=\"https://colab.research.google.com/assets/colab-badge.svg\" alt=\"Open In Colab\"/></a>"
      ]
    },
    {
      "cell_type": "markdown",
      "source": [
        "054"
      ],
      "metadata": {
        "id": "fj58qAYytKRz"
      }
    },
    {
      "cell_type": "code",
      "source": [
        "import pandas as pd\n",
        "\n",
        "score = pd.read_csv('/content/score.csv', encoding = 'CP949')\n",
        "print(score)"
      ],
      "metadata": {
        "colab": {
          "base_uri": "https://localhost:8080/",
          "height": 0
        },
        "id": "806xecNIkD_0",
        "outputId": "723e8fe4-36a5-4710-ca2b-467d720413d4"
      },
      "execution_count": 10,
      "outputs": [
        {
          "output_type": "stream",
          "name": "stdout",
          "text": [
            "   1  80,55  홍길동\n",
            "0  2  90,77  김철수\n",
            "1  3  88,66  박희수\n"
          ]
        }
      ]
    },
    {
      "cell_type": "code",
      "execution_count": 1,
      "metadata": {
        "id": "5gTfp8b3rWlw"
      },
      "outputs": [],
      "source": [
        "import csv\n",
        "\n",
        "result = []\n",
        "with open('score.csv', 'r', encoding='euc-kr') as f:\n",
        "    reader = csv.reader(f)\n",
        "    for line in reader:\n",
        "        average = sum(map(int, line[1].split(','))) / 2\n",
        "        line.append(average)\n",
        "        result.append(line)\n",
        "\n",
        "with open('score_result.csv', 'w', newline='') as f:\n",
        "    writer = csv.writer(f)\n",
        "    writer.writerows(result)"
      ]
    },
    {
      "cell_type": "code",
      "source": [
        "score_result = pd.read_csv('/content/score_result.csv')\n",
        "\n",
        "print(score_result)"
      ],
      "metadata": {
        "colab": {
          "base_uri": "https://localhost:8080/",
          "height": 0
        },
        "id": "VtJISzaTlD9n",
        "outputId": "713aa7e6-bab1-448f-cc30-14c68867c2eb"
      },
      "execution_count": 13,
      "outputs": [
        {
          "output_type": "stream",
          "name": "stdout",
          "text": [
            "   1  80,55  홍길동  67.5\n",
            "0  2  90,77  김철수  83.5\n",
            "1  3  88,66  박희수  77.0\n"
          ]
        }
      ]
    },
    {
      "cell_type": "markdown",
      "source": [
        "055"
      ],
      "metadata": {
        "id": "0WtVgOb3tItR"
      }
    },
    {
      "cell_type": "code",
      "source": [
        "import configparser"
      ],
      "metadata": {
        "id": "fHsVTGwZtvyw"
      },
      "execution_count": 15,
      "outputs": []
    },
    {
      "cell_type": "code",
      "source": [
        "config = configparser.ConfigParser()"
      ],
      "metadata": {
        "id": "ug-GFC02t0Bj"
      },
      "execution_count": 16,
      "outputs": []
    },
    {
      "cell_type": "code",
      "source": [
        "config.read('ftp.ini')"
      ],
      "metadata": {
        "colab": {
          "base_uri": "https://localhost:8080/",
          "height": 0
        },
        "id": "CapYWFO-t1w5",
        "outputId": "8e1816eb-5de4-448c-e800-080aa711ff8b"
      },
      "execution_count": 17,
      "outputs": [
        {
          "output_type": "execute_result",
          "data": {
            "text/plain": [
              "['ftp.ini']"
            ]
          },
          "metadata": {},
          "execution_count": 17
        }
      ]
    },
    {
      "cell_type": "code",
      "source": [
        "config['FTP2']['PORT']"
      ],
      "metadata": {
        "colab": {
          "base_uri": "https://localhost:8080/",
          "height": 35
        },
        "id": "ld18bquJt4iC",
        "outputId": "13a59cb1-1768-4262-c902-ba140aece950"
      },
      "execution_count": 19,
      "outputs": [
        {
          "output_type": "execute_result",
          "data": {
            "text/plain": [
              "'22221'"
            ],
            "application/vnd.google.colaboratory.intrinsic+json": {
              "type": "string"
            }
          },
          "metadata": {},
          "execution_count": 19
        }
      ]
    },
    {
      "cell_type": "markdown",
      "source": [
        "056"
      ],
      "metadata": {
        "id": "QLukIFP7t-E5"
      }
    },
    {
      "cell_type": "code",
      "source": [
        "import hashlib"
      ],
      "metadata": {
        "id": "DeRke5cYuC7A"
      },
      "execution_count": 20,
      "outputs": []
    },
    {
      "cell_type": "code",
      "source": [
        "m = hashlib.sha256()\n",
        "m.update('Life is too short'.encode('utf-8'))"
      ],
      "metadata": {
        "id": "4Gg4ClfNueT7"
      },
      "execution_count": 21,
      "outputs": []
    },
    {
      "cell_type": "code",
      "source": [
        "m.update(', you need python.'.encode('utf-8'))"
      ],
      "metadata": {
        "id": "quB7duG5ughu"
      },
      "execution_count": 22,
      "outputs": []
    },
    {
      "cell_type": "code",
      "source": [
        "m.digest()"
      ],
      "metadata": {
        "colab": {
          "base_uri": "https://localhost:8080/",
          "height": 0
        },
        "id": "4eM6ks01uinh",
        "outputId": "df93530c-3062-4967-c637-0f6e4a88611a"
      },
      "execution_count": 23,
      "outputs": [
        {
          "output_type": "execute_result",
          "data": {
            "text/plain": [
              "b\"\\x9d\\x05'^\\xcaK\\xf8\\xf2\\x02w!\\xce?\\xd7\\xe6\\xf0\\xaa\\x06\\xdc\\xc3\\x81 N\\xd8G[\\xe3B\\\\,S\\x84\""
            ]
          },
          "metadata": {},
          "execution_count": 23
        }
      ]
    },
    {
      "cell_type": "code",
      "source": [
        "m.hexdigest()"
      ],
      "metadata": {
        "colab": {
          "base_uri": "https://localhost:8080/",
          "height": 35
        },
        "id": "OE3N_4gLuk6F",
        "outputId": "e2484f3d-f04f-4541-9aa5-69b51df57ccb"
      },
      "execution_count": 24,
      "outputs": [
        {
          "output_type": "execute_result",
          "data": {
            "text/plain": [
              "'9d05275eca4bf8f2027721ce3fd7e6f0aa06dcc381204ed8475be3425c2c5384'"
            ],
            "application/vnd.google.colaboratory.intrinsic+json": {
              "type": "string"
            }
          },
          "metadata": {},
          "execution_count": 24
        }
      ]
    },
    {
      "cell_type": "markdown",
      "source": [
        "057"
      ],
      "metadata": {
        "id": "DZxobIlOupyY"
      }
    },
    {
      "cell_type": "code",
      "source": [
        "import hmac\n",
        "import hashlib\n",
        "\n",
        "SECRET_KEY = 'PYTHON'\n",
        "\n",
        "important_message = '이것은 누구나 볼 수 있는 원본 파일의 내용이다.'\n",
        "\n",
        "with open('message.txt', 'w') as f:\n",
        "    f.write(important_message)\n",
        "\n",
        "with open('message_digest.txt', 'w') as f:\n",
        "    m = hmac.new(SECRET_KEY.encode('utf-8'), important_message.encode('utf-8'),\n",
        "                 hashlib.sha256)\n",
        "    f.write(m.hexdigest())"
      ],
      "metadata": {
        "id": "m5h3mn2WvCJq"
      },
      "execution_count": null,
      "outputs": []
    },
    {
      "cell_type": "code",
      "source": [
        "SECRET_KEY = 'PYTHON'"
      ],
      "metadata": {
        "id": "lwIJ30GuvEnW"
      },
      "execution_count": null,
      "outputs": []
    },
    {
      "cell_type": "code",
      "source": [
        "import hmac\n",
        "import hashlib\n",
        "\n",
        "SECRET_KEY = 'PYTHON'\n",
        "\n",
        "with open('message_digest.txt') as f:\n",
        "    message_digest = f.read()\n",
        "\n",
        "with open('message.txt') as f:\n",
        "    message = f.read()\n",
        "    m = hmac.new(SECRET_KEY.encode('utf-8'), message.encode('utf-8'),\n",
        "                 hashlib.sha256)\n",
        "\n",
        "    if m.hexdigest() == message_digest:\n",
        "        print(\"메시지가 변조되지 않았습니다. 안전합니다.\")"
      ],
      "metadata": {
        "colab": {
          "base_uri": "https://localhost:8080/"
        },
        "id": "Kf18TVxZvGOf",
        "outputId": "8c199c6b-4a86-477e-85cb-9e5cebd03880"
      },
      "execution_count": null,
      "outputs": [
        {
          "output_type": "stream",
          "name": "stdout",
          "text": [
            "메시지가 변조되지 않았습니다. 안전합니다.\n"
          ]
        }
      ]
    },
    {
      "cell_type": "markdown",
      "source": [
        "058"
      ],
      "metadata": {
        "id": "1_hNxyLDvID0"
      }
    },
    {
      "cell_type": "code",
      "source": [
        "import secrets\n",
        "\n",
        "key = secrets.token_hex(16)\n",
        "print(key)"
      ],
      "metadata": {
        "colab": {
          "base_uri": "https://localhost:8080/"
        },
        "id": "zpVscnG0vR0Q",
        "outputId": "3ceee2b9-e453-4487-dfa5-acee81857433"
      },
      "execution_count": null,
      "outputs": [
        {
          "output_type": "stream",
          "name": "stdout",
          "text": [
            "68685cf48d36e5cda681a5c0d112e3ab\n"
          ]
        }
      ]
    },
    {
      "cell_type": "code",
      "source": [
        "key = secrets.token_hex(8)"
      ],
      "metadata": {
        "id": "NwTiDRBfvTJs"
      },
      "execution_count": null,
      "outputs": []
    },
    {
      "cell_type": "code",
      "source": [
        "print(key)"
      ],
      "metadata": {
        "colab": {
          "base_uri": "https://localhost:8080/"
        },
        "id": "Ixjg0GERvUr8",
        "outputId": "fbfdf738-219f-4bcf-c450-07f344c311da"
      },
      "execution_count": null,
      "outputs": [
        {
          "output_type": "stream",
          "name": "stdout",
          "text": [
            "055157d79ca52df5\n"
          ]
        }
      ]
    }
  ]
}