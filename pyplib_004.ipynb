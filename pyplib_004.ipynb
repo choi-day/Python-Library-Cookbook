{
  "nbformat": 4,
  "nbformat_minor": 0,
  "metadata": {
    "colab": {
      "provenance": [],
      "authorship_tag": "ABX9TyMp4IVDDgbDvFZdeksJh4Tj",
      "include_colab_link": true
    },
    "kernelspec": {
      "name": "python3",
      "display_name": "Python 3"
    },
    "language_info": {
      "name": "python"
    }
  },
  "cells": [
    {
      "cell_type": "markdown",
      "metadata": {
        "id": "view-in-github",
        "colab_type": "text"
      },
      "source": [
        "<a href=\"https://colab.research.google.com/github/choi-day/Python-Library-Cookbook/blob/main/pyplib_004.ipynb\" target=\"_parent\"><img src=\"https://colab.research.google.com/assets/colab-badge.svg\" alt=\"Open In Colab\"/></a>"
      ]
    },
    {
      "cell_type": "markdown",
      "source": [
        "025"
      ],
      "metadata": {
        "id": "xaxUVPnnjqI5"
      }
    },
    {
      "cell_type": "code",
      "execution_count": null,
      "metadata": {
        "id": "VRi44fRBjNrQ"
      },
      "outputs": [],
      "source": [
        "data = [\n",
        "    {'name': '이민서', 'blood': 'O'},\n",
        "    {'name': '이영순', 'blood': 'B'},\n",
        "    {'name': '이상호', 'blood': 'AB'},\n",
        "    {'name': '김지민', 'blood': 'B'},\n",
        "    {'name': '최상현', 'blood': 'AB'},\n",
        "    {'name': '김지아', 'blood': 'A'},\n",
        "    {'name': '손우진', 'blood': 'A'},\n",
        "    {'name': '박은주', 'blood': 'A'}\n",
        "]"
      ]
    },
    {
      "cell_type": "code",
      "source": [
        "import itertools\n",
        "data = itertools.groupby(data)\n",
        "\n",
        "import pprint\n",
        "pprint.pprint(list(data))"
      ],
      "metadata": {
        "colab": {
          "base_uri": "https://localhost:8080/"
        },
        "id": "UDlS2JwAn1tQ",
        "outputId": "193b958a-c51f-4bb1-fe7d-7a676caafe03"
      },
      "execution_count": null,
      "outputs": [
        {
          "output_type": "stream",
          "name": "stdout",
          "text": [
            "[({'blood': 'A', 'name': '김지아'}, <itertools._grouper object at 0x7fec720a5910>),\n",
            " ({'blood': 'A', 'name': '손우진'}, <itertools._grouper object at 0x7fec720a5c40>),\n",
            " ({'blood': 'A', 'name': '박은주'}, <itertools._grouper object at 0x7fec720a5be0>),\n",
            " ({'blood': 'AB', 'name': '이상호'},\n",
            "  <itertools._grouper object at 0x7fec720a5b80>),\n",
            " ({'blood': 'AB', 'name': '최상현'},\n",
            "  <itertools._grouper object at 0x7fec720a51f0>),\n",
            " ({'blood': 'B', 'name': '이영순'}, <itertools._grouper object at 0x7fec720a57f0>),\n",
            " ({'blood': 'B', 'name': '김지민'}, <itertools._grouper object at 0x7fec720a51c0>),\n",
            " ({'blood': 'O', 'name': '이민서'}, <itertools._grouper object at 0x7fec720a5af0>)]\n"
          ]
        }
      ]
    },
    {
      "cell_type": "code",
      "source": [
        "import operator\n",
        "\n",
        "data = sorted(data, key=operator.itemgetter('blood'))"
      ],
      "metadata": {
        "id": "sL2wK15-jsQB"
      },
      "execution_count": null,
      "outputs": []
    },
    {
      "cell_type": "code",
      "source": [
        "import pprint\n",
        "pprint.pprint(data)"
      ],
      "metadata": {
        "colab": {
          "base_uri": "https://localhost:8080/"
        },
        "id": "BkiCY8LGj7Kr",
        "outputId": "49b35ab1-c78a-42ed-d5cb-f03f5046b4a0"
      },
      "execution_count": null,
      "outputs": [
        {
          "output_type": "stream",
          "name": "stdout",
          "text": [
            "[{'blood': 'A', 'name': '김지아'},\n",
            " {'blood': 'A', 'name': '손우진'},\n",
            " {'blood': 'A', 'name': '박은주'},\n",
            " {'blood': 'AB', 'name': '이상호'},\n",
            " {'blood': 'AB', 'name': '최상현'},\n",
            " {'blood': 'B', 'name': '이영순'},\n",
            " {'blood': 'B', 'name': '김지민'},\n",
            " {'blood': 'O', 'name': '이민서'}]\n"
          ]
        }
      ]
    },
    {
      "cell_type": "code",
      "source": [
        "grouped_data = itertools.groupby(data, key = operator.itemgetter('blood'))"
      ],
      "metadata": {
        "id": "LakZVIn7j--f"
      },
      "execution_count": null,
      "outputs": []
    },
    {
      "cell_type": "code",
      "source": [
        "result = {}\n",
        "for key, group_data in grouped_data:\n",
        "    result[key] = list(group_data)"
      ],
      "metadata": {
        "id": "Gahi6WlKkRcf"
      },
      "execution_count": null,
      "outputs": []
    },
    {
      "cell_type": "code",
      "source": [
        "pprint.pprint(result)"
      ],
      "metadata": {
        "colab": {
          "base_uri": "https://localhost:8080/"
        },
        "id": "xhqDl8fdkr9u",
        "outputId": "02448624-fe64-4404-8fab-23ec4f74350d"
      },
      "execution_count": null,
      "outputs": [
        {
          "output_type": "stream",
          "name": "stdout",
          "text": [
            "{'A': [{'blood': 'A', 'name': '김지아'},\n",
            "       {'blood': 'A', 'name': '손우진'},\n",
            "       {'blood': 'A', 'name': '박은주'}],\n",
            " 'AB': [{'blood': 'AB', 'name': '이상호'}, {'blood': 'AB', 'name': '최상현'}],\n",
            " 'B': [{'blood': 'B', 'name': '이영순'}, {'blood': 'B', 'name': '김지민'}],\n",
            " 'O': [{'blood': 'O', 'name': '이민서'}]}\n"
          ]
        }
      ]
    },
    {
      "cell_type": "code",
      "source": [
        "data = [\n",
        "    {'name': '이민서', 'blood': 'O'},\n",
        "    {'name': '이영순', 'blood': 'B'},\n",
        "    {'name': '이상호', 'blood': 'AB'},\n",
        "    {'name': '김지민', 'blood': 'B'},\n",
        "    {'name': '최상현', 'blood': 'AB'},\n",
        "    {'name': '김지아', 'blood': 'A'},\n",
        "    {'name': '손우진', 'blood': 'A'},\n",
        "    {'name': '박은주', 'blood': 'A'}\n",
        "]\n",
        "grouped_data = itertools.groupby(data, key = operator.itemgetter('blood'))\n",
        "\n",
        "result = {}\n",
        "for key, group_data in grouped_data:\n",
        "    result[key] = list(group_data)\n",
        "    \n",
        "pprint.pprint(result)"
      ],
      "metadata": {
        "colab": {
          "base_uri": "https://localhost:8080/"
        },
        "id": "ieinp0AEp92B",
        "outputId": "df4a1c08-77df-414d-9057-3eeea957518a"
      },
      "execution_count": null,
      "outputs": [
        {
          "output_type": "stream",
          "name": "stdout",
          "text": [
            "{'A': [{'blood': 'A', 'name': '김지아'},\n",
            "       {'blood': 'A', 'name': '손우진'},\n",
            "       {'blood': 'A', 'name': '박은주'}],\n",
            " 'AB': [{'blood': 'AB', 'name': '최상현'}],\n",
            " 'B': [{'blood': 'B', 'name': '김지민'}],\n",
            " 'O': [{'blood': 'O', 'name': '이민서'}]}\n"
          ]
        }
      ]
    },
    {
      "cell_type": "markdown",
      "source": [
        "026"
      ],
      "metadata": {
        "id": "i6fql1h5k8kn"
      }
    },
    {
      "cell_type": "code",
      "source": [
        "students = ['한민서', '황지민', '이영철', '이광수', '김승민']\n",
        "rewards = ['사탕', '초컬릿', '젤리']\n",
        "\n",
        "result = zip(students, rewards)\n",
        "print(list(result))"
      ],
      "metadata": {
        "colab": {
          "base_uri": "https://localhost:8080/"
        },
        "id": "SDPY1xhZkuSO",
        "outputId": "d414bdf3-e724-4d62-902c-c106adb7a3b4"
      },
      "execution_count": null,
      "outputs": [
        {
          "output_type": "stream",
          "name": "stdout",
          "text": [
            "[('한민서', '사탕'), ('황지민', '초컬릿'), ('이영철', '젤리')]\n"
          ]
        }
      ]
    },
    {
      "cell_type": "code",
      "source": [
        "import itertools\n",
        "\n",
        "students = ['한민서', '황지민', '이영철', '이광수', '김승민']\n",
        "rewards = ['사탕', '초컬릿', '젤리']\n",
        "\n",
        "result = itertools.zip_longest(students, rewards, fillvalue='새우깡')\n",
        "print(list(result))"
      ],
      "metadata": {
        "colab": {
          "base_uri": "https://localhost:8080/"
        },
        "id": "r4V2CBlnlPoQ",
        "outputId": "96b4aeec-c0c6-4d4d-8c4b-7037d08e76d9"
      },
      "execution_count": null,
      "outputs": [
        {
          "output_type": "stream",
          "name": "stdout",
          "text": [
            "[('한민서', '사탕'), ('황지민', '초컬릿'), ('이영철', '젤리'), ('이광수', '새우깡'), ('김승민', '새우깡')]\n"
          ]
        }
      ]
    },
    {
      "cell_type": "markdown",
      "source": [
        "027"
      ],
      "metadata": {
        "id": "4BDx4Lyelqjz"
      }
    },
    {
      "cell_type": "code",
      "source": [
        "import itertools\n",
        "list(itertools.permutations(['1', '2', '3'],2))"
      ],
      "metadata": {
        "colab": {
          "base_uri": "https://localhost:8080/"
        },
        "id": "a0VyfseGldNS",
        "outputId": "af82fe8d-ab56-4b14-b15a-4f6efbac829a"
      },
      "execution_count": null,
      "outputs": [
        {
          "output_type": "execute_result",
          "data": {
            "text/plain": [
              "[('1', '2'), ('1', '3'), ('2', '1'), ('2', '3'), ('3', '1'), ('3', '2')]"
            ]
          },
          "metadata": {},
          "execution_count": 12
        }
      ]
    },
    {
      "cell_type": "code",
      "source": [
        "for a,b in itertools.permutations(['1', '2', '3'],2):\n",
        "    print(a+b)"
      ],
      "metadata": {
        "colab": {
          "base_uri": "https://localhost:8080/"
        },
        "id": "iIqjYnBFnQuQ",
        "outputId": "704e775f-8194-483d-ebc7-8a1f1390b9cc"
      },
      "execution_count": null,
      "outputs": [
        {
          "output_type": "stream",
          "name": "stdout",
          "text": [
            "12\n",
            "13\n",
            "21\n",
            "23\n",
            "31\n",
            "32\n"
          ]
        }
      ]
    },
    {
      "cell_type": "code",
      "source": [
        "list(itertools.combinations(['1', '2', '3'],2))"
      ],
      "metadata": {
        "colab": {
          "base_uri": "https://localhost:8080/"
        },
        "id": "6pQsH9a1s8n5",
        "outputId": "330a2f7b-320f-44ff-b86e-8804071d2331"
      },
      "execution_count": null,
      "outputs": [
        {
          "output_type": "execute_result",
          "data": {
            "text/plain": [
              "[('1', '2'), ('1', '3'), ('2', '3')]"
            ]
          },
          "metadata": {},
          "execution_count": 30
        }
      ]
    },
    {
      "cell_type": "code",
      "source": [
        "list(itertools.combinations_with_replacement(['1', '2', '3'],2))"
      ],
      "metadata": {
        "colab": {
          "base_uri": "https://localhost:8080/"
        },
        "id": "PB8hiDXWtIqR",
        "outputId": "35c3c1f8-5864-4ad7-937b-9532982bf1aa"
      },
      "execution_count": null,
      "outputs": [
        {
          "output_type": "execute_result",
          "data": {
            "text/plain": [
              "[('1', '1'), ('1', '2'), ('1', '3'), ('2', '2'), ('2', '3'), ('3', '3')]"
            ]
          },
          "metadata": {},
          "execution_count": 31
        }
      ]
    },
    {
      "cell_type": "markdown",
      "source": [
        "028"
      ],
      "metadata": {
        "id": "JpYs7DVLnhtg"
      }
    },
    {
      "cell_type": "code",
      "source": [
        "import itertools\n",
        "\n",
        "it = itertools.combinations(range(1, 46),6)"
      ],
      "metadata": {
        "id": "OS1g4Lrznt-B"
      },
      "execution_count": null,
      "outputs": []
    },
    {
      "cell_type": "code",
      "source": [
        "len(list(itertools.combinations(range(1,46), 6)))"
      ],
      "metadata": {
        "colab": {
          "base_uri": "https://localhost:8080/"
        },
        "id": "XN4TUg6voSsQ",
        "outputId": "0c654e01-0684-41f6-87e6-ea6336ec6b7d"
      },
      "execution_count": null,
      "outputs": [
        {
          "output_type": "execute_result",
          "data": {
            "text/plain": [
              "8145060"
            ]
          },
          "metadata": {},
          "execution_count": 16
        }
      ]
    },
    {
      "cell_type": "markdown",
      "source": [
        "029"
      ],
      "metadata": {
        "id": "6vpRePGlo2Fx"
      }
    },
    {
      "cell_type": "code",
      "source": [
        "[(0, 4), (1, 2), (1, -1), (2, 2), (3, 3)]"
      ],
      "metadata": {
        "colab": {
          "base_uri": "https://localhost:8080/"
        },
        "id": "VQ4NhI2epKgB",
        "outputId": "f82b5a67-1f61-4511-a74b-dd643cad9594"
      },
      "execution_count": null,
      "outputs": [
        {
          "output_type": "execute_result",
          "data": {
            "text/plain": [
              "[(0, 4), (1, 2), (1, -1), (2, 2), (3, 3)]"
            ]
          },
          "metadata": {},
          "execution_count": 17
        }
      ]
    },
    {
      "cell_type": "code",
      "source": [
        "import functools"
      ],
      "metadata": {
        "id": "UfIazYpzpOtR"
      },
      "execution_count": null,
      "outputs": []
    },
    {
      "cell_type": "code",
      "source": [
        "def xy_compare(n1, n2):\n",
        "    if n1[1] > n2[1]:\n",
        "        return 1\n",
        "    elif n1[1] == n2[1]:\n",
        "        if n1[0] > n2[0]:\n",
        "            return 1\n",
        "        elif n1[0] == n2[0]:\n",
        "            return 0\n",
        "        else :\n",
        "            return -1\n",
        "    else: \n",
        "        return -1\n",
        "src = [(0, 4), (1, 2), (1, -1), (2, 2), (3, 3)]\n",
        "result = sorted(src, key = functools.cmp_to_key(xy_compare))"
      ],
      "metadata": {
        "id": "2zOzugmopSLg"
      },
      "execution_count": null,
      "outputs": []
    },
    {
      "cell_type": "code",
      "source": [
        "print(result)"
      ],
      "metadata": {
        "colab": {
          "base_uri": "https://localhost:8080/"
        },
        "id": "5QWF-3DHqyTq",
        "outputId": "d968599f-a839-457d-a34f-86c2dfb17895"
      },
      "execution_count": null,
      "outputs": [
        {
          "output_type": "stream",
          "name": "stdout",
          "text": [
            "[(1, -1), (1, 2), (2, 2), (3, 3), (0, 4)]\n"
          ]
        }
      ]
    },
    {
      "cell_type": "markdown",
      "source": [
        "030"
      ],
      "metadata": {
        "id": "GTi2DCtaq4xy"
      }
    },
    {
      "cell_type": "code",
      "source": [
        "import urllib.request\n",
        "\n",
        "def get_wikidocs(page):\n",
        "    print(\"wikidocs page:{}\".format(page))\n",
        "    resource = 'https://wikidocs.net/{}'.format(page)\n",
        "    try:\n",
        "        with urllib.request.urlopen(resource) as s:\n",
        "            return s.read()\n",
        "    except urllib.error.HTTPError:\n",
        "        return'Not Found'"
      ],
      "metadata": {
        "id": "zEyIAdI2q7bi"
      },
      "execution_count": null,
      "outputs": []
    },
    {
      "cell_type": "code",
      "source": [
        "pprint.pprint(get_wikidocs(1))"
      ],
      "metadata": {
        "colab": {
          "base_uri": "https://localhost:8080/"
        },
        "id": "Jtg1_kbG2fj0",
        "outputId": "0ec669c8-b12d-40c9-94a6-f24137e78511"
      },
      "execution_count": null,
      "outputs": [
        {
          "output_type": "stream",
          "name": "stdout",
          "text": [
            "wikidocs page:1\n",
            "(b'\\n<!DOCTYPE HTML>\\n<html lang=\"ko\">\\n<head>\\n    <meta http-equiv=\"Content-T'\n",
            " b'ype\" content=\"text/html; charset=utf-8\">\\n    <meta name=\"viewport\" conte'\n",
            " b'nt=\"width=device-width, initial-scale=1.0\">\\n    <meta name=\"google-site-'\n",
            " b'verification\" content=\"mzkAy71X1qQFWihQN535LoiToXg34MUg9nuor7Og9E8\" />\\n '\n",
            " b'   <meta name=\"naver-site-verification\" content=\"d7c116bce998e6961b8db93c859'\n",
            " b'2550f1a82119f\"/>\\n    <meta name=\"description\" content=\"\\xec\\x98\\xa8\\xeb\\x9d'\n",
            " b'\\xbc\\xec\\x9d\\xb8 \\xec\\xb1\\x85\\xec\\x9d\\x84 \\xec\\xa0\\x9c\\xec\\x9e\\x91 \\xea'\n",
            " b'\\xb3\\xb5\\xec\\x9c\\xa0\\xed\\x95\\x98\\xeb\\x8a\\x94 \\xed\\x94\\x8c\\xeb'\n",
            " b'\\x9e\\xab\\xed\\x8f\\xbc \\xec\\x84\\x9c\\xeb\\xb9\\x84\\xec\\x8a\\xa4\">\\n\\n    \\n    '\n",
            " b'<meta property=\"og:type\" content=\"wikidocs\">\\n    <meta property=\"og:titl'\n",
            " b'e\" content=\"\\xec\\x9c\\x84\\xed\\x82\\xa4\\xeb\\x8f\\x85\\xec\\x8a\\xa4\">\\n    <meta'\n",
            " b' property=\"og:description\" content=\"\\xec\\x98\\xa8\\xeb\\x9d\\xbc\\xec\\x9d'\n",
            " b'\\xb8 \\xec\\xb1\\x85\\xec\\x9d\\x84 \\xec\\xa0\\x9c\\xec\\x9e\\x91 \\xea\\xb3\\xb5\\xec'\n",
            " b'\\x9c\\xa0\\xed\\x95\\x98\\xeb\\x8a\\x94 \\xed\\x94\\x8c\\xeb\\x9e\\xab\\xed\\x8f\\xbc \\xec'\n",
            " b'\\x84\\x9c\\xeb\\xb9\\x84\\xec\\x8a\\xa4\">\\n    <meta property=\"og:image\" content'\n",
            " b'=\"https://wikidocs.net/images/book/wikidocs_1.png\">\\n    <meta property=\"'\n",
            " b'og:url\" content=\"https://wikidocs.net\">\\n    \\n\\n    <link rel=\"shortcut ic'\n",
            " b'on\" type=\"image/x-icon\" href=\"/static/img/favicon.ico\">\\n    <link rel=\"c'\n",
            " b'anonical\" href=\"https://wikidocs.net/book/1\">\\n    <title>\\xec\\x9c\\x84'\n",
            " b'\\xed\\x82\\xa4\\xeb\\x8f\\x85\\xec\\x8a\\xa4</title>\\n\\n    <!-- Latest compiled '\n",
            " b'and minified CSS -->\\n    <link rel=\"stylesheet\" href=\"https://maxcdn.boo'\n",
            " b'tstrapcdn.com/bootstrap/3.3.7/css/bootstrap.min.css\" integrity=\"sha384-BVYii'\n",
            " b'SIFeK1dGmJRAkycuHAHRg32OmUcww7on3RYdg4Va+PmSTsz/K68vbdEjh4u\" crossorigin=\"an'\n",
            " b'onymous\">\\n\\n    <!-- Optional theme\\n    <link rel=\"stylesheet\" href=\"http'\n",
            " b's://maxcdn.bootstrapcdn.com/bootstrap/3.3.7/css/bootstrap-theme.min.css\" int'\n",
            " b'egrity=\"sha384-rHyoN1iRsVXV4nD0JutlnGaslCJuC7uwjduW9SVrLvRYooPp2bWYgmgJQIXwl'\n",
            " b'/Sp\" crossorigin=\"anonymous\">\\n    -->\\n\\n    <!-- HTML5 shim and Respond.j'\n",
            " b's IE8 support of HTML5 elements and media queries -->\\n    <!--[if lt IE '\n",
            " b'9]>\\n    <script src=\"https://oss.maxcdn.com/html5shiv/3.7.3/html5shiv.mi'\n",
            " b'n.js\"></script>\\n    <script src=\"https://oss.maxcdn.com/respond/1.4.2/re'\n",
            " b'spond.min.js\"></script>\\n    <![endif]-->\\n\\n    \\n<link type=\"text/css\" hre'\n",
            " b'f=\"/static/pagination/pagination.css\" rel=\"stylesheet\"/>\\n<link type=\"tex'\n",
            " b't/css\" href=\"/static/apprise/apprise.min.css\" rel=\"stylesheet\"  />\\n\\n    '\n",
            " b'<link type=\"text/css\" href=\"/static/book/css/style_stack.css?v=20221206_02\" '\n",
            " b'rel=\"stylesheet\"  media=\"screen\" />\\n    <script src=\"https://ajax.google'\n",
            " b'apis.com/ajax/libs/jquery/1.12.4/jquery.min.js\"></script>\\n    <script sr'\n",
            " b'c=\"https://maxcdn.bootstrapcdn.com/bootstrap/3.3.7/js/bootstrap.min.js\" inte'\n",
            " b'grity=\"sha384-Tc5IQib027qvyjSMfHjOMaLkfuWVxZxUPnCJA7l2mCWNIpG9mGCD8wGNIcPD7T'\n",
            " b'xa\" crossorigin=\"anonymous\"></script>\\n    <script type=\"text/javascript\"'\n",
            " b' src=\"/static/book/js/utils.js\"></script>\\n    <script type=\"text/javascr'\n",
            " b'ipt\" src=\"/static/book/js/base.js?v=20210908_02\"></script>\\n    \\n<script '\n",
            " b'type=\"text/javascript\" src=\"/static/pagination/jquery.pagination.js\"></scrip'\n",
            " b't>\\n<script type=\"text/javascript\" src=\"/static/apprise/apprise-1.5.min.j'\n",
            " b's\"></script>\\n<script type=\"text/javascript\" src=\"/static/book/js/index.j'\n",
            " b's?v=20170528_01\"></script>\\n\\n    <script type=\"text/javascript\">\\n      va'\n",
            " b\"r _gaq = _gaq || [];\\n      _gaq.push(['_setAccount', 'UA-2686629-3']);\\n \"\n",
            " b\"     _gaq.push(['_trackPageview']);\\n\\n      (function() {\\n        var ga \"\n",
            " b\"= document.createElement('script'); ga.type = 'text/javascript'; ga.async = \"\n",
            " b\"true;\\n        ga.src = ('https:' == document.location.protocol ? 'https:\"\n",
            " b\"//ssl' : 'http://www') + '.google-analytics.com/ga.js';\\n        var s = \"\n",
            " b\"document.getElementsByTagName('script')[0]; s.parentNode.insertBefore(ga, s)\"\n",
            " b';\\n      })();\\n    </script>\\n    <!-- Global site tag (gtag.js) - Google '\n",
            " b'Analytics -->\\n    <script async src=\"https://www.googletagmanager.com/gt'\n",
            " b'ag/js?id=G-6N5MJRGLWG\"></script>\\n    <script>\\n      window.dataLayer = w'\n",
            " b'indow.dataLayer || [];\\n      function gtag(){dataLayer.push(arguments);}'\n",
            " b\"\\n      gtag('js', new Date());\\n\\n      gtag('config', 'G-6N5MJRGLWG');\\n  \"\n",
            " b'  </script>\\n</head>\\n<body>\\n\\n\\n<nav class=\"navbar navbar-inverse navba'\n",
            " b'r-static-top\">\\n    <div class=\"container\">\\n        <div class=\"navbar-he'\n",
            " b'ader\">\\n            <button type=\"button\" class=\"navbar-toggle\" data-togg'\n",
            " b'le=\"collapse\" data-target=\".navbar-collapse\">\\n                <span clas'\n",
            " b's=\"icon-bar\"></span>\\n                <span class=\"icon-bar\"></span>\\n    '\n",
            " b'            <span class=\"icon-bar\"></span>\\n            </button>\\n       '\n",
            " b'     <a class=\"navbar-brand logo\" href=\"/\">\\n                WikiDocs\\n   '\n",
            " b'         </a>\\n\\n            <a class=\"navbar-brand navbar-adv\" href=\"http'\n",
            " b's://wikidocs.net/190501\">\\n                <span class=\"text-warning\" sty'\n",
            " b'le=\"font-size:12px;font-weight:bold;color:orange\"><span class=\"glyphicon gly'\n",
            " b'phicon-volume-up\"></span>\\n                    \\xec\\x9c\\x84\\xed\\x82\\xa4'\n",
            " b'\\xeb\\x8f\\x85\\xec\\x8a\\xa4 \\xed\\x8f\\xac\\xec\\x9d\\xb8\\xed\\x8a\\xb8 \\xea\\xb4\\x91'\n",
            " b'\\xea\\xb3\\xa0 \\xec\\x84\\x9c\\xeb\\xb9\\x84\\xec\\x8a\\xa4 \\xec\\xb6\\x9c\\xec\\x8b\\x9c'\n",
            " b'!\\n                </span>\\n            </a>\\n\\n        </div>\\n        <'\n",
            " b'div class=\"navbar-collapse collapse\">\\n            <ul class=\"nav navbar-'\n",
            " b'nav navbar-right\">\\n                \\n                <li><a href=\"/loginF'\n",
            " b'orm\"><i class=\"glyphicon glyphicon-log-in\"></i> \\xeb\\xa1\\x9c\\xea'\n",
            " b'\\xb7\\xb8\\xec\\x9d\\xb8</a></li>\\n                \\n            </ul>\\n      '\n",
            " b'  </div><!--/.navbar-collapse -->\\n    </div>\\n\\n</nav>\\n\\n\\n\\n<div class=\"'\n",
            " b'jumbotron\">\\n    <div class=\"container\">\\n\\n        <div class=\"row\">\\n     '\n",
            " b'       <div class=\"col-sm-6\">\\n                <h1 class=\"logo\">WikiDocs<'\n",
            " b'/h1>\\n                <p style=\"margin-top:10px\">\\n                   '\n",
            " b' \\xec\\x9c\\x84\\xed\\x82\\xa4\\xeb\\x8f\\x85\\xec\\x8a\\xa4\\xeb\\x8a\\x94 \\xec\\x98\\xa8'\n",
            " b'\\xeb\\x9d\\xbc\\xec\\x9d\\xb8 \\xec\\xb1\\x85\\xec\\x9d\\x84 \\xec\\xa0\\x9c\\xec\\x9e\\x91'\n",
            " b' \\xea\\xb3\\xb5\\xec\\x9c\\xa0\\xed\\x95\\x98\\xeb\\x8a\\x94 \\xed\\x94\\x8c\\xeb\\x9e\\xab'\n",
            " b'\\xed\\x8f\\xbc \\xec\\x84\\x9c\\xeb\\xb9\\x84\\xec\\x8a\\xa4\\xec\\x9e\\x85'\n",
            " b'\\xeb\\x8b\\x88\\xeb\\x8b\\xa4.\\n                </p>\\n                <p><a href='\n",
            " b'\"/help/wikidocs\" class=\"btn btn-primary btn-lg\">\\xec\\x9e\\x90\\xec'\n",
            " b'\\x84\\xb8\\xed\\x9e\\x88 \\xec\\x95\\x8c\\xec\\x95\\x84\\xeb\\xb3\\xb4\\xea\\xb8\\xb0 &raqu'\n",
            " b'o;</a></p>\\n\\n                <div style=\"margin-top:20px;\">\\n             '\n",
            " b'       <a class=\"text-primary\" href=\"https://wikidocs.net/190501\">\\n     '\n",
            " b'                   <span class=\"glyphicon glyphicon-volume-up\"></span>\\n '\n",
            " b'                       \\xec\\x9c\\x84\\xed\\x82\\xa4\\xeb\\x8f\\x85\\xec\\x8a\\xa4 '\n",
            " b'\\xed\\x8f\\xac\\xec\\x9d\\xb8\\xed\\x8a\\xb8 \\xea\\xb4\\x91\\xea\\xb3\\xa0 \\xec\\x84\\x9c'\n",
            " b'\\xeb\\xb9\\x84\\xec\\x8a\\xa4 \\xec\\xb6\\x9c\\xec\\x8b\\x9c (2023\\xeb\\x85\\x84 2'\n",
            " b'\\xec\\x9b\\x94)\\n                    </a>\\n                </div>\\n\\n      '\n",
            " b'          <div style=\"margin-top:5px;margin-bottom:20px\">\\n              '\n",
            " b'      <a class=\"text-primary\" href=\"https://wikidocs.net/150\">\\n         '\n",
            " b'               <span class=\"glyphicon glyphicon-volume-up\"></span>\\n     '\n",
            " b'                   \\xec\\x9c\\x84\\xed\\x82\\xa4\\xeb\\x8f\\x85\\xec\\x8a\\xa4 '\n",
            " b'\\xec\\xa0\\x84\\xec\\x9e\\x90\\xec\\xb1\\x85 \\xec\\x84\\x9c\\xeb\\xb9\\x84\\xec\\x8a\\xa4 '\n",
            " b'\\xec\\x8b\\x9c\\xec\\x9e\\x91 (2022\\xeb\\x85\\x84 11\\xec\\x9b\\x94)\\n             '\n",
            " b'       </a>\\n                </div>\\n                \\n            </div>\\n '\n",
            " b'           \\n        </div>\\n\\n        \\n    </div>\\n</div>\\n\\n\\n\\n\\n\\n\\n<di'\n",
            " b'v class=\"container\">\\n    <div class=\"index\">\\n        <input type=\"hidden'\n",
            " b'\" name=\"tab_name\" id=\"tab_name\" value=\"sell\" />\\n        <input type=\"hid'\n",
            " b'den\" name=\"tab_sort_type\" id=\"tab_sort_type\" value=\"recommend\" />\\n\\n     '\n",
            " b'   <ul class=\"nav nav-tabs\" id=\"book-tab\">\\n            <li book=\"sell\"><'\n",
            " b'a href=\"#_\">\\xec\\xb6\\x94\\xec\\xb2\\x9c\\xec\\xb1\\x85</a></li>\\n            <'\n",
            " b'!--\\n            <li book=\"share\"><a href=\"#_\">\\xea\\xb3\\xb5\\xec\\x9c\\xa0'\n",
            " b'\\xec\\xb1\\x85</a></li>\\n            -->\\n            <li book=\"all\"><a href='\n",
            " b'\"#_\">\\xea\\xb3\\xb5\\xea\\xb0\\x9c\\xec\\xb1\\x85</a></li>\\n            <li book=\"eb'\n",
            " b'ook\"><a href=\"#_\">\\xec\\xa0\\x84\\xec\\x9e\\x90\\xec\\xb1\\x85</a></li>\\n           '\n",
            " b' \\n        </ul>\\n\\n        <div class=\"row\">\\n            <div class=\"col-s'\n",
            " b'm-6\" style=\"margin-top:20px;margin-bottom:20px;\">\\n\\n                <div '\n",
            " b'class=\"btn-group sort-type-group\" data-toggle=\"buttons\">\\n               '\n",
            " b'   <label sort_type=\"recommend\" class=\"btn btn-default btn-sm\">\\n        '\n",
            " b'            <input type=\"radio\" name=\"sort_type\" id=\"sort_type_recommend\" au'\n",
            " b'tocomplete=\"off\" value=\\'recommend\\'> \\xec\\xb6\\x94\\xec\\xb2\\x9c\\xec\\x88'\n",
            " b'\\x9c\\n                  </label>\\n                  <label sort_type=\"pop'\n",
            " b'ular\" class=\"btn btn-default btn-sm\">\\n                    <input type=\"r'\n",
            " b'adio\" name=\"sort_type\" id=\"sort_type_popular\" autocomplete=\"off\" value=\\''\n",
            " b\"popular'> \\xec\\x9d\\xb8\\xea\\xb8\\xb0\\xec\\x88\\x9c\\n                  </labe\"\n",
            " b'l>\\n                  <label sort_type=\"recent\" class=\"btn btn-default bt'\n",
            " b'n-sm\">\\n                    <input type=\"radio\" name=\"sort_type\" id=\"sort'\n",
            " b'_type_recent\" autocomplete=\"off\" value=\\'recent\\'> \\xec\\xb5\\x9c'\n",
            " b'\\xec\\x8b\\xa0\\xec\\x88\\x9c\\n                  </label>\\n                </div>'\n",
            " b'\\n            </div>\\n\\n            <div class=\"col-sm-4\" style=\"margin-top'\n",
            " b':20px;margin-bottom:20px;\">\\n                <div class=\"input-group\">\\n  '\n",
            " b'                  <input type=\"text\" id=\"kw\" name=\"kw\" class=\"form-control i'\n",
            " b'nput-sm\" placeholder=\"\\xec\\xb1\\x85\\xec\\xa0\\x9c\\xeb\\xaa\\xa9 \\xeb\\x98\\x90\\xeb'\n",
            " b'\\x8a\\x94 \\xec\\xa7\\x80\\xec\\x9d\\x80\\xec\\x9d\\xb4\\xeb\\xa5\\xbc \\xec\\x9e\\x85\\xeb'\n",
            " b'\\xa0\\xa5\\xed\\x95\\x98\\xec\\x84\\xb8\\xec\\x9a\\x94\">\\n                    <span '\n",
            " b'class=\"input-group-btn\">\\n                        <button id=\"search-book'\n",
            " b'-btn\" class=\"btn btn-sm btn-default\" type=\"button\">\\xec\\xb1\\x85\\xea\\xb2'\n",
            " b'\\x80\\xec\\x83\\x89</button>\\n                    </span>\\n                </'\n",
            " b'div>\\n            </div>\\n        </div>\\n\\n        <div class=\"tab-content\"'\n",
            " b'>\\n            <div id=\"books\" style=\"margin-top:10px;\">\\n                '\n",
            " b'\\n\\n\\n\\n\\n<div class=\"row book-item\">\\n\\n    <div class=\"col-sm-6\" style=\"m'\n",
            " b'argin-bottom:20px;\">\\n        <div class=\"media\">\\n            <div class='\n",
            " b'\"media-left\">\\n                <a href=\"/book/1\">\\n                    <di'\n",
            " b'v class=\"book-image-box\">\\n                        <img src=\"/images//boo'\n",
            " b'k/j2p_title_new2_S1JyeeE.jpg\" class=\"book-image\" />\\n                    '\n",
            " b'</div>\\n                </a>\\n            </div>\\n            <div class=\"m'\n",
            " b'edia-body\">\\n                <h4 class=\"media-heading\">\\n                 '\n",
            " b'   \\n                    <a href=\"/book/1\" class=\"book-subject\">\\xec'\n",
            " b'\\xa0\\x90\\xed\\x94\\x84 \\xed\\x88\\xac \\xed\\x8c\\x8c\\xec\\x9d\\xb4\\xec\\x8d\\xac</a>\\n'\n",
            " b'                </h4>\\n                <div class=\"book-detail\">\\n        '\n",
            " b'            <div>\\n                        -\\n                        \\n   '\n",
            " b'                     <a class=\"menu_link\" href=\"/profile/info/book/3'\n",
            " b'\">\\xeb\\xb0\\x95\\xec\\x9d\\x91\\xec\\x9a\\xa9</a>\\n                        \\n   '\n",
            " b'                 </div>\\n\\n                    <div>\\n                     '\n",
            " b'   - 2023\\xeb\\x85\\x84 03\\xec\\x9b\\x94 30\\xec\\x9d\\xbc\\n                    </d'\n",
            " b'iv>\\n\\n                    <div style=\"margin-top:0px;\">\\n                 '\n",
            " b'       - <a style=\"font-size:11px\" href=\"javascript:recommend_book(\\'1\\')\"'\n",
            " b'\\n                             class=\"btn btn-default btn-xs\" title=\"'\n",
            " b'\\xec\\xb6\\x94\\xec\\xb2\\x9c\"><i class=\"glyphicon glyphicon-thumbs-up\"></i>\\n  '\n",
            " b'                      <strong>4,341</strong> \\xeb\\xaa\\x85\\xec\\x9d\\xb4 '\n",
            " b'\\xec\\xb6\\x94\\xec\\xb2\\x9c</a>\\n                    </div>\\n\\n             '\n",
            " b'       \\n                    <div style=\"margin-top:3px;\">\\n              '\n",
            " b'          - <a href=\"/buy/ebook/1\" class=\"label label-default label-warning\"'\n",
            " b'>e-book</a>\\n                    </div>\\n                    \\n            '\n",
            " b'    </div>\\n            </div>\\n        </div>\\n    </div>\\n\\n\\n\\n    <div '\n",
            " b'class=\"col-sm-6\" style=\"margin-bottom:20px;\">\\n        <div class=\"media\"'\n",
            " b'>\\n            <div class=\"media-left\">\\n                <a href=\"/book/21'\n",
            " b'55\">\\n                    <div class=\"book-image-box\">\\n                  '\n",
            " b'      <img src=\"/images//book/\\xed\\x91\\x9c\\xec\\xa7\\x80\\xec\\x88\\x98\\xec'\n",
            " b'\\xa0\\x95_S6qIVUn.png\" class=\"book-image\" />\\n                    </div>\\n   '\n",
            " b'             </a>\\n            </div>\\n            <div class=\"media-body\"'\n",
            " b'>\\n                <h4 class=\"media-heading\">\\n                    \\n      '\n",
            " b'              <a href=\"/book/2155\" class=\"book-subject\">\\xeb\\x94\\xa5 '\n",
            " b'\\xeb\\x9f\\xac\\xeb\\x8b\\x9d\\xec\\x9d\\x84 \\xec\\x9d\\xb4\\xec\\x9a\\xa9\\xed\\x95\\x9c '\n",
            " b'\\xec\\x9e\\x90\\xec\\x97\\xb0\\xec\\x96\\xb4 \\xec\\xb2\\x98\\xeb\\xa6\\xac \\xec\\x9e\\x85'\n",
            " b'\\xeb\\xac\\xb8</a>\\n                </h4>\\n                <div class=\"book-d'\n",
            " b'etail\">\\n                    <div>\\n                        -\\n            '\n",
            " b'            \\n                        <a class=\"menu_link\" href=\"/profile'\n",
            " b'/info/book/6876\">\\xec\\x95\\x88\\xec\\x83\\x81\\xec\\xa4\\x80, \\xec\\x9c\\xa0\\xec'\n",
            " b'\\x9b\\x90\\xec\\xa4\\x80</a>\\n                        \\n                    <'\n",
            " b'/div>\\n\\n                    <div>\\n                        - 2023\\xeb'\n",
            " b'\\x85\\x84 03\\xec\\x9b\\x94 21\\xec\\x9d\\xbc\\n                    </div>\\n\\n     '\n",
            " b'               <div style=\"margin-top:0px;\">\\n                        - <'\n",
            " b'a style=\"font-size:11px\" href=\"javascript:recommend_book(\\'2155\\')\"\\n      '\n",
            " b'                       class=\"btn btn-default btn-xs\" title=\"\\xec\\xb6\\x94'\n",
            " b'\\xec\\xb2\\x9c\"><i class=\"glyphicon glyphicon-thumbs-up\"></i>\\n             '\n",
            " b'           <strong>2,955</strong> \\xeb\\xaa\\x85\\xec\\x9d\\xb4 \\xec\\xb6\\x94'\n",
            " b'\\xec\\xb2\\x9c</a>\\n                    </div>\\n\\n                    \\n   '\n",
            " b'                 <div style=\"margin-top:3px;\">\\n                        -'\n",
            " b' <a href=\"/buy/ebook/2155\" class=\"label label-default label-warning\">e-book<'\n",
            " b'/a>\\n                    </div>\\n                    \\n                </di'\n",
            " b'v>\\n            </div>\\n        </div>\\n    </div>\\n\\n</div>\\n\\n\\n\\n<div '\n",
            " b'class=\"row book-item\">\\n\\n    <div class=\"col-sm-6\" style=\"margin-bottom:2'\n",
            " b'0px;\">\\n        <div class=\"media\">\\n            <div class=\"media-left\">\\n'\n",
            " b'                <a href=\"/book/110\">\\n                    <div class=\"boo'\n",
            " b'k-image-box\">\\n                        <img src=\"/images//book/python_fPn'\n",
            " b'Jy3Q.jpg\" class=\"book-image\" />\\n                    </div>\\n             '\n",
            " b'   </a>\\n            </div>\\n            <div class=\"media-body\">\\n        '\n",
            " b'        <h4 class=\"media-heading\">\\n                    \\n                '\n",
            " b'    <a href=\"/book/110\" class=\"book-subject\">\\xed\\x8c\\x8c\\xec\\x9d\\xb4\\xec'\n",
            " b'\\x8d\\xac\\xec\\x9c\\xbc\\xeb\\xa1\\x9c \\xeb\\xb0\\xb0\\xec\\x9a\\xb0\\xeb\\x8a\\x94 \\xec'\n",
            " b'\\x95\\x8c\\xea\\xb3\\xa0\\xeb\\xa6\\xac\\xec\\xa6\\x98 \\xed\\x8a\\xb8\\xeb'\n",
            " b'\\xa0\\x88\\xec\\x9d\\xb4\\xeb\\x94\\xa9 (\\xea\\xb0\\x9c\\xec\\xa0\\x95\\xed\\x8c\\x90-'\n",
            " b'2\\xec\\x87\\x84)</a>\\n                </h4>\\n                <div class=\"book'\n",
            " b'-detail\">\\n                    <div>\\n                        -\\n          '\n",
            " b'              \\n                        <a class=\"menu_link\" href=\"/profi'\n",
            " b'le/info/book/400\">\\xec\\xa1\\xb0\\xeb\\x8c\\x80\\xed\\x91\\x9c</a> \\xec\\x99\\xb8 '\n",
            " b'1\\xeb\\xaa\\x85\\n                        \\n                    </div>\\n\\n  '\n",
            " b'                  <div>\\n                        - 2023\\xeb\\x85\\x84 01'\n",
            " b'\\xec\\x9b\\x94 08\\xec\\x9d\\xbc\\n                    </div>\\n\\n              '\n",
            " b'      <div style=\"margin-top:0px;\">\\n                        - <a style=\"'\n",
            " b'font-size:11px\" href=\"javascript:recommend_book(\\'110\\')\"\\n                '\n",
            " b'             class=\"btn btn-default btn-xs\" title=\"\\xec\\xb6\\x94\\xec\\xb2'\n",
            " b'\\x9c\"><i class=\"glyphicon glyphicon-thumbs-up\"></i>\\n                       '\n",
            " b' <strong>2,513</strong> \\xeb\\xaa\\x85\\xec\\x9d\\xb4 \\xec\\xb6\\x94\\xec\\xb2\\x9c</a'\n",
            " b'>\\n                    </div>\\n\\n                    \\n                </div'\n",
            " b'>\\n            </div>\\n        </div>\\n    </div>\\n\\n\\n\\n    <div class=\"co'\n",
            " b'l-sm-6\" style=\"margin-bottom:20px;\">\\n        <div class=\"media\">\\n       '\n",
            " b'     <div class=\"media-left\">\\n                <a href=\"/book/31\">\\n      '\n",
            " b'              <div class=\"book-image-box\">\\n                        <img '\n",
            " b'src=\"/images//book/javalogo_1.gif\" class=\"book-image\" />\\n               '\n",
            " b'     </div>\\n                </a>\\n            </div>\\n            <div cla'\n",
            " b'ss=\"media-body\">\\n                <h4 class=\"media-heading\">\\n            '\n",
            " b'        \\n                    <a href=\"/book/31\" class=\"book-subject\"'\n",
            " b'>\\xec\\xa0\\x90\\xed\\x94\\x84 \\xed\\x88\\xac \\xec\\x9e\\x90\\xeb\\xb0\\x94</a>\\n     '\n",
            " b'           </h4>\\n                <div class=\"book-detail\">\\n             '\n",
            " b'       <div>\\n                        -\\n                        \\n        '\n",
            " b'                <a class=\"menu_link\" href=\"/profile/info/book/3\"'\n",
            " b'>\\xeb\\xb0\\x95\\xec\\x9d\\x91\\xec\\x9a\\xa9</a>\\n                        \\n    '\n",
            " b'                </div>\\n\\n                    <div>\\n                      '\n",
            " b'  - 2023\\xeb\\x85\\x84 02\\xec\\x9b\\x94 23\\xec\\x9d\\xbc\\n                    </di'\n",
            " b'v>\\n\\n                    <div style=\"margin-top:0px;\">\\n                  '\n",
            " b'      - <a style=\"font-size:11px\" href=\"javascript:recommend_book(\\'31\\')\"'\n",
            " b'\\n                             class=\"btn btn-default btn-xs\" title=\"'\n",
            " b'\\xec\\xb6\\x94\\xec\\xb2\\x9c\"><i class=\"glyphicon glyphicon-thumbs-up\"></i>\\n  '\n",
            " b'                      <strong>1,341</strong> \\xeb\\xaa\\x85\\xec\\x9d\\xb4 '\n",
            " b'\\xec\\xb6\\x94\\xec\\xb2\\x9c</a>\\n                    </div>\\n\\n             '\n",
            " b'       \\n                    <div style=\"margin-top:3px;\">\\n              '\n",
            " b'          - <a href=\"/buy/ebook/31\" class=\"label label-default label-warning'\n",
            " b'\">e-book</a>\\n                    </div>\\n                    \\n           '\n",
            " b'     </div>\\n            </div>\\n        </div>\\n    </div>\\n\\n</div>'\n",
            " b'\\n\\n\\n\\n<div class=\"row book-item\">\\n\\n    <div class=\"col-sm-6\" style=\"ma'\n",
            " b'rgin-bottom:20px;\">\\n        <div class=\"media\">\\n            <div class=\"'\n",
            " b'media-left\">\\n                <a href=\"/book/2\">\\n                    <div'\n",
            " b' class=\"book-image-box\">\\n                        <img src=\"/images//book'\n",
            " b'/chobo_python_title.png\" class=\"book-image\" />\\n                    </div'\n",
            " b'>\\n                </a>\\n            </div>\\n            <div class=\"media-'\n",
            " b'body\">\\n                <h4 class=\"media-heading\">\\n                    \\n '\n",
            " b'                   <a href=\"/book/2\" class=\"book-subject\">\\xec\\x99'\n",
            " b'\\x95\\xec\\xb4\\x88\\xeb\\xb3\\xb4\\xeb\\xa5\\xbc \\xec\\x9c\\x84\\xed\\x95\\x9c Python'\n",
            " b': \\xec\\x89\\xbd\\xea\\xb2\\x8c \\xed\\x92\\x80\\xec\\x96\\xb4 \\xec\\x93\\xb4 '\n",
            " b'\\xea\\xb8\\xb0\\xec\\xb4\\x88 \\xeb\\xac\\xb8\\xeb\\xb2\\x95\\xea\\xb3\\xbc \\xec\\x8b\\xa4'\n",
            " b'\\xec\\x8a\\xb5</a>\\n                </h4>\\n                <div class=\"book-d'\n",
            " b'etail\">\\n                    <div>\\n                        -\\n            '\n",
            " b'            \\n                        <a class=\"menu_link\" href=\"/profile'\n",
            " b'/info/book/4\">\\xec\\xa0\\x84\\xeb\\x87\\x8c\\xed\\x95\\xb4\\xec\\xbb\\xa4</a>\\n     '\n",
            " b'                   \\n                    </div>\\n\\n                    <div'\n",
            " b'>\\n                        - 2023\\xeb\\x85\\x84 03\\xec\\x9b\\x94 22'\n",
            " b'\\xec\\x9d\\xbc\\n                    </div>\\n\\n                    <div style=\"'\n",
            " b'margin-top:0px;\">\\n                        - <a style=\"font-size:11px\" hr'\n",
            " b'ef=\"javascript:recommend_book(\\'2\\')\"\\n                             class=\"'\n",
            " b'btn btn-default btn-xs\" title=\"\\xec\\xb6\\x94\\xec\\xb2\\x9c\"><i class=\"glyphic'\n",
            " b'on glyphicon-thumbs-up\"></i>\\n                        <strong>849</strong'\n",
            " b'> \\xeb\\xaa\\x85\\xec\\x9d\\xb4 \\xec\\xb6\\x94\\xec\\xb2\\x9c</a>\\n                '\n",
            " b'    </div>\\n\\n                    \\n                    <div style=\"margin-'\n",
            " b'top:3px;\">\\n                        - <a href=\"/buy/ebook/2\" class=\"label'\n",
            " b' label-default label-warning\">e-book</a>\\n                    </div>\\n    '\n",
            " b'                \\n                </div>\\n            </div>\\n        </div'\n",
            " b'>\\n    </div>\\n\\n\\n\\n    <div class=\"col-sm-6\" style=\"margin-bottom:20px;'\n",
            " b'\">\\n        <div class=\"media\">\\n            <div class=\"media-left\">\\n    '\n",
            " b'            <a href=\"/book/2788\">\\n                    <div class=\"book-i'\n",
            " b'mage-box\">\\n                        <img src=\"/images//book/1_t6hCM90evdn'\n",
            " b'lPw4l9VK3AQ.png\" class=\"book-image\" />\\n                    </div>\\n      '\n",
            " b'          </a>\\n            </div>\\n            <div class=\"media-body\">\\n '\n",
            " b'               <h4 class=\"media-heading\">\\n                    \\n         '\n",
            " b'           <a href=\"/book/2788\" class=\"book-subject\">PyTorch\\xeb\\xa1\\x9c '\n",
            " b'\\xec\\x8b\\x9c\\xec\\x9e\\x91\\xed\\x95\\x98\\xeb\\x8a\\x94 \\xeb\\x94\\xa5 \\xeb\\x9f\\xac'\n",
            " b'\\xeb\\x8b\\x9d \\xec\\x9e\\x85\\xeb\\xac\\xb8</a>\\n                </h4>\\n       '\n",
            " b'         <div class=\"book-detail\">\\n                    <div>\\n           '\n",
            " b'             -\\n                        \\n                        <a class'\n",
            " b'=\"menu_link\" href=\"/profile/info/book/6876\">\\xec\\x95\\x88\\xec\\x83\\x81\\xec\\xa4'\n",
            " b'\\x80, \\xec\\x9c\\xa0\\xec\\x9b\\x90\\xec\\xa4\\x80</a>\\n                        \\n  '\n",
            " b'                  </div>\\n\\n                    <div>\\n                    '\n",
            " b'    - 2023\\xeb\\x85\\x84 04\\xec\\x9b\\x94 04\\xec\\x9d\\xbc\\n                    </'\n",
            " b'div>\\n\\n                    <div style=\"margin-top:0px;\">\\n                '\n",
            " b'        - <a style=\"font-size:11px\" href=\"javascript:recommend_book(\\'278'\n",
            " b'8\\')\"\\n                             class=\"btn btn-default btn-xs\" title=\"'\n",
            " b'\\xec\\xb6\\x94\\xec\\xb2\\x9c\"><i class=\"glyphicon glyphicon-thumbs-up\"></i>\\n  '\n",
            " b'                      <strong>722</strong> \\xeb\\xaa\\x85\\xec\\x9d\\xb4 \\xec\\xb6'\n",
            " b'\\x94\\xec\\xb2\\x9c</a>\\n                    </div>\\n\\n                    \\n  '\n",
            " b'              </div>\\n            </div>\\n        </div>\\n    </div>\\n\\n<'\n",
            " b'/div>\\n\\n\\n\\n<div class=\"row book-item\">\\n\\n    <div class=\"col-sm-6\" styl'\n",
            " b'e=\"margin-bottom:20px;\">\\n        <div class=\"media\">\\n            <div cl'\n",
            " b'ass=\"media-left\">\\n                <a href=\"/book/922\">\\n                 '\n",
            " b'   <div class=\"book-image-box\">\\n                        <img src=\"/image'\n",
            " b's//book/python300_zoR1Cof.PNG\" class=\"book-image\" />\\n                   '\n",
            " b' </div>\\n                </a>\\n            </div>\\n            <div class=\"'\n",
            " b'media-body\">\\n                <h4 class=\"media-heading\">\\n                '\n",
            " b'    \\n                    <a href=\"/book/922\" class=\"book-subject\">\\xec\\xb4'\n",
            " b'\\x88\\xeb\\xb3\\xb4\\xec\\x9e\\x90\\xeb\\xa5\\xbc \\xec\\x9c\\x84\\xed\\x95\\x9c \\xed\\x8c'\n",
            " b'\\x8c\\xec\\x9d\\xb4\\xec\\x8d\\xac 300\\xec\\xa0\\x9c</a>\\n                </h4>\\n   '\n",
            " b'             <div class=\"book-detail\">\\n                    <div>\\n       '\n",
            " b'                 -\\n                        \\n                        <a c'\n",
            " b'lass=\"menu_link\" href=\"/profile/info/book/400\">\\xec\\xa1\\xb0\\xeb\\x8c'\n",
            " b'\\x80\\xed\\x91\\x9c</a> \\xec\\x99\\xb8 1\\xeb\\xaa\\x85\\n                        \\n '\n",
            " b'                   </div>\\n\\n                    <div>\\n                   '\n",
            " b'     - 2022\\xeb\\x85\\x84 11\\xec\\x9b\\x94 25\\xec\\x9d\\xbc\\n                    <'\n",
            " b'/div>\\n\\n                    <div style=\"margin-top:0px;\">\\n               '\n",
            " b'         - <a style=\"font-size:11px\" href=\"javascript:recommend_book(\\'92'\n",
            " b'2\\')\"\\n                             class=\"btn btn-default btn-xs\" title=\"'\n",
            " b'\\xec\\xb6\\x94\\xec\\xb2\\x9c\"><i class=\"glyphicon glyphicon-thumbs-up\"></i>\\n  '\n",
            " b'                      <strong>583</strong> \\xeb\\xaa\\x85\\xec\\x9d\\xb4 \\xec\\xb6'\n",
            " b'\\x94\\xec\\xb2\\x9c</a>\\n                    </div>\\n\\n                    \\n  '\n",
            " b'              </div>\\n            </div>\\n        </div>\\n    </div>\\n\\n\\n'\n",
            " b'\\n    <div class=\"col-sm-6\" style=\"margin-bottom:20px;\">\\n        <div cla'\n",
            " b'ss=\"media\">\\n            <div class=\"media-left\">\\n                <a href'\n",
            " b'=\"/book/2165\">\\n                    <div class=\"book-image-box\">\\n        '\n",
            " b'                <img src=\"/images//book/cover_2tGPBMt.png\" class=\"book-image'\n",
            " b'\" />\\n                    </div>\\n                </a>\\n            </div>\\n'\n",
            " b'            <div class=\"media-body\">\\n                <h4 class=\"media-he'\n",
            " b'ading\">\\n                    \\n                    <a href=\"/book/2165\" cl'\n",
            " b'ass=\"book-subject\">PyQt5 Tutorial - \\xed\\x8c\\x8c\\xec\\x9d\\xb4\\xec\\x8d'\n",
            " b'\\xac\\xec\\x9c\\xbc\\xeb\\xa1\\x9c \\xeb\\xa7\\x8c\\xeb\\x93\\x9c\\xeb\\x8a\\x94 \\xeb\\x82'\n",
            " b'\\x98\\xeb\\xa7\\x8c\\xec\\x9d\\x98 GUI \\xed\\x94\\x84\\xeb\\xa1\\x9c\\xea\\xb7'\n",
            " b'\\xb8\\xeb\\x9e\\xa8</a>\\n                </h4>\\n                <div class=\"b'\n",
            " b'ook-detail\">\\n                    <div>\\n                        -\\n       '\n",
            " b'                 \\n                        <a class=\"menu_link\" href=\"/pr'\n",
            " b'ofile/info/book/6895\">Dardao</a>\\n                        \\n              '\n",
            " b'      </div>\\n\\n                    <div>\\n                        - 20'\n",
            " b'21\\xeb\\x85\\x84 05\\xec\\x9b\\x94 19\\xec\\x9d\\xbc\\n                    </div>'\n",
            " b'\\n\\n                    <div style=\"margin-top:0px;\">\\n                    '\n",
            " b'    - <a style=\"font-size:11px\" href=\"javascript:recommend_book(\\'2165\\')\"'\n",
            " b'\\n                             class=\"btn btn-default btn-xs\" title=\"'\n",
            " b'\\xec\\xb6\\x94\\xec\\xb2\\x9c\"><i class=\"glyphicon glyphicon-thumbs-up\"></i>\\n  '\n",
            " b'                      <strong>521</strong> \\xeb\\xaa\\x85\\xec\\x9d\\xb4 \\xec\\xb6'\n",
            " b'\\x94\\xec\\xb2\\x9c</a>\\n                    </div>\\n\\n                    \\n  '\n",
            " b'              </div>\\n            </div>\\n        </div>\\n    </div>\\n\\n<'\n",
            " b'/div>\\n\\n\\n\\n<div class=\"row book-item\">\\n\\n    <div class=\"col-sm-6\" styl'\n",
            " b'e=\"margin-bottom:20px;\">\\n        <div class=\"media\">\\n            <div cl'\n",
            " b'ass=\"media-left\">\\n                <a href=\"/book/1665\">\\n                '\n",
            " b'    <div class=\"book-image-box\">\\n                        <img src=\"/imag'\n",
            " b'es//book/bitcoin1.jpg\" class=\"book-image\" />\\n                    </div>\\n'\n",
            " b'                </a>\\n            </div>\\n            <div class=\"media-bo'\n",
            " b'dy\">\\n                <h4 class=\"media-heading\">\\n                    \\n   '\n",
            " b'                 <a href=\"/book/1665\" class=\"book-subject\">\\xed'\n",
            " b'\\x8c\\x8c\\xec\\x9d\\xb4\\xec\\x8d\\xac\\xec\\x9d\\x84 \\xec\\x9d\\xb4\\xec'\n",
            " b'\\x9a\\xa9\\xed\\x95\\x9c \\xeb\\xb9\\x84\\xed\\x8a\\xb8\\xec\\xbd\\x94\\xec\\x9d\\xb8 \\xec'\n",
            " b'\\x9e\\x90\\xeb\\x8f\\x99\\xeb\\xa7\\xa4\\xeb\\xa7\\xa4 (\\xea\\xb0\\x9c\\xec\\xa0\\x95\\xed'\n",
            " b'\\x8c\\x90)</a>\\n                </h4>\\n                <div class=\"book-detai'\n",
            " b'l\">\\n                    <div>\\n                        -\\n                '\n",
            " b'        \\n                        <a class=\"menu_link\" href=\"/profile/inf'\n",
            " b'o/book/400\">\\xec\\xa1\\xb0\\xeb\\x8c\\x80\\xed\\x91\\x9c</a> \\xec\\x99\\xb8 1\\xeb'\n",
            " b'\\xaa\\x85\\n                        \\n                    </div>\\n\\n        '\n",
            " b'            <div>\\n                        - 2023\\xeb\\x85\\x84 01\\xec\\x9b'\n",
            " b'\\x94 13\\xec\\x9d\\xbc\\n                    </div>\\n\\n                    <div'\n",
            " b' style=\"margin-top:0px;\">\\n                        - <a style=\"font-size:'\n",
            " b'11px\" href=\"javascript:recommend_book(\\'1665\\')\"\\n                         '\n",
            " b'    class=\"btn btn-default btn-xs\" title=\"\\xec\\xb6\\x94\\xec\\xb2\\x9c\"><i cla'\n",
            " b'ss=\"glyphicon glyphicon-thumbs-up\"></i>\\n                        <strong>'\n",
            " b'473</strong> \\xeb\\xaa\\x85\\xec\\x9d\\xb4 \\xec\\xb6\\x94\\xec\\xb2\\x9c</a>\\n     '\n",
            " b'               </div>\\n\\n                    \\n                </div>\\n     '\n",
            " b'       </div>\\n        </div>\\n    </div>\\n\\n\\n\\n    <div class=\"col-sm-6\"'\n",
            " b' style=\"margin-bottom:20px;\">\\n        <div class=\"media\">\\n            <d'\n",
            " b'iv class=\"media-left\">\\n                <a href=\"/book/7188\">\\n           '\n",
            " b'         <div class=\"book-image-box\">\\n                        <img src=\"'\n",
            " b'/images//book/2222.jpg\" class=\"book-image\" />\\n                    </div>'\n",
            " b'\\n                </a>\\n            </div>\\n            <div class=\"media-b'\n",
            " b'ody\">\\n                <h4 class=\"media-heading\">\\n                    \\n  '\n",
            " b'                  <a href=\"/book/7188\" class=\"book-subject\">[Python '\n",
            " b'\\xec\\x99\\x84\\xec\\xa0\\x84\\xec\\xa0\\x95\\xeb\\xb3\\xb5 \\xec\\x8b\\x9c'\n",
            " b'\\xeb\\xa6\\xac\\xec\\xa6\\x88] 2\\xed\\x8e\\xb8 : Pandas DataFrame \\xec\\x99\\x84\\xec'\n",
            " b'\\xa0\\x84\\xec\\xa0\\x95\\xeb\\xb3\\xb5</a>\\n                </h4>\\n             '\n",
            " b'   <div class=\"book-detail\">\\n                    <div>\\n                 '\n",
            " b'       -\\n                        \\n                        <a class=\"menu'\n",
            " b'_link\" href=\"/profile/info/book/14353\">\\xea\\xb9\\x80\\xed\\x83\\x9c\\xec\\xa4\\x80'\n",
            " b'</a>\\n                        \\n                    </div>\\n\\n              '\n",
            " b'      <div>\\n                        - 2022\\xeb\\x85\\x84 03\\xec\\x9b\\x94 '\n",
            " b'14\\xec\\x9d\\xbc\\n                    </div>\\n\\n                    <div style'\n",
            " b'=\"margin-top:0px;\">\\n                        - <a style=\"font-size:11px\" '\n",
            " b'href=\"javascript:recommend_book(\\'7188\\')\"\\n                             cl'\n",
            " b'ass=\"btn btn-default btn-xs\" title=\"\\xec\\xb6\\x94\\xec\\xb2\\x9c\"><i class=\"gl'\n",
            " b'yphicon glyphicon-thumbs-up\"></i>\\n                        <strong>380</s'\n",
            " b'trong> \\xeb\\xaa\\x85\\xec\\x9d\\xb4 \\xec\\xb6\\x94\\xec\\xb2\\x9c</a>\\n           '\n",
            " b'         </div>\\n\\n                    \\n                </div>\\n           '\n",
            " b' </div>\\n        </div>\\n    </div>\\n\\n</div>\\n\\n\\n\\n<div class=\"row page-ar'\n",
            " b'ea\">\\n    <input type=\"hidden\" name=\"total_count\" id=\"total_count\" value='\n",
            " b'\"99\" />\\n    <input type=\"hidden\" name=\"current_page\" id=\"current_page\" v'\n",
            " b'alue=\"1\" />\\n    <input type=\"hidden\" name=\"per_page\" id=\"per_page\" value'\n",
            " b'=\"10\" />\\n    <input type=\"hidden\" name=\"page\" id=\"page\" />\\n\\n    <div id='\n",
            " b'\"pagination\" class=\"col-sm-12\" style=\"margin-top:-10px;\"></div>\\n</div>\\n\\n'\n",
            " b'\\n<script>\\n$(document).ready(function () {\\n    // $(\".sort_div\").show();\\n'\n",
            " b'});\\n\\n\\n</script>\\n            </div>\\n        </div>\\n\\n        <div>\\n   '\n",
            " b'         <script async src=\"https://pagead2.googlesyndication.com/pagead/js/'\n",
            " b'adsbygoogle.js?client=ca-pub-9470517771012578\"\\n                crossorig'\n",
            " b'in=\"anonymous\"></script>\\n            <ins class=\"adsbygoogle\"\\n          '\n",
            " b'      style=\"display:block\"\\n                data-ad-client=\"ca-pub-94705'\n",
            " b'17771012578\"\\n                data-ad-slot=\"6538649664\"\\n                d'\n",
            " b'ata-ad-format=\"auto\"\\n                data-full-width-responsive=\"true\"><'\n",
            " b'/ins>\\n            <script>\\n                (adsbygoogle = window.adsbygo'\n",
            " b'ogle || []).push({});\\n            </script>\\n        </div>\\n    </div>\\n</'\n",
            " b'div>\\n\\n\\n\\n<div class=\"container\">\\n\\n</div>\\n\\n\\n<footer class=\"footer\"'\n",
            " b'>\\n    <div class=\"container clearfix\">\\n        <span class=\"text-muted s'\n",
            " b'mall\">\\n            \\xc2\\xa92008 \\xe2\\x80\\xa2 <a href=\"/help/wikidocs\" class'\n",
            " b'=\"normal\">\\xec\\x9c\\x84\\xed\\x82\\xa4\\xeb\\x8f\\x85\\xec\\x8a\\xa4</a> \\xe2'\n",
            " b'\\x80\\xa2\\n            <a href=\"https://wikidocs.net/178467\" class=\"normal\">'\n",
            " b'\\xea\\xb0\\x9c\\xec\\x9d\\xb8\\xec\\xa0\\x95\\xeb\\xb3\\xb4\\xec\\xb7\\xa8\\xea'\n",
            " b'\\xb8\\x89\\xeb\\xb0\\xa9\\xec\\xb9\\xa8</a> \\xe2\\x80\\xa2\\n            <a href=\"ht'\n",
            " b'tps://wikidocs.net/178466\" class=\"normal\">\\xec\\x84\\x9c\\xeb\\xb9\\x84'\n",
            " b'\\xec\\x8a\\xa4\\xec\\x95\\xbd\\xea\\xb4\\x80</a>\\n        </span>\\n        <div c'\n",
            " b'lass=\"pull-right text-muted small\">\\xec\\x82\\xac\\xec\\x97\\x85\\xec\\x9e\\x90'\n",
            " b'\\xeb\\x93\\xb1\\xeb\\xa1\\x9d\\xeb\\xb2\\x88\\xed\\x98\\xb8 : 724-14-01849 | \\xeb\\x8c'\n",
            " b'\\x80\\xed\\x91\\x9c\\xec\\x9e\\x90\\xeb\\xaa\\x85: \\xeb\\xb0\\x95\\xec\\x9d\\x91\\xec\\x9a'\n",
            " b'\\xa9 | \\xea\\xb2\\xbd\\xea\\xb8\\xb0\\xeb\\x8f\\x84 \\xea\\xb3\\xbc\\xec\\xb2\\x9c'\n",
            " b'\\xec\\x8b\\x9c \\xeb\\xb3\\x84\\xec\\x96\\x91\\xeb\\xa1\\x9c 66-11 | \\xed\\x86'\n",
            " b'\\xb5\\xec\\x8b\\xa0\\xed\\x8c\\x90\\xeb\\xa7\\xa4\\xec\\x8b\\xa0\\xea\\xb3\\xa0: 2022-\\xea'\n",
            " b'\\xb2\\xbd\\xea\\xb8\\xb0\\xea\\xb3\\xbc\\xec\\xb2\\x9c-0278 | \\xeb\\xac\\xb8\\xec\\x9d'\n",
            " b'\\x98: pahkey@gmail.com</div>\\n    </div>\\n</footer>\\n\\n\\n</body>\\n</html>\\n')\n"
          ]
        }
      ]
    },
    {
      "cell_type": "code",
      "source": [
        "import urllib.request\n",
        "from functools import lru_cache\n",
        "\n",
        "@lru_cache(maxsize=32)\n",
        "def get_wikidocs(page):\n",
        "    print(\"wikidocs page:{}\".format(page))\n",
        "    resource = 'https://wikidocs.net/{}'.format(page)\n",
        "    try:\n",
        "        with urllib.request.urlopen(resource) as s:\n",
        "            return s.read()\n",
        "    except urllib.error.HTTPError:\n",
        "        return'Not Found'\n",
        "\n",
        "first_6 = get_wikidocs(6)\n",
        "\n",
        "second_6 = get_wikidocs(6)\n",
        "\n",
        "third6 = get_wikidocs(6)\n",
        "\n",
        "assert first_6 == second_6"
      ],
      "metadata": {
        "colab": {
          "base_uri": "https://localhost:8080/"
        },
        "id": "sQbTh7W2sinm",
        "outputId": "1d2f2436-ad53-48c7-a1d4-c22e57375366"
      },
      "execution_count": null,
      "outputs": [
        {
          "output_type": "stream",
          "name": "stdout",
          "text": [
            "wikidocs page:6\n"
          ]
        }
      ]
    },
    {
      "cell_type": "markdown",
      "source": [
        "031"
      ],
      "metadata": {
        "id": "s8pvs0ovuFF7"
      }
    },
    {
      "cell_type": "code",
      "source": [
        "def add_mul(choice, *args):\n",
        "    if choice == \"add\":\n",
        "        result = 0\n",
        "        for i in args:\n",
        "            result = result + i\n",
        "    elif choice == \"mul\":\n",
        "        result = 1\n",
        "        for i in args:\n",
        "            result = result * i\n",
        "    return result"
      ],
      "metadata": {
        "id": "7NcGjg-HuU9h"
      },
      "execution_count": null,
      "outputs": []
    },
    {
      "cell_type": "code",
      "source": [
        "def add_mul(choice, *args):\n",
        "    if choice == \"add\":\n",
        "        result = 0\n",
        "        for i in args:\n",
        "            result = result + i\n",
        "    elif choice == \"mul\":\n",
        "        result = 1\n",
        "        for i in args:\n",
        "            result = result * i\n",
        "    return result\n",
        "\n",
        "def add(*args):\n",
        "    return add_mul('add', *args)\n",
        "\n",
        "def mul(*args):\n",
        "    return add_mul('mul', *args)\n",
        "\n",
        "print(add(1,2,3,4,5))\n",
        "print(mul(1,2,3,4,5))"
      ],
      "metadata": {
        "colab": {
          "base_uri": "https://localhost:8080/"
        },
        "id": "uryMdDSMwaSb",
        "outputId": "10786f07-1ca6-4ff1-9c2f-dc6cdcbed94d"
      },
      "execution_count": null,
      "outputs": [
        {
          "output_type": "stream",
          "name": "stdout",
          "text": [
            "15\n",
            "120\n"
          ]
        }
      ]
    },
    {
      "cell_type": "code",
      "source": [
        "from functools import partial\n",
        "\n",
        "add = partial(add_mul, 'add')\n",
        "mul = partial(add_mul, 'mul')\n",
        "\n",
        "print(add(1,2,3,4,5))\n",
        "print(mul(1,2,3,4,5))"
      ],
      "metadata": {
        "colab": {
          "base_uri": "https://localhost:8080/"
        },
        "id": "EBShRE6LweCC",
        "outputId": "160ea74d-42f9-4f46-840a-5f326ddf55a9"
      },
      "execution_count": null,
      "outputs": [
        {
          "output_type": "stream",
          "name": "stdout",
          "text": [
            "15\n",
            "120\n"
          ]
        }
      ]
    },
    {
      "cell_type": "markdown",
      "source": [
        "032"
      ],
      "metadata": {
        "id": "J3PhyPhnx94E"
      }
    },
    {
      "cell_type": "code",
      "source": [
        "def get_num():\n",
        "\n",
        "    numbers = input(\"n개의 정수를 입력하세요 > \").split()\n",
        "    n = []\n",
        "    for i in numbers:\n",
        "        n.append(int(i))\n",
        "    return n"
      ],
      "metadata": {
        "id": "DgISOklh8O49"
      },
      "execution_count": null,
      "outputs": []
    },
    {
      "cell_type": "code",
      "source": [
        "def add(data):\n",
        "    result = 0\n",
        "    for i in data:\n",
        "        result += i\n",
        "    return result\n",
        "\n",
        "\n",
        "data = get_num()\n",
        "result = add(data)\n",
        "print(result)"
      ],
      "metadata": {
        "colab": {
          "base_uri": "https://localhost:8080/"
        },
        "id": "VnU7fIQJylIE",
        "outputId": "6e79c411-24bd-4836-bdd4-78e38ba3246a"
      },
      "execution_count": null,
      "outputs": [
        {
          "output_type": "stream",
          "name": "stdout",
          "text": [
            "n개의 정수를 입력하세요 > 1 2 3 4 5\n",
            "15\n"
          ]
        }
      ]
    },
    {
      "cell_type": "code",
      "source": [
        "import functools\n",
        "\n",
        "data = get_num()\n",
        "result = add(data)\n",
        "print(result)"
      ],
      "metadata": {
        "colab": {
          "base_uri": "https://localhost:8080/"
        },
        "id": "ExLjkF9nzPMk",
        "outputId": "1e42ed9f-1572-433f-ea4b-84b1733a3f18"
      },
      "execution_count": null,
      "outputs": [
        {
          "output_type": "stream",
          "name": "stdout",
          "text": [
            "n개의 정수를 입력하세요 > 1 2 3 4 5\n",
            "15\n"
          ]
        }
      ]
    },
    {
      "cell_type": "code",
      "source": [
        "import functools\n",
        "data = get_num()\n",
        "result = functools.reduce(lambda x,y:x+y, data)"
      ],
      "metadata": {
        "colab": {
          "base_uri": "https://localhost:8080/"
        },
        "id": "xz8r4i6fzZJz",
        "outputId": "c33ac67a-926d-4e6d-f757-ff31566db72b"
      },
      "execution_count": null,
      "outputs": [
        {
          "name": "stdout",
          "output_type": "stream",
          "text": [
            "n개의 정수를 입력하세요 > 1 2 3 4 5\n"
          ]
        }
      ]
    },
    {
      "cell_type": "code",
      "source": [
        "print(result)"
      ],
      "metadata": {
        "colab": {
          "base_uri": "https://localhost:8080/"
        },
        "id": "jKKPRXhMzjKj",
        "outputId": "b551f9fd-b76e-48d3-df0f-4536ef152c28"
      },
      "execution_count": null,
      "outputs": [
        {
          "output_type": "stream",
          "name": "stdout",
          "text": [
            "15\n"
          ]
        }
      ]
    },
    {
      "cell_type": "markdown",
      "source": [
        "033"
      ],
      "metadata": {
        "id": "pdxvOfu_zkSz"
      }
    },
    {
      "cell_type": "code",
      "source": [
        "import time\n",
        "\n",
        "def elapsed(original_func):\n",
        "    def wrapper(*args, **kwargs):\n",
        "        start = time.time()\n",
        "        result = original_func(*args, **kwargs)\n",
        "        end = time.time()\n",
        "        print(\"elapsed time: %f초\" % (end - start))\n",
        "        return result\n",
        "    return wrapper\n",
        "\n",
        "@elapsed\n",
        "def add(a,b):\n",
        "    \"\"\"두 수 a, b,의 덧셈 결과를 반환하는 함수\"\"\"\n",
        "    return a+b\n",
        "print(add(3,4))"
      ],
      "metadata": {
        "colab": {
          "base_uri": "https://localhost:8080/"
        },
        "id": "kJMum24bznCj",
        "outputId": "e544f869-5087-4ad1-c237-94c0fa07907a"
      },
      "execution_count": null,
      "outputs": [
        {
          "output_type": "stream",
          "name": "stdout",
          "text": [
            "elapsed time: 0.000001초\n",
            "7\n"
          ]
        }
      ]
    },
    {
      "cell_type": "code",
      "source": [
        "print(add)"
      ],
      "metadata": {
        "colab": {
          "base_uri": "https://localhost:8080/"
        },
        "id": "G6b0ujFVAeKy",
        "outputId": "73d6bffe-ac4f-4152-88ce-fc9206cabd06"
      },
      "execution_count": null,
      "outputs": [
        {
          "output_type": "stream",
          "name": "stdout",
          "text": [
            "<function elapsed.<locals>.wrapper at 0x7fec71fa8790>\n"
          ]
        }
      ]
    },
    {
      "cell_type": "code",
      "source": [
        "help(add)"
      ],
      "metadata": {
        "colab": {
          "base_uri": "https://localhost:8080/"
        },
        "id": "sWNa9a_GAfqm",
        "outputId": "88f702ec-7c41-481f-9995-2dd4dfe87bdb"
      },
      "execution_count": null,
      "outputs": [
        {
          "output_type": "stream",
          "name": "stdout",
          "text": [
            "Help on function wrapper in module __main__:\n",
            "\n",
            "wrapper(*args, **kwargs)\n",
            "\n"
          ]
        }
      ]
    },
    {
      "cell_type": "code",
      "source": [
        "import functools\n",
        "import time\n",
        "\n",
        "def elapsed(original_func):\n",
        "    @functools.wraps(original_func)\n",
        "    def wrapper(*args, **kwargs):\n",
        "        start = time.time()\n",
        "        result = original_func(*args, **kwargs)\n",
        "        end = time.time()\n",
        "        print(\"함수 수행 시간: %f초\" % (end - start))\n",
        "        return result\n",
        "    return wrapper\n",
        "\n",
        "@elapsed\n",
        "def add(a,b):\n",
        "    return a+b\n",
        "print(add)\n",
        "help(add)"
      ],
      "metadata": {
        "colab": {
          "base_uri": "https://localhost:8080/"
        },
        "id": "EV-7NwbZz8Zi",
        "outputId": "29d5ddfb-f903-400e-dfb7-6d6f3c48648d"
      },
      "execution_count": null,
      "outputs": [
        {
          "output_type": "stream",
          "name": "stdout",
          "text": [
            "<function add at 0x7fec71fa8670>\n",
            "Help on function add in module __main__:\n",
            "\n",
            "add(a, b)\n",
            "\n"
          ]
        }
      ]
    },
    {
      "cell_type": "markdown",
      "source": [
        "034"
      ],
      "metadata": {
        "id": "VP6u00P20rVE"
      }
    },
    {
      "cell_type": "code",
      "source": [
        "students = [\n",
        "    (\"jane\", 22, 'A'),\n",
        "    (\"dave\", 32, 'B'),\n",
        "    (\"sally\", 17, 'B'),\n",
        "]"
      ],
      "metadata": {
        "id": "Bp27lPTN0ukU"
      },
      "execution_count": null,
      "outputs": []
    },
    {
      "cell_type": "code",
      "source": [
        "from operator import itemgetter\n",
        "\n",
        "students = [\n",
        "    (\"jane\", 22, 'A'),\n",
        "    (\"dave\", 32, 'B'),\n",
        "    (\"sally\", 17, 'B'),\n",
        "]"
      ],
      "metadata": {
        "id": "cwTn_7jt0wvk"
      },
      "execution_count": null,
      "outputs": []
    },
    {
      "cell_type": "code",
      "source": [
        "sorted(students, key = itemgetter(1))"
      ],
      "metadata": {
        "colab": {
          "base_uri": "https://localhost:8080/"
        },
        "id": "0oJnzMeuB2N2",
        "outputId": "ca1cbbe2-fd06-4e96-bc6f-7b84baa91f7e"
      },
      "execution_count": null,
      "outputs": [
        {
          "output_type": "execute_result",
          "data": {
            "text/plain": [
              "[('sally', 17, 'B'), ('jane', 22, 'A'), ('dave', 32, 'B')]"
            ]
          },
          "metadata": {},
          "execution_count": 71
        }
      ]
    },
    {
      "cell_type": "code",
      "source": [
        "sorted(students, key = itemgetter(0))"
      ],
      "metadata": {
        "colab": {
          "base_uri": "https://localhost:8080/"
        },
        "id": "V-JUBPg3B6Te",
        "outputId": "cc1ef7b1-8186-4601-cd13-a4f128101ab4"
      },
      "execution_count": null,
      "outputs": [
        {
          "output_type": "execute_result",
          "data": {
            "text/plain": [
              "[('dave', 32, 'B'), ('jane', 22, 'A'), ('sally', 17, 'B')]"
            ]
          },
          "metadata": {},
          "execution_count": 72
        }
      ]
    },
    {
      "cell_type": "code",
      "source": [
        "sorted(students, key = itemgetter(2))"
      ],
      "metadata": {
        "colab": {
          "base_uri": "https://localhost:8080/"
        },
        "id": "Ky_VgNOEB8f-",
        "outputId": "2a84ddf7-9c11-4c7d-8968-fc9bc2ca1275"
      },
      "execution_count": null,
      "outputs": [
        {
          "output_type": "execute_result",
          "data": {
            "text/plain": [
              "[('jane', 22, 'A'), ('dave', 32, 'B'), ('sally', 17, 'B')]"
            ]
          },
          "metadata": {},
          "execution_count": 73
        }
      ]
    },
    {
      "cell_type": "code",
      "source": [
        "students = [\n",
        "    {\"name\": \"jane\", \"age\": 22, \"grade\": 'A'},\n",
        "    {\"name\": \"dave\", \"age\": 32, \"grade\": 'B'},\n",
        "    {\"name\": \"sally\", \"age\": 17, \"grade\": 'B'},\n",
        "]"
      ],
      "metadata": {
        "id": "XdoHgv7Y0_lT"
      },
      "execution_count": null,
      "outputs": []
    },
    {
      "cell_type": "code",
      "source": [
        "from operator import itemgetter\n",
        "students = [\n",
        "    {\"name\": \"jane\", \"age\": 22, \"grade\": 'A'},\n",
        "    {\"name\": \"dave\", \"age\": 32, \"grade\": 'B'},\n",
        "    {\"name\": \"sally\", \"age\": 17, \"grade\": 'B'},\n",
        "]"
      ],
      "metadata": {
        "colab": {
          "base_uri": "https://localhost:8080/"
        },
        "id": "4cGRfbGY1DfC",
        "outputId": "9bfe3cfc-b931-491a-cf21-9979b37a9092"
      },
      "execution_count": null,
      "outputs": [
        {
          "output_type": "stream",
          "name": "stdout",
          "text": [
            "[{'name': 'sally', 'age': 17, 'grade': 'B'}, {'name': 'jane', 'age': 22, 'grade': 'A'}, {'name': 'dave', 'age': 32, 'grade': 'B'}]\n"
          ]
        }
      ]
    },
    {
      "cell_type": "code",
      "source": [
        "sorted(students, key = itemgetter('age'))"
      ],
      "metadata": {
        "colab": {
          "base_uri": "https://localhost:8080/"
        },
        "id": "F_fr5Gp91O2i",
        "outputId": "ce90be9f-c1e3-4995-fadd-afe375031b31"
      },
      "execution_count": null,
      "outputs": [
        {
          "output_type": "execute_result",
          "data": {
            "text/plain": [
              "[{'name': 'sally', 'age': 17, 'grade': 'B'},\n",
              " {'name': 'jane', 'age': 22, 'grade': 'A'},\n",
              " {'name': 'dave', 'age': 32, 'grade': 'B'}]"
            ]
          },
          "metadata": {},
          "execution_count": 76
        }
      ]
    },
    {
      "cell_type": "code",
      "source": [
        "sorted(students, key = itemgetter('name'))"
      ],
      "metadata": {
        "colab": {
          "base_uri": "https://localhost:8080/"
        },
        "id": "euRrd7KDCY-u",
        "outputId": "f8e18e19-4f83-4bf4-fdf0-8c648041a586"
      },
      "execution_count": null,
      "outputs": [
        {
          "output_type": "execute_result",
          "data": {
            "text/plain": [
              "[{'name': 'dave', 'age': 32, 'grade': 'B'},\n",
              " {'name': 'jane', 'age': 22, 'grade': 'A'},\n",
              " {'name': 'sally', 'age': 17, 'grade': 'B'}]"
            ]
          },
          "metadata": {},
          "execution_count": 78
        }
      ]
    },
    {
      "cell_type": "code",
      "source": [
        "sorted(students, key = itemgetter('age', 'name'))"
      ],
      "metadata": {
        "colab": {
          "base_uri": "https://localhost:8080/"
        },
        "id": "4qJ413HACc73",
        "outputId": "7a98556f-0aee-46e0-baf8-9a6196afb11d"
      },
      "execution_count": null,
      "outputs": [
        {
          "output_type": "execute_result",
          "data": {
            "text/plain": [
              "[{'name': 'sally', 'age': 17, 'grade': 'B'},\n",
              " {'name': 'jane', 'age': 22, 'grade': 'A'},\n",
              " {'name': 'dave', 'age': 32, 'grade': 'B'}]"
            ]
          },
          "metadata": {},
          "execution_count": 79
        }
      ]
    },
    {
      "cell_type": "code",
      "source": [
        "class Student:\n",
        "    def __init__(self, name, age, blood):\n",
        "        self.age = age\n",
        "        self.name = name\n",
        "        self.blood = blood\n",
        "\n",
        "stutdens = [\n",
        "    Student('jane', 22, 'A'),\n",
        "    Student('dave', 21, 'B'),\n",
        "    Student('sally', 20, 'O')\n",
        "]\n",
        "\n",
        "sorted(students, key = operator.itemgetter('age'))"
      ],
      "metadata": {
        "colab": {
          "base_uri": "https://localhost:8080/"
        },
        "id": "YLNRhzeACjun",
        "outputId": "1292ffce-157b-48e3-9212-9b3d18ef9ae5"
      },
      "execution_count": null,
      "outputs": [
        {
          "output_type": "execute_result",
          "data": {
            "text/plain": [
              "[{'name': 'sally', 'age': 17, 'grade': 'B'},\n",
              " {'name': 'jane', 'age': 22, 'grade': 'A'},\n",
              " {'name': 'dave', 'age': 32, 'grade': 'B'}]"
            ]
          },
          "metadata": {},
          "execution_count": 83
        }
      ]
    }
  ]
}