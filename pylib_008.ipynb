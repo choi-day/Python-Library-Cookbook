{
  "nbformat": 4,
  "nbformat_minor": 0,
  "metadata": {
    "colab": {
      "provenance": [],
      "authorship_tag": "ABX9TyO3/mOjDb36NzIkoi+mqxEC",
      "include_colab_link": true
    },
    "kernelspec": {
      "name": "python3",
      "display_name": "Python 3"
    },
    "language_info": {
      "name": "python"
    }
  },
  "cells": [
    {
      "cell_type": "markdown",
      "metadata": {
        "id": "view-in-github",
        "colab_type": "text"
      },
      "source": [
        "<a href=\"https://colab.research.google.com/github/choi-day/Python-Library-Cookbook/blob/main/pylib_008.ipynb\" target=\"_parent\"><img src=\"https://colab.research.google.com/assets/colab-badge.svg\" alt=\"Open In Colab\"/></a>"
      ]
    },
    {
      "cell_type": "markdown",
      "source": [
        "059"
      ],
      "metadata": {
        "id": "dteBCSTC1z1o"
      }
    },
    {
      "cell_type": "code",
      "source": [
        "%%writefile src.csv\n",
        "20,40\n",
        "50,90\n",
        "77,22"
      ],
      "metadata": {
        "colab": {
          "base_uri": "https://localhost:8080/"
        },
        "id": "oOFSw9Er4qGi",
        "outputId": "d6a8d52d-2a6f-48d0-f490-307e593730d7"
      },
      "execution_count": null,
      "outputs": [
        {
          "output_type": "stream",
          "name": "stdout",
          "text": [
            "Writing src.csv\n"
          ]
        }
      ]
    },
    {
      "cell_type": "code",
      "source": [
        "import csv\n",
        "\n",
        "def execute(f):\n",
        "    result = []\n",
        "    reader = csv.reader(f)\n",
        "    for line in reader:\n",
        "        one = int(line[0])\n",
        "        two = int(line[1])\n",
        "        three = one+two\n",
        "        line.append(three)\n",
        "        result.append(line)\n",
        "\n",
        "    return result\n",
        "\n",
        "with open('src.csv', 'r', encoding='UTF-8') as f:\n",
        "    result = execute(f)\n",
        "    print(result)"
      ],
      "metadata": {
        "colab": {
          "base_uri": "https://localhost:8080/"
        },
        "id": "qauoWoFf3DDL",
        "outputId": "72f78182-9028-46d3-fbec-07f78a62ad61"
      },
      "execution_count": null,
      "outputs": [
        {
          "output_type": "stream",
          "name": "stdout",
          "text": [
            "[['20', '40', 60], ['50', '90', 140], ['77', '22', 99]]\n"
          ]
        }
      ]
    },
    {
      "cell_type": "code",
      "source": [
        "import io\n",
        "f = io.StringIO(\"'Life is too short, you need python.'\")"
      ],
      "metadata": {
        "id": "_zKFk_Bj4f9E"
      },
      "execution_count": null,
      "outputs": []
    },
    {
      "cell_type": "code",
      "source": [
        "dir(f)"
      ],
      "metadata": {
        "colab": {
          "base_uri": "https://localhost:8080/"
        },
        "id": "wGj5Euih50WT",
        "outputId": "f338358d-3760-4e7d-90e5-5788535e22a6"
      },
      "execution_count": null,
      "outputs": [
        {
          "output_type": "execute_result",
          "data": {
            "text/plain": [
              "['__class__',\n",
              " '__del__',\n",
              " '__delattr__',\n",
              " '__dict__',\n",
              " '__dir__',\n",
              " '__doc__',\n",
              " '__enter__',\n",
              " '__eq__',\n",
              " '__exit__',\n",
              " '__format__',\n",
              " '__ge__',\n",
              " '__getattribute__',\n",
              " '__getstate__',\n",
              " '__gt__',\n",
              " '__hash__',\n",
              " '__init__',\n",
              " '__init_subclass__',\n",
              " '__iter__',\n",
              " '__le__',\n",
              " '__lt__',\n",
              " '__ne__',\n",
              " '__new__',\n",
              " '__next__',\n",
              " '__reduce__',\n",
              " '__reduce_ex__',\n",
              " '__repr__',\n",
              " '__setattr__',\n",
              " '__setstate__',\n",
              " '__sizeof__',\n",
              " '__str__',\n",
              " '__subclasshook__',\n",
              " '_checkClosed',\n",
              " '_checkReadable',\n",
              " '_checkSeekable',\n",
              " '_checkWritable',\n",
              " 'close',\n",
              " 'closed',\n",
              " 'detach',\n",
              " 'encoding',\n",
              " 'errors',\n",
              " 'fileno',\n",
              " 'flush',\n",
              " 'getvalue',\n",
              " 'isatty',\n",
              " 'line_buffering',\n",
              " 'newlines',\n",
              " 'read',\n",
              " 'readable',\n",
              " 'readline',\n",
              " 'readlines',\n",
              " 'seek',\n",
              " 'seekable',\n",
              " 'tell',\n",
              " 'truncate',\n",
              " 'writable',\n",
              " 'write',\n",
              " 'writelines']"
            ]
          },
          "metadata": {},
          "execution_count": 7
        }
      ]
    },
    {
      "cell_type": "code",
      "source": [
        "import csv\n",
        "\n",
        "def execute(f):\n",
        "    result = []\n",
        "    reader = csv.reader(f)\n",
        "    for line in reader:\n",
        "        one = int(line[0])\n",
        "        two = int(line[1])\n",
        "        three = one+two\n",
        "        line.append(three)\n",
        "        result.append(line)\n",
        "\n",
        "    return result\n",
        "\n",
        "src = '''\\\n",
        "20,40\n",
        "50,90\n",
        "77,22\n",
        "'''\n",
        "\n",
        "with io.StringIO(src) as f:\n",
        "    result = execute(f)\n",
        "    print(result)"
      ],
      "metadata": {
        "colab": {
          "base_uri": "https://localhost:8080/"
        },
        "id": "wn42xCgy54hr",
        "outputId": "96313abf-b4f7-4fed-f472-024df8bb64ff"
      },
      "execution_count": null,
      "outputs": [
        {
          "output_type": "stream",
          "name": "stdout",
          "text": [
            "[['20', '40', 60], ['50', '90', 140], ['77', '22', 99]]\n"
          ]
        }
      ]
    },
    {
      "cell_type": "markdown",
      "source": [
        "060"
      ],
      "metadata": {
        "id": "9Z4_2pvg6EBc"
      }
    },
    {
      "cell_type": "code",
      "source": [
        "!ls"
      ],
      "metadata": {
        "colab": {
          "base_uri": "https://localhost:8080/"
        },
        "id": "KKACPAKZ6l4d",
        "outputId": "558b47aa-3ac4-4ada-c24c-4f8975b06bb6"
      },
      "execution_count": null,
      "outputs": [
        {
          "output_type": "stream",
          "name": "stdout",
          "text": [
            "sample_data  src.csv\n"
          ]
        }
      ]
    },
    {
      "cell_type": "code",
      "source": [
        "!ls *.csv"
      ],
      "metadata": {
        "colab": {
          "base_uri": "https://localhost:8080/"
        },
        "id": "3a-WPnAh6qis",
        "outputId": "f0ce49fb-fc3a-4624-cc09-279283b10009"
      },
      "execution_count": null,
      "outputs": [
        {
          "output_type": "stream",
          "name": "stdout",
          "text": [
            "src.csv\n"
          ]
        }
      ]
    },
    {
      "cell_type": "code",
      "source": [
        "!ls -a"
      ],
      "metadata": {
        "colab": {
          "base_uri": "https://localhost:8080/"
        },
        "id": "oIwb0sxP6ua7",
        "outputId": "2b2594b3-e323-4c11-8f11-989483d95b1f"
      },
      "execution_count": null,
      "outputs": [
        {
          "output_type": "stream",
          "name": "stdout",
          "text": [
            ".  ..  .config\t.ipynb_checkpoints  sample_data  src.csv\n"
          ]
        }
      ]
    },
    {
      "cell_type": "code",
      "source": [
        "!ls -l"
      ],
      "metadata": {
        "colab": {
          "base_uri": "https://localhost:8080/"
        },
        "id": "S_8SFp8P6zEL",
        "outputId": "2916cff6-050d-426d-98bd-fabecccc2d46"
      },
      "execution_count": null,
      "outputs": [
        {
          "output_type": "stream",
          "name": "stdout",
          "text": [
            "total 8\n",
            "drwxr-xr-x 1 root root 4096 May  5 23:27 sample_data\n",
            "-rw-r--r-- 1 root root   18 May  9 00:22 src.csv\n"
          ]
        }
      ]
    },
    {
      "cell_type": "markdown",
      "source": [
        "061"
      ],
      "metadata": {
        "id": "RfoGOtJl61I7"
      }
    },
    {
      "cell_type": "code",
      "source": [
        "def myfunc():\n",
        "    print(\"함수가 시작되었습니다.\")\n",
        "\n",
        "myfunc()"
      ],
      "metadata": {
        "colab": {
          "base_uri": "https://localhost:8080/"
        },
        "id": "nkaVx0Ka_O3b",
        "outputId": "27296a69-8aea-41bc-c10f-96290e8dcbcc"
      },
      "execution_count": null,
      "outputs": [
        {
          "output_type": "stream",
          "name": "stdout",
          "text": [
            "함수가 시작되었습니다.\n"
          ]
        }
      ]
    },
    {
      "cell_type": "code",
      "source": [
        "from logging.config import dictConfig\n",
        "import logging\n",
        "\n",
        "dictConfig({\n",
        "    'version': 1,\n",
        "    'formatters': {\n",
        "        'default': {\n",
        "            'format': '[%(asctime)s] %(message)s',\n",
        "        }\n",
        "    },\n",
        "    'handlers': {\n",
        "        'file': {\n",
        "            'level': 'DEBUG',\n",
        "            'class': 'logging.FileHandler',\n",
        "            'filename': 'debug.log',\n",
        "            'formatter': 'default',\n",
        "        },\n",
        "    },\n",
        "    'root': {\n",
        "        'level': 'INFO',\n",
        "        'handlers': ['file']\n",
        "    }\n",
        "})\n"
      ],
      "metadata": {
        "id": "OgjyDnyPA4v0"
      },
      "execution_count": null,
      "outputs": []
    },
    {
      "cell_type": "code",
      "source": [
        "def myfunc():\n",
        "    logging.debug(\"함수가 시작되었습니다.\")\n",
        "myfunc()"
      ],
      "metadata": {
        "id": "Q6TK9jb0Cass"
      },
      "execution_count": null,
      "outputs": []
    },
    {
      "cell_type": "markdown",
      "source": [
        "062"
      ],
      "metadata": {
        "id": "G0H6aIK0CiLr"
      }
    },
    {
      "cell_type": "code",
      "source": [
        "import getpass\n",
        "\n",
        "passwd = getpass.getpass(\"Password:\")"
      ],
      "metadata": {
        "colab": {
          "base_uri": "https://localhost:8080/"
        },
        "id": "gHXdXi45I8sr",
        "outputId": "7e0cf3cd-d604-4615-fc56-c2442aa01a4e"
      },
      "execution_count": null,
      "outputs": [
        {
          "name": "stdout",
          "output_type": "stream",
          "text": [
            "Password:··········\n"
          ]
        }
      ]
    },
    {
      "cell_type": "code",
      "source": [
        "print(passwd)"
      ],
      "metadata": {
        "colab": {
          "base_uri": "https://localhost:8080/"
        },
        "id": "8wZ3kVPhJv5F",
        "outputId": "7a97a21e-d5b9-4a6c-b254-0dfbecbf8337"
      },
      "execution_count": null,
      "outputs": [
        {
          "output_type": "stream",
          "name": "stdout",
          "text": [
            "1234\n"
          ]
        }
      ]
    },
    {
      "cell_type": "markdown",
      "source": [
        "064"
      ],
      "metadata": {
        "id": "li8qpQWbJ0e8"
      }
    },
    {
      "cell_type": "code",
      "source": [
        "import platform\n",
        "\n",
        "info = platform.uname()\n",
        "info"
      ],
      "metadata": {
        "id": "yOeRxqNnKc71",
        "colab": {
          "base_uri": "https://localhost:8080/",
          "height": 0
        },
        "outputId": "0390d763-e104-421c-eab7-d38be32602b4"
      },
      "execution_count": 25,
      "outputs": [
        {
          "output_type": "execute_result",
          "data": {
            "text/plain": [
              "uname_result(system='Linux', node='4c27c8c30072', release='5.10.147+', version='#1 SMP Sat Dec 10 16:00:40 UTC 2022', machine='x86_64')"
            ]
          },
          "metadata": {},
          "execution_count": 25
        }
      ]
    },
    {
      "cell_type": "code",
      "source": [
        "info.processor"
      ],
      "metadata": {
        "colab": {
          "base_uri": "https://localhost:8080/",
          "height": 35
        },
        "id": "LHk6ISdFKy2u",
        "outputId": "c80ddecf-ff78-4723-ecc4-0d8e0d3d29ef"
      },
      "execution_count": 26,
      "outputs": [
        {
          "output_type": "execute_result",
          "data": {
            "text/plain": [
              "'x86_64'"
            ],
            "application/vnd.google.colaboratory.intrinsic+json": {
              "type": "string"
            }
          },
          "metadata": {},
          "execution_count": 26
        }
      ]
    },
    {
      "cell_type": "code",
      "source": [
        "info.system"
      ],
      "metadata": {
        "colab": {
          "base_uri": "https://localhost:8080/",
          "height": 35
        },
        "id": "5B3O0PpJK7Mc",
        "outputId": "01da20cd-5abe-4cae-d18c-068897a8f27f"
      },
      "execution_count": 27,
      "outputs": [
        {
          "output_type": "execute_result",
          "data": {
            "text/plain": [
              "'Linux'"
            ],
            "application/vnd.google.colaboratory.intrinsic+json": {
              "type": "string"
            }
          },
          "metadata": {},
          "execution_count": 27
        }
      ]
    },
    {
      "cell_type": "code",
      "source": [
        "info.node"
      ],
      "metadata": {
        "colab": {
          "base_uri": "https://localhost:8080/",
          "height": 35
        },
        "id": "tiW_fp_HLS5c",
        "outputId": "52c4c364-ea51-480b-9a67-d4ae7d6501c1"
      },
      "execution_count": 28,
      "outputs": [
        {
          "output_type": "execute_result",
          "data": {
            "text/plain": [
              "'4c27c8c30072'"
            ],
            "application/vnd.google.colaboratory.intrinsic+json": {
              "type": "string"
            }
          },
          "metadata": {},
          "execution_count": 28
        }
      ]
    },
    {
      "cell_type": "code",
      "source": [
        "info.release"
      ],
      "metadata": {
        "colab": {
          "base_uri": "https://localhost:8080/",
          "height": 35
        },
        "id": "gb2M7QGnLU65",
        "outputId": "b7e6255c-aa3c-454a-c527-e5a0e3389f22"
      },
      "execution_count": 30,
      "outputs": [
        {
          "output_type": "execute_result",
          "data": {
            "text/plain": [
              "'5.10.147+'"
            ],
            "application/vnd.google.colaboratory.intrinsic+json": {
              "type": "string"
            }
          },
          "metadata": {},
          "execution_count": 30
        }
      ]
    },
    {
      "cell_type": "markdown",
      "source": [
        "065"
      ],
      "metadata": {
        "id": "Nf3I8qi1LXG7"
      }
    },
    {
      "cell_type": "code",
      "source": [
        "%%writefile mylib.c\n",
        "int add(int a, int b)\n",
        "{\n",
        "    return a+b;\n",
        "}"
      ],
      "metadata": {
        "colab": {
          "base_uri": "https://localhost:8080/",
          "height": 0
        },
        "id": "cK1nuppSLb0b",
        "outputId": "447f4e68-bcf2-4799-bd37-f77dc54df3f2"
      },
      "execution_count": 31,
      "outputs": [
        {
          "output_type": "stream",
          "name": "stdout",
          "text": [
            "Writing mylib.c\n"
          ]
        }
      ]
    },
    {
      "cell_type": "code",
      "source": [
        "!gcc -c mylib.c"
      ],
      "metadata": {
        "id": "AL6NkQvPMCdU"
      },
      "execution_count": 32,
      "outputs": []
    },
    {
      "cell_type": "code",
      "source": [
        "!gcc -shared mylib.o -o mylib.so"
      ],
      "metadata": {
        "id": "6wLhTxYPMGYA"
      },
      "execution_count": 33,
      "outputs": []
    },
    {
      "cell_type": "code",
      "source": [
        "import ctypes\n",
        "\n",
        "mylib = ctypes.cdll.LoadLibrary('./mylib.so')"
      ],
      "metadata": {
        "id": "MH63V960MPER"
      },
      "execution_count": 34,
      "outputs": []
    },
    {
      "cell_type": "code",
      "source": [
        "mylib.add(3, 10)"
      ],
      "metadata": {
        "colab": {
          "base_uri": "https://localhost:8080/",
          "height": 0
        },
        "id": "I8Rt3rEiMbTc",
        "outputId": "32518c52-3afe-4255-a566-6d973acdb57b"
      },
      "execution_count": 35,
      "outputs": [
        {
          "output_type": "execute_result",
          "data": {
            "text/plain": [
              "13"
            ]
          },
          "metadata": {},
          "execution_count": 35
        }
      ]
    },
    {
      "cell_type": "code",
      "source": [],
      "metadata": {
        "id": "I45s2swbMfMN"
      },
      "execution_count": null,
      "outputs": []
    }
  ]
}