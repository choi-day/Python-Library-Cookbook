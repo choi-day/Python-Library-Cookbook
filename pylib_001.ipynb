{
  "nbformat": 4,
  "nbformat_minor": 0,
  "metadata": {
    "colab": {
      "provenance": [],
      "collapsed_sections": [
        "qWJxIKt82S6m"
      ],
      "authorship_tag": "ABX9TyP/doxhK2AxhfpgYTm78J9t",
      "include_colab_link": true
    },
    "kernelspec": {
      "name": "python3",
      "display_name": "Python 3"
    },
    "language_info": {
      "name": "python"
    }
  },
  "cells": [
    {
      "cell_type": "markdown",
      "metadata": {
        "id": "view-in-github",
        "colab_type": "text"
      },
      "source": [
        "<a href=\"https://colab.research.google.com/github/choi-day/Python-Library-Cookbook/blob/main/pylib_001.ipynb\" target=\"_parent\"><img src=\"https://colab.research.google.com/assets/colab-badge.svg\" alt=\"Open In Colab\"/></a>"
      ]
    },
    {
      "cell_type": "markdown",
      "source": [
        "001"
      ],
      "metadata": {
        "id": "7uWQ7VtGeIl-"
      }
    },
    {
      "cell_type": "code",
      "execution_count": null,
      "metadata": {
        "id": "1TXf60Csbz3s"
      },
      "outputs": [],
      "source": [
        "import textwrap"
      ]
    },
    {
      "cell_type": "code",
      "source": [
        "textwrap.shorten(\"Lifr is too short, you need python\", width = 15)"
      ],
      "metadata": {
        "colab": {
          "base_uri": "https://localhost:8080/",
          "height": 35
        },
        "id": "2Jf0mEFEeQVF",
        "outputId": "6c82c2b4-6772-4c45-e202-9195b8839ba4"
      },
      "execution_count": null,
      "outputs": [
        {
          "output_type": "execute_result",
          "data": {
            "text/plain": [
              "'Lifr is [...]'"
            ],
            "application/vnd.google.colaboratory.intrinsic+json": {
              "type": "string"
            }
          },
          "metadata": {},
          "execution_count": 24
        }
      ]
    },
    {
      "cell_type": "code",
      "source": [
        "text = '인생은 짧으니 파이썬이 필요해' *10"
      ],
      "metadata": {
        "id": "T09IjZ2len4f"
      },
      "execution_count": null,
      "outputs": []
    },
    {
      "cell_type": "code",
      "source": [
        "textwrap.shorten(text, 20)"
      ],
      "metadata": {
        "colab": {
          "base_uri": "https://localhost:8080/",
          "height": 35
        },
        "id": "otHhjt49eyFt",
        "outputId": "7f929e63-667d-493f-87fb-9f9c9d393826"
      },
      "execution_count": null,
      "outputs": [
        {
          "output_type": "execute_result",
          "data": {
            "text/plain": [
              "'인생은 짧으니 파이썬이 [...]'"
            ],
            "application/vnd.google.colaboratory.intrinsic+json": {
              "type": "string"
            }
          },
          "metadata": {},
          "execution_count": 27
        }
      ]
    },
    {
      "cell_type": "markdown",
      "source": [
        "002"
      ],
      "metadata": {
        "id": "qQATDqgufICX"
      }
    },
    {
      "cell_type": "code",
      "source": [
        "long_text = 'Life is too short, you need python.' * 10"
      ],
      "metadata": {
        "id": "dF3ASn-ie24f"
      },
      "execution_count": null,
      "outputs": []
    },
    {
      "cell_type": "code",
      "source": [
        "import textwrap\n",
        "\n",
        "result = textwrap.wrap(long_text)\n",
        "result"
      ],
      "metadata": {
        "colab": {
          "base_uri": "https://localhost:8080/"
        },
        "id": "-6NwVluXfRHG",
        "outputId": "422f8e26-13cf-40af-bfad-ebda24ed044f"
      },
      "execution_count": null,
      "outputs": [
        {
          "output_type": "execute_result",
          "data": {
            "text/plain": [
              "['Life is too short, you need python.Life is too short, you need',\n",
              " 'python.Life is too short, you need python.Life is too short, you need',\n",
              " 'python.Life is too short, you need python.Life is too short, you need',\n",
              " 'python.Life is too short, you need python.Life is too short, you need',\n",
              " 'python.Life is too short, you need python.Life is too short, you need',\n",
              " 'python.']"
            ]
          },
          "metadata": {},
          "execution_count": 29
        }
      ]
    },
    {
      "cell_type": "code",
      "source": [
        "'\\n'.join(result)"
      ],
      "metadata": {
        "colab": {
          "base_uri": "https://localhost:8080/",
          "height": 54
        },
        "id": "CwzFuq6SfkC4",
        "outputId": "cce682a0-07c3-42ea-e0d0-7c0d2ddc9705"
      },
      "execution_count": null,
      "outputs": [
        {
          "output_type": "execute_result",
          "data": {
            "text/plain": [
              "'Life is too short, you need python.Life is too short, you need\\npython.Life is too short, you need python.Life is too short, you need\\npython.Life is too short, you need python.Life is too short, you need\\npython.Life is too short, you need python.Life is too short, you need\\npython.Life is too short, you need python.Life is too short, you need\\npython.'"
            ],
            "application/vnd.google.colaboratory.intrinsic+json": {
              "type": "string"
            }
          },
          "metadata": {},
          "execution_count": 30
        }
      ]
    },
    {
      "cell_type": "code",
      "source": [
        "result = textwrap.fill(long_text, width = 70)\n",
        "print(result)"
      ],
      "metadata": {
        "colab": {
          "base_uri": "https://localhost:8080/"
        },
        "id": "XKec1V2-gANv",
        "outputId": "c9672d33-b182-4c69-ba04-e561d0028593"
      },
      "execution_count": null,
      "outputs": [
        {
          "output_type": "stream",
          "name": "stdout",
          "text": [
            "Life is too short, you need python.Life is too short, you need\n",
            "python.Life is too short, you need python.Life is too short, you need\n",
            "python.Life is too short, you need python.Life is too short, you need\n",
            "python.Life is too short, you need python.Life is too short, you need\n",
            "python.Life is too short, you need python.Life is too short, you need\n",
            "python.\n"
          ]
        }
      ]
    },
    {
      "cell_type": "markdown",
      "source": [
        "003"
      ],
      "metadata": {
        "id": "MQK2h9tzim3y"
      }
    },
    {
      "cell_type": "code",
      "source": [
        "data = \"\"\"\n",
        "홍길동의 주민등록번호는 020718-1234567 입니다\n",
        "고길동의 주민등록 번호는 001230-7123345 입니다\n",
        "그렇다면 누가 형님일까요? \"\"\""
      ],
      "metadata": {
        "id": "Rr_6lRdjilFE"
      },
      "execution_count": null,
      "outputs": []
    },
    {
      "cell_type": "code",
      "source": [
        "result = []\n",
        "\n",
        "for line in data.split(\"\\n\"):\n",
        "    word_result = []\n",
        "    for word in line.split(\" \"):\n",
        "        if len(word) ==14 and word[:6].isdigit() and word[7:].isdigit():\n",
        "            word = word[:6] + '-' + '*******'\n",
        "        word_result.append(word)\n",
        "    result.append(\" \".join(word_result))\n",
        "print(\"\\n\".join(result))"
      ],
      "metadata": {
        "colab": {
          "base_uri": "https://localhost:8080/"
        },
        "id": "hVjQO3MOi7ik",
        "outputId": "0f791b40-6999-494f-882d-0beeb3812835"
      },
      "execution_count": null,
      "outputs": [
        {
          "output_type": "stream",
          "name": "stdout",
          "text": [
            "\n",
            "홍길동의 주민등록번호는 020718-******* 입니다\n",
            "고길동의 주민등록 번호는 001230-******* 입니다\n",
            "그렇다면 누가 형님일까요? \n"
          ]
        }
      ]
    },
    {
      "cell_type": "code",
      "source": [
        "import re"
      ],
      "metadata": {
        "id": "pkbKI9J7jDft"
      },
      "execution_count": null,
      "outputs": []
    },
    {
      "cell_type": "code",
      "source": [
        "p = re.compile(\"(\\d{6})[-]\\d{7}\")\n",
        "print(p.sub(\"\\g<1>-*******\", data))"
      ],
      "metadata": {
        "colab": {
          "base_uri": "https://localhost:8080/"
        },
        "id": "AHcYnqJPkhTs",
        "outputId": "46dae664-9c96-4f2c-bcce-d08796acb9b9"
      },
      "execution_count": null,
      "outputs": [
        {
          "output_type": "stream",
          "name": "stdout",
          "text": [
            "\n",
            "홍길동의 주민등록번호는 020718-******* 입니다\n",
            "고길동의 주민등록 번호는 001230-******* 입니다\n",
            "그렇다면 누가 형님일까요? \n"
          ]
        }
      ]
    },
    {
      "cell_type": "markdown",
      "source": [
        "004"
      ],
      "metadata": {
        "id": "x8sc5NfKrVtL"
      }
    },
    {
      "cell_type": "code",
      "source": [
        "%%writefile struct_sample.c\n",
        "\n",
        "#include <stdio.h>\n",
        "\n",
        "typedef struct {\n",
        "    double v;\n",
        "    int t;\n",
        "    char c;\n",
        "} save_type;\n",
        "\n",
        "int main() {\n",
        "    save_type s = {7.5f, 15, 'A'};\n",
        "    FILE *f = fopen(\"output\", \"w\");\n",
        "    fwrite(&s, sizeof(save_type), 1, f);\n",
        "    printf(\"%d bytes \\n\",byteof(save_type));\n",
        "    fclose(f);\n",
        "    return 0;\n",
        "}"
      ],
      "metadata": {
        "colab": {
          "base_uri": "https://localhost:8080/"
        },
        "id": "vlVfFjmwk_ic",
        "outputId": "f546731f-939c-46fc-b13c-ba81426cbebe"
      },
      "execution_count": null,
      "outputs": [
        {
          "output_type": "stream",
          "name": "stdout",
          "text": [
            "Overwriting struct_sample.c\n"
          ]
        }
      ]
    },
    {
      "cell_type": "code",
      "source": [
        "!gcc struct_sample.c -o struct_sample"
      ],
      "metadata": {
        "colab": {
          "base_uri": "https://localhost:8080/"
        },
        "id": "vy493-0xuDwp",
        "outputId": "206dad86-7e7f-411d-fd37-6b4bef071541"
      },
      "execution_count": null,
      "outputs": [
        {
          "output_type": "stream",
          "name": "stdout",
          "text": [
            "\u001b[01m\u001b[Kstruct_sample.c:\u001b[m\u001b[K In function ‘\u001b[01m\u001b[Kmain\u001b[m\u001b[K’:\n",
            "\u001b[01m\u001b[Kstruct_sample.c:14:26:\u001b[m\u001b[K \u001b[01;35m\u001b[Kwarning: \u001b[m\u001b[Kimplicit declaration of function ‘\u001b[01m\u001b[Kbytesof\u001b[m\u001b[K’ [\u001b[01;35m\u001b[K-Wimplicit-function-declaration\u001b[m\u001b[K]\n",
            "   14 |     printf(\"%d bytes \\n\",\u001b[01;35m\u001b[Kbytesof\u001b[m\u001b[K(save_type));\n",
            "      |                          \u001b[01;35m\u001b[K^~~~~~~\u001b[m\u001b[K\n",
            "\u001b[01m\u001b[Kstruct_sample.c:14:34:\u001b[m\u001b[K \u001b[01;31m\u001b[Kerror: \u001b[m\u001b[Kexpected expression before ‘\u001b[01m\u001b[Ksave_type\u001b[m\u001b[K’\n",
            "   14 |     printf(\"%d bytes \\n\",bytesof(\u001b[01;31m\u001b[Ksave_type\u001b[m\u001b[K));\n",
            "      |                                  \u001b[01;31m\u001b[K^~~~~~~~~\u001b[m\u001b[K\n"
          ]
        }
      ]
    },
    {
      "cell_type": "code",
      "source": [
        "! ./struct_sample"
      ],
      "metadata": {
        "id": "ib_0XL1TuL65"
      },
      "execution_count": null,
      "outputs": []
    },
    {
      "cell_type": "code",
      "source": [
        "import struct\n",
        "with open('output', 'rb') as f:\n",
        "\n",
        "    chunk = f.read(16)\n",
        "    result = struct.unpack('dicccc', chunk)\n",
        "    print(result)"
      ],
      "metadata": {
        "colab": {
          "base_uri": "https://localhost:8080/"
        },
        "id": "ZMfxLmpVuXN_",
        "outputId": "294847f4-e423-405d-8e1c-635e0803124f"
      },
      "execution_count": null,
      "outputs": [
        {
          "output_type": "stream",
          "name": "stdout",
          "text": [
            "(7.5, 15, b'A', b'U', b'\\x00', b'\\x00')\n"
          ]
        }
      ]
    },
    {
      "cell_type": "markdown",
      "source": [
        "005"
      ],
      "metadata": {
        "id": "rbTFryd0xBBI"
      }
    },
    {
      "cell_type": "code",
      "source": [
        "import datetime\n",
        "\n",
        "day1 = datetime.date(2019, 12, 14)"
      ],
      "metadata": {
        "id": "zk1Qmegvvf7q"
      },
      "execution_count": null,
      "outputs": []
    },
    {
      "cell_type": "code",
      "source": [
        "day2 = datetime.date(2021, 6, 5)"
      ],
      "metadata": {
        "id": "UcE800UCxJRJ"
      },
      "execution_count": null,
      "outputs": []
    },
    {
      "cell_type": "code",
      "source": [
        "diff = day2 - day1\n",
        "diff.days"
      ],
      "metadata": {
        "colab": {
          "base_uri": "https://localhost:8080/"
        },
        "id": "aEzaVwMqxX32",
        "outputId": "c75eef00-4522-4a1c-ce94-17395f8158d8"
      },
      "execution_count": null,
      "outputs": [
        {
          "output_type": "execute_result",
          "data": {
            "text/plain": [
              "539"
            ]
          },
          "metadata": {},
          "execution_count": 66
        }
      ]
    },
    {
      "cell_type": "code",
      "source": [
        "day3 = datetime.datetime(2020, 12, 14, 14, 10, 50)"
      ],
      "metadata": {
        "id": "L0n5QHIYxevY"
      },
      "execution_count": null,
      "outputs": []
    },
    {
      "cell_type": "code",
      "source": [
        "day3.hour"
      ],
      "metadata": {
        "colab": {
          "base_uri": "https://localhost:8080/"
        },
        "id": "j5zeknLoyG-i",
        "outputId": "b7bb918f-148b-4aba-c391-608b05cb9b5e"
      },
      "execution_count": null,
      "outputs": [
        {
          "output_type": "execute_result",
          "data": {
            "text/plain": [
              "14"
            ]
          },
          "metadata": {},
          "execution_count": 68
        }
      ]
    },
    {
      "cell_type": "code",
      "source": [
        "day3.minute"
      ],
      "metadata": {
        "colab": {
          "base_uri": "https://localhost:8080/"
        },
        "id": "aXqvs8S5yILo",
        "outputId": "9a7ac0a5-68c0-47cf-9181-f5e6a8c3723a"
      },
      "execution_count": null,
      "outputs": [
        {
          "output_type": "execute_result",
          "data": {
            "text/plain": [
              "10"
            ]
          },
          "metadata": {},
          "execution_count": 69
        }
      ]
    },
    {
      "cell_type": "code",
      "source": [
        "day3.second"
      ],
      "metadata": {
        "colab": {
          "base_uri": "https://localhost:8080/"
        },
        "id": "Cg-D8VT3yKTZ",
        "outputId": "38fa8b22-fa63-4dd9-8da1-0ed228318242"
      },
      "execution_count": null,
      "outputs": [
        {
          "output_type": "execute_result",
          "data": {
            "text/plain": [
              "50"
            ]
          },
          "metadata": {},
          "execution_count": 70
        }
      ]
    },
    {
      "cell_type": "code",
      "source": [
        "day = datetime.date(2019, 12, 14)\n",
        "time = datetime.time(10, 14, 50)\n",
        "dt = datetime.datetime.combine(day, time)\n",
        "\n",
        "dt"
      ],
      "metadata": {
        "colab": {
          "base_uri": "https://localhost:8080/"
        },
        "id": "7v9ypzJ0yNT4",
        "outputId": "6d57a141-90ff-4722-8b04-af8d7759a1d9"
      },
      "execution_count": null,
      "outputs": [
        {
          "output_type": "execute_result",
          "data": {
            "text/plain": [
              "datetime.datetime(2019, 12, 14, 10, 14, 50)"
            ]
          },
          "metadata": {},
          "execution_count": 84
        }
      ]
    },
    {
      "cell_type": "code",
      "source": [
        "datetime.date(2023, 3, 14).weekday()"
      ],
      "metadata": {
        "colab": {
          "base_uri": "https://localhost:8080/"
        },
        "id": "MNg8GMQoyceI",
        "outputId": "64cfecb5-a910-4d52-a294-7d2f0adc6fef"
      },
      "execution_count": null,
      "outputs": [
        {
          "output_type": "execute_result",
          "data": {
            "text/plain": [
              "1"
            ]
          },
          "metadata": {},
          "execution_count": 79
        }
      ]
    },
    {
      "cell_type": "code",
      "source": [
        "datetime.date(2023, 3, 14).isoweekday()"
      ],
      "metadata": {
        "colab": {
          "base_uri": "https://localhost:8080/"
        },
        "id": "Nhaaq4-xyl3O",
        "outputId": "8262876f-cb92-4380-c725-fd127e4cd527"
      },
      "execution_count": null,
      "outputs": [
        {
          "output_type": "execute_result",
          "data": {
            "text/plain": [
              "2"
            ]
          },
          "metadata": {},
          "execution_count": 80
        }
      ]
    },
    {
      "cell_type": "code",
      "source": [
        "wd = ['mon' , 'tue', 'wed', 'thu', 'fri', 'sat', 'son']"
      ],
      "metadata": {
        "id": "0MluDSYiyo4U"
      },
      "execution_count": null,
      "outputs": []
    },
    {
      "cell_type": "code",
      "source": [
        "wd[datetime.date(2023, 3, 14).weekday()]"
      ],
      "metadata": {
        "colab": {
          "base_uri": "https://localhost:8080/",
          "height": 35
        },
        "id": "DT7rIm9SzB0H",
        "outputId": "9bf4c641-ff1f-4e66-cd96-2f38c7870280"
      },
      "execution_count": null,
      "outputs": [
        {
          "output_type": "execute_result",
          "data": {
            "text/plain": [
              "'tue'"
            ],
            "application/vnd.google.colaboratory.intrinsic+json": {
              "type": "string"
            }
          },
          "metadata": {},
          "execution_count": 83
        }
      ]
    },
    {
      "cell_type": "markdown",
      "source": [
        "006"
      ],
      "metadata": {
        "id": "y83l-AAIzXuo"
      }
    },
    {
      "cell_type": "code",
      "source": [
        "import datetime\n",
        "\n",
        "datetime.date.today() + datetime.timedelta(days = 100)"
      ],
      "metadata": {
        "colab": {
          "base_uri": "https://localhost:8080/"
        },
        "id": "OLRd12fmzF4o",
        "outputId": "f8a272fd-1d3c-4aa8-f950-db55283164c8"
      },
      "execution_count": null,
      "outputs": [
        {
          "output_type": "execute_result",
          "data": {
            "text/plain": [
              "datetime.date(2023, 6, 22)"
            ]
          },
          "metadata": {},
          "execution_count": 87
        }
      ]
    },
    {
      "cell_type": "markdown",
      "source": [
        "007"
      ],
      "metadata": {
        "id": "Y62bJ5_X0jN3"
      }
    },
    {
      "cell_type": "code",
      "source": [
        "import calendar\n",
        "\n",
        "calendar.isleap(2023)"
      ],
      "metadata": {
        "colab": {
          "base_uri": "https://localhost:8080/"
        },
        "id": "adFmb_zW0Sqw",
        "outputId": "7b1ea5b9-d73d-4666-d21e-e5b3d384c000"
      },
      "execution_count": null,
      "outputs": [
        {
          "output_type": "execute_result",
          "data": {
            "text/plain": [
              "False"
            ]
          },
          "metadata": {},
          "execution_count": 88
        }
      ]
    },
    {
      "cell_type": "markdown",
      "source": [
        "008"
      ],
      "metadata": {
        "id": "qWJxIKt82S6m"
      }
    },
    {
      "cell_type": "code",
      "source": [
        "from collections import deque"
      ],
      "metadata": {
        "id": "0Ik0x6Lx2Ucm"
      },
      "execution_count": null,
      "outputs": []
    },
    {
      "cell_type": "code",
      "source": [
        "a = [1, 2, 3, 4, 5]\n",
        "q = deque(a)"
      ],
      "metadata": {
        "id": "F1UUWEuk3YLY"
      },
      "execution_count": null,
      "outputs": []
    },
    {
      "cell_type": "code",
      "source": [
        "q.rotate(2)"
      ],
      "metadata": {
        "id": "Q9wjus3y3d83"
      },
      "execution_count": null,
      "outputs": []
    },
    {
      "cell_type": "code",
      "source": [
        "result = list(q)"
      ],
      "metadata": {
        "id": "IGySApgx3hPn"
      },
      "execution_count": null,
      "outputs": []
    },
    {
      "cell_type": "code",
      "source": [
        "result"
      ],
      "metadata": {
        "colab": {
          "base_uri": "https://localhost:8080/"
        },
        "id": "aZI1VLsa3kXm",
        "outputId": "0372e996-64d9-452f-bdeb-5b3513d9731e"
      },
      "execution_count": null,
      "outputs": [
        {
          "output_type": "execute_result",
          "data": {
            "text/plain": [
              "[4, 5, 1, 2, 3]"
            ]
          },
          "metadata": {},
          "execution_count": 94
        }
      ]
    }
  ]
}