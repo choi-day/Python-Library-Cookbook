{
  "nbformat": 4,
  "nbformat_minor": 0,
  "metadata": {
    "colab": {
      "provenance": [],
      "authorship_tag": "ABX9TyM3oUBmUMlGER4n+OzSgiE2",
      "include_colab_link": true
    },
    "kernelspec": {
      "name": "python3",
      "display_name": "Python 3"
    },
    "language_info": {
      "name": "python"
    }
  },
  "cells": [
    {
      "cell_type": "markdown",
      "metadata": {
        "id": "view-in-github",
        "colab_type": "text"
      },
      "source": [
        "<a href=\"https://colab.research.google.com/github/choi-day/Python-Library-Cookbook/blob/main/pylib_002.ipynb\" target=\"_parent\"><img src=\"https://colab.research.google.com/assets/colab-badge.svg\" alt=\"Open In Colab\"/></a>"
      ]
    },
    {
      "cell_type": "markdown",
      "source": [
        "009"
      ],
      "metadata": {
        "id": "lF4ffa0rdtH0"
      }
    },
    {
      "cell_type": "code",
      "source": [
        "from collections import namedtuple"
      ],
      "metadata": {
        "id": "FUUl1arYds5z"
      },
      "execution_count": null,
      "outputs": []
    },
    {
      "cell_type": "code",
      "execution_count": null,
      "metadata": {
        "id": "g5s3zl9EcqnY"
      },
      "outputs": [],
      "source": [
        "data = [\n",
        "    ('홍길동', 23, '01099990001'),\n",
        "    ('김철수', 31, '01099990002'),\n",
        "    ('이영희', 29, '01099992003'),\n",
        "]"
      ]
    },
    {
      "cell_type": "code",
      "source": [
        "Employee = namedtuple('Employee', 'name, age, cellphone')"
      ],
      "metadata": {
        "id": "hxuh1EMSd2dM"
      },
      "execution_count": null,
      "outputs": []
    },
    {
      "cell_type": "code",
      "source": [
        "data = [Employee(emp[0], emp[1], emp[2])for emp in data]"
      ],
      "metadata": {
        "id": "WlZs0JK1eHYS"
      },
      "execution_count": null,
      "outputs": []
    },
    {
      "cell_type": "code",
      "source": [
        "data"
      ],
      "metadata": {
        "colab": {
          "base_uri": "https://localhost:8080/"
        },
        "id": "-qvyC9g_jLFu",
        "outputId": "c2ed245c-06e3-40fd-fad7-44f249f1ec68"
      },
      "execution_count": null,
      "outputs": [
        {
          "output_type": "execute_result",
          "data": {
            "text/plain": [
              "[Employee(name='홍길동', age=23, cellphone='01099990001'),\n",
              " Employee(name='김철수', age=31, cellphone='01099990002'),\n",
              " Employee(name='이영희', age=29, cellphone='01099992003')]"
            ]
          },
          "metadata": {},
          "execution_count": 27
        }
      ]
    },
    {
      "cell_type": "code",
      "source": [
        "data2 = [Employee._make(emp)for emp in data]\n",
        "data2"
      ],
      "metadata": {
        "colab": {
          "base_uri": "https://localhost:8080/"
        },
        "id": "LN4gtGvcecz7",
        "outputId": "3328a0b7-9ed5-4b7f-929f-33644c36ae82"
      },
      "execution_count": null,
      "outputs": [
        {
          "output_type": "execute_result",
          "data": {
            "text/plain": [
              "[Employee(name='홍길동', age=23, cellphone='01099990001'),\n",
              " Employee(name='김철수', age=31, cellphone='01099990002'),\n",
              " Employee(name='이영희', age=29, cellphone='01099992003')]"
            ]
          },
          "metadata": {},
          "execution_count": 28
        }
      ]
    },
    {
      "cell_type": "code",
      "source": [
        "emp = data[0]\n",
        "print(emp.name)\n",
        "print(emp.age)\n",
        "print(emp.cellphone)"
      ],
      "metadata": {
        "colab": {
          "base_uri": "https://localhost:8080/"
        },
        "id": "0oqnZxymdTb8",
        "outputId": "4180a6c7-ddc1-4e08-e87e-562219f594f5"
      },
      "execution_count": null,
      "outputs": [
        {
          "output_type": "stream",
          "name": "stdout",
          "text": [
            "홍길동\n",
            "23\n",
            "01099990001\n"
          ]
        }
      ]
    },
    {
      "cell_type": "code",
      "source": [
        "emp.cellphone"
      ],
      "metadata": {
        "colab": {
          "base_uri": "https://localhost:8080/",
          "height": 35
        },
        "id": "uxFWI1arjpB1",
        "outputId": "3f6c9279-8d45-4c04-8e63-d6b2f8fe0f45"
      },
      "execution_count": null,
      "outputs": [
        {
          "output_type": "execute_result",
          "data": {
            "text/plain": [
              "'01099990001'"
            ],
            "application/vnd.google.colaboratory.intrinsic+json": {
              "type": "string"
            }
          },
          "metadata": {},
          "execution_count": 30
        }
      ]
    },
    {
      "cell_type": "code",
      "source": [
        "emp[0]"
      ],
      "metadata": {
        "colab": {
          "base_uri": "https://localhost:8080/",
          "height": 35
        },
        "id": "CzKIQpTjjrtF",
        "outputId": "452dcc23-f882-4b03-a82a-9e26caeea9a3"
      },
      "execution_count": null,
      "outputs": [
        {
          "output_type": "execute_result",
          "data": {
            "text/plain": [
              "'홍길동'"
            ],
            "application/vnd.google.colaboratory.intrinsic+json": {
              "type": "string"
            }
          },
          "metadata": {},
          "execution_count": 31
        }
      ]
    },
    {
      "cell_type": "code",
      "source": [
        "emp._asdict()"
      ],
      "metadata": {
        "colab": {
          "base_uri": "https://localhost:8080/"
        },
        "id": "en5RSApodcTd",
        "outputId": "43c7edda-5baa-49fd-941c-e4075b4c9d2a"
      },
      "execution_count": null,
      "outputs": [
        {
          "output_type": "execute_result",
          "data": {
            "text/plain": [
              "{'name': '홍길동', 'age': 23, 'cellphone': '01099990001'}"
            ]
          },
          "metadata": {},
          "execution_count": 13
        }
      ]
    },
    {
      "cell_type": "code",
      "source": [
        "data[0]= emp._replace(name = '최다연')\n",
        "data"
      ],
      "metadata": {
        "colab": {
          "base_uri": "https://localhost:8080/"
        },
        "id": "v_bN5rIukSLN",
        "outputId": "ec103161-f059-4351-8c66-4e500df3dc71"
      },
      "execution_count": null,
      "outputs": [
        {
          "output_type": "execute_result",
          "data": {
            "text/plain": [
              "[Employee(name='최다연', age=23, cellphone='01099990001'),\n",
              " Employee(name='김철수', age=31, cellphone='01099990002'),\n",
              " Employee(name='이영희', age=29, cellphone='01099992003')]"
            ]
          },
          "metadata": {},
          "execution_count": 32
        }
      ]
    },
    {
      "cell_type": "markdown",
      "source": [
        "010"
      ],
      "metadata": {
        "id": "P_ddNX93e9kD"
      }
    },
    {
      "cell_type": "code",
      "source": [
        "from collections import Counter\n",
        "import re\n",
        "\n",
        "data = \"\"\"\n",
        "산에는 꽃 피네\\\n",
        "꽃이 피네\\\n",
        "갈 봄 여름 없이\\\n",
        "꽃이 피네\\\n",
        "\n",
        "산에\n",
        "산에\n",
        "피는 꽃은\n",
        "저만치 혼자서 피어 있네\n",
        "\n",
        "산에서 우는 작은 새여\n",
        "꽃이 좋아\n",
        "산에서\n",
        "사노라네\n",
        "\n",
        "산에는 꽃 지네\n",
        "꽃이 지네\n",
        "갈 봄 여름 없이\n",
        "꽃이 지네\n",
        "\"\"\"\n",
        "print(data)\n",
        "words = re.findall(r'\\w+', data) # w = [a-z,A-Z,0-9], + = 한 번 이상 반복된다\n",
        "counter = Counter(words)\n",
        "print(counter.most_common(1))"
      ],
      "metadata": {
        "colab": {
          "base_uri": "https://localhost:8080/"
        },
        "id": "S8jkyRAKe6wr",
        "outputId": "29029e06-b515-4294-c546-d6838fd05585"
      },
      "execution_count": null,
      "outputs": [
        {
          "output_type": "stream",
          "name": "stdout",
          "text": [
            "\n",
            "산에는 꽃 피네꽃이 피네갈 봄 여름 없이꽃이 피네\n",
            "산에\n",
            "산에\n",
            "피는 꽃은\n",
            "저만치 혼자서 피어 있네\n",
            "\n",
            "산에서 우는 작은 새여\n",
            "꽃이 좋아\n",
            "산에서\n",
            "사노라네\n",
            "\n",
            "산에는 꽃 지네\n",
            "꽃이 지네\n",
            "갈 봄 여름 없이\n",
            "꽃이 지네\n",
            "\n",
            "[('꽃이', 3)]\n"
          ]
        }
      ]
    },
    {
      "cell_type": "code",
      "source": [
        "words = re.findall(r'\\w+', data)"
      ],
      "metadata": {
        "id": "C_3LpJfggMH8"
      },
      "execution_count": null,
      "outputs": []
    },
    {
      "cell_type": "code",
      "source": [
        "counter = Counter(words)"
      ],
      "metadata": {
        "id": "m-kVPXa7gRUb"
      },
      "execution_count": null,
      "outputs": []
    },
    {
      "cell_type": "code",
      "source": [
        "print(counter.most_common(1))\n",
        "print(counter.most_common(2))"
      ],
      "metadata": {
        "colab": {
          "base_uri": "https://localhost:8080/"
        },
        "id": "iZesLTcahfr9",
        "outputId": "6556d468-01a5-4379-a956-94c82334bff0"
      },
      "execution_count": null,
      "outputs": [
        {
          "output_type": "stream",
          "name": "stdout",
          "text": [
            "[('꽃이', 5)]\n",
            "[('꽃이', 5), ('피네', 3)]\n"
          ]
        }
      ]
    },
    {
      "cell_type": "markdown",
      "source": [
        "011"
      ],
      "metadata": {
        "id": "H0chIf19jmg2"
      }
    },
    {
      "cell_type": "code",
      "source": [
        "text = \"Life is too short, Ypu need python.\"\n",
        "\n",
        "letters = re.findall('[a-zA-z,.]',text)\n",
        "print(letters)"
      ],
      "metadata": {
        "colab": {
          "base_uri": "https://localhost:8080/"
        },
        "id": "FGsVdhmqhjEc",
        "outputId": "fc1f7438-274d-4b2a-cd74-534ee8ca30e9"
      },
      "execution_count": null,
      "outputs": [
        {
          "output_type": "stream",
          "name": "stdout",
          "text": [
            "['L', 'i', 'f', 'e', 'i', 's', 't', 'o', 'o', 's', 'h', 'o', 'r', 't', ',', 'Y', 'p', 'u', 'n', 'e', 'e', 'd', 'p', 'y', 't', 'h', 'o', 'n', '.']\n"
          ]
        }
      ]
    },
    {
      "cell_type": "code",
      "source": [
        "counter = Counter(letters)"
      ],
      "metadata": {
        "id": "hGO3KcLrnl3e"
      },
      "execution_count": null,
      "outputs": []
    },
    {
      "cell_type": "code",
      "source": [
        "d = dict()\n",
        "for key in text:\n",
        "    if key not in d:\n",
        "        d[key] = 0\n",
        "    d[key] +=1\n",
        "\n",
        "print(d)"
      ],
      "metadata": {
        "colab": {
          "base_uri": "https://localhost:8080/"
        },
        "id": "TuU5Ua08nrtn",
        "outputId": "519c6048-421b-4033-d559-e1c943bbff28"
      },
      "execution_count": null,
      "outputs": [
        {
          "output_type": "stream",
          "name": "stdout",
          "text": [
            "{'L': 1, 'i': 2, 'f': 1, 'e': 3, ' ': 6, 's': 2, 't': 3, 'o': 4, 'h': 2, 'r': 1, ',': 1, 'Y': 1, 'p': 2, 'u': 1, 'n': 2, 'd': 1, 'y': 1, '.': 1}\n"
          ]
        }
      ]
    },
    {
      "cell_type": "code",
      "source": [
        "from collections import defaultdict\n",
        "\n",
        "text = \"Life is too short, Ypu need python.\"\n",
        "\n",
        "d = defaultdict(int)\n",
        "for key in text:\n",
        "    d[key] +=1\n",
        "\n",
        "print(dict(d))"
      ],
      "metadata": {
        "colab": {
          "base_uri": "https://localhost:8080/"
        },
        "id": "5InLNXCUjlIO",
        "outputId": "eba75d1e-09a6-48a8-c614-0a35c787b587"
      },
      "execution_count": null,
      "outputs": [
        {
          "output_type": "stream",
          "name": "stdout",
          "text": [
            "{'L': 1, 'i': 2, 'f': 1, 'e': 3, ' ': 6, 's': 2, 't': 3, 'o': 4, 'h': 2, 'r': 1, ',': 1, 'Y': 1, 'p': 2, 'u': 1, 'n': 2, 'd': 1, 'y': 1, '.': 1}\n"
          ]
        }
      ]
    },
    {
      "cell_type": "code",
      "source": [
        "import heapq\n",
        "data = [\n",
        "    (12.23,\"강보람\"),\n",
        "    (12.31,\"김지원\"),\n",
        "    (11.98,\"박시우\"),\n",
        "    (11.99,\"장준혁\"),\n",
        "    (11.67,\"강보람\"),\n",
        "    (12.02,\"차정웅\"),\n",
        "    (11.57,\"차동현\"),\n",
        "    (12.04,\"고미숙\"),\n",
        "    (11.92,\"한시우\"),\n",
        "    (12.22,\"이민석\"),\n",
        "]\n",
        "h = []\n",
        "for score in data:\n",
        "    heapq.heappush(h, score)\n",
        "\n",
        "for i in range(3):\n",
        "    print(heapq.heappop(h))"
      ],
      "metadata": {
        "colab": {
          "base_uri": "https://localhost:8080/"
        },
        "id": "AvWJKzwjkwR9",
        "outputId": "5ed83c2e-4773-4a91-c108-2c39428fa930"
      },
      "execution_count": null,
      "outputs": [
        {
          "output_type": "stream",
          "name": "stdout",
          "text": [
            "(11.57, '차동현')\n",
            "(11.67, '강보람')\n",
            "(11.92, '한시우')\n"
          ]
        }
      ]
    },
    {
      "cell_type": "code",
      "source": [
        "import heapq\n",
        "data = [\n",
        "    (12.23,\"강보람\"),\n",
        "    (12.31,\"김지원\"),\n",
        "    (11.98,\"박시우\"),\n",
        "    (11.99,\"장준혁\"),\n",
        "    (11.67,\"강보람\"),\n",
        "    (12.02,\"차정웅\"),\n",
        "    (11.57,\"차동현\"),\n",
        "    (12.04,\"고미숙\"),\n",
        "    (11.92,\"한시우\"),\n",
        "    (12.22,\"이민석\"),\n",
        "]\n",
        "\n",
        "heapq.heapify(data)\n",
        "\n",
        "for i in range(3):\n",
        "    print(heapq.heappop(data))\n",
        "print(heapq.nsmallest(5, data))"
      ],
      "metadata": {
        "colab": {
          "base_uri": "https://localhost:8080/"
        },
        "id": "DGKB4zmxmlte",
        "outputId": "bb6589ea-4967-4cbd-fa08-d4a5cb678431"
      },
      "execution_count": null,
      "outputs": [
        {
          "output_type": "stream",
          "name": "stdout",
          "text": [
            "(11.57, '차동현')\n",
            "(11.67, '강보람')\n",
            "(11.92, '한시우')\n",
            "[(11.98, '박시우'), (11.99, '장준혁'), (12.02, '차정웅'), (12.04, '고미숙'), (12.22, '이민석')]\n"
          ]
        }
      ]
    },
    {
      "cell_type": "markdown",
      "source": [
        "013"
      ],
      "metadata": {
        "id": "xaLu4rdum899"
      }
    },
    {
      "cell_type": "code",
      "source": [
        "import pprint\n",
        "result = {'userId': 1, 'id': 1, 'title': 'sunt aut tacere repellat provident occaecati excepturi optio reprehenderit', 'body': 'quia et suscipit\\nsuscipit recusandae consequuntur expedita et cum\\nreprehenderit molestiae ut ut quas totam\\nnostrum rerum est autem sunt rem eveniet architecto'}\n",
        "pprint.pprint(result)"
      ],
      "metadata": {
        "colab": {
          "base_uri": "https://localhost:8080/"
        },
        "id": "EB_AdZDwm7At",
        "outputId": "3fc873d8-69be-4b1e-b3ef-a37db6b24a85"
      },
      "execution_count": null,
      "outputs": [
        {
          "output_type": "stream",
          "name": "stdout",
          "text": [
            "{'body': 'quia et suscipit\\n'\n",
            "         'suscipit recusandae consequuntur expedita et cum\\n'\n",
            "         'reprehenderit molestiae ut ut quas totam\\n'\n",
            "         'nostrum rerum est autem sunt rem eveniet architecto',\n",
            " 'id': 1,\n",
            " 'title': 'sunt aut tacere repellat provident occaecati excepturi optio '\n",
            "          'reprehenderit',\n",
            " 'userId': 1}\n"
          ]
        }
      ]
    },
    {
      "cell_type": "markdown",
      "source": [
        "014"
      ],
      "metadata": {
        "id": "Yz_P49QDn2HX"
      }
    },
    {
      "cell_type": "code",
      "source": [
        "scores = [33, 99, 77, 70, 89, 90, 100]\n",
        "\n",
        "result = []\n",
        "\n",
        "for score in scores:\n",
        "    if score >= 90:\n",
        "        result.append('A')\n",
        "    elif score >= 80:\n",
        "        result.append('B')\n",
        "    elif score >= 70:\n",
        "        result.append('c')\n",
        "    elif score >= 60:\n",
        "        result.append('D')\n",
        "    else: \n",
        "        result.append('F')"
      ],
      "metadata": {
        "id": "_wqg3D9W0bj6"
      },
      "execution_count": null,
      "outputs": []
    },
    {
      "cell_type": "code",
      "source": [
        "import bisect\n",
        "result = []\n",
        "\n",
        "for score in [33, 99, 77, 70, 89, 90, 100]:\n",
        "    pos = bisect.bisect([60, 70, 80, 90], score)\n",
        "    grade = 'FDCBA'[pos]\n",
        "    result.append(grade)\n",
        "\n",
        "print(result)"
      ],
      "metadata": {
        "colab": {
          "base_uri": "https://localhost:8080/"
        },
        "id": "mKErhBz3n1pI",
        "outputId": "97a7b022-af83-4915-c0a2-4ab3ffcea0ea"
      },
      "execution_count": null,
      "outputs": [
        {
          "output_type": "stream",
          "name": "stdout",
          "text": [
            "['F', 'A', 'C', 'C', 'B', 'A', 'A']\n"
          ]
        }
      ]
    },
    {
      "cell_type": "code",
      "source": [
        "import bisect\n",
        "result = []\n",
        "\n",
        "for score in [33, 99, 77, 70, 89, 90, 100]:\n",
        "    pos = bisect.bisect_left([60, 70, 80, 90], score)\n",
        "    grade = 'FDCBA'[pos]\n",
        "    result.append(grade)\n",
        "\n",
        "print(result)"
      ],
      "metadata": {
        "colab": {
          "base_uri": "https://localhost:8080/"
        },
        "id": "4rd2RLLQn6xd",
        "outputId": "c2dc2ec4-5f5c-4c0d-a574-7bc3de052e43"
      },
      "execution_count": null,
      "outputs": [
        {
          "output_type": "stream",
          "name": "stdout",
          "text": [
            "['F', 'A', 'C', 'D', 'B', 'B', 'A']\n"
          ]
        }
      ]
    },
    {
      "cell_type": "code",
      "source": [
        "a = [60, 70, 80, 90]\n",
        "bisect.insort(a, 85)\n",
        "a"
      ],
      "metadata": {
        "colab": {
          "base_uri": "https://localhost:8080/"
        },
        "id": "SokfeWEO204S",
        "outputId": "19520641-b1f3-474c-b872-1c9f5f84d6f8"
      },
      "execution_count": null,
      "outputs": [
        {
          "output_type": "execute_result",
          "data": {
            "text/plain": [
              "[60, 70, 80, 85, 90]"
            ]
          },
          "metadata": {},
          "execution_count": 73
        }
      ]
    },
    {
      "cell_type": "markdown",
      "source": [
        "015"
      ],
      "metadata": {
        "id": "X_KUB3JDrMOH"
      }
    },
    {
      "cell_type": "code",
      "source": [
        "from datetime import date\n",
        "from enum import IntEnum\n",
        "\n",
        "class Week(IntEnum):\n",
        "    MONDAY = 1\n",
        "    TUESDAY = 2\n",
        "    WEDNESDAY = 3\n",
        "    THURSDAY = 4\n",
        "    FRIDAY = 5\n",
        "    SATURDAY = 6\n",
        "    SUNDAY = 7\n",
        "\n",
        "def get_menu(input_date):\n",
        "    weekday = input_date.isoweekday()\n",
        "    if weekday ==1:\n",
        "        menu = \"김치찌개\"\n",
        "    elif weekday ==2:\n",
        "        menu = \"비빔밥\"\n",
        "    elif weekday ==3:\n",
        "        menu = \"된장찌개\"\n",
        "    elif weekday ==4:\n",
        "        menu = \"불고기\"\n",
        "    elif weekday ==5:\n",
        "        menu = \"갈비탕\"\n",
        "    elif weekday ==6:\n",
        "        menu = \"라면\"\n",
        "    elif weekday ==7:\n",
        "        menu = \"건빵\"\n",
        "    return menu\n",
        "\n",
        "print(get_menu(date(2021, 12, 6)))\n",
        "print(get_menu(date(2021, 12,18)))"
      ],
      "metadata": {
        "colab": {
          "base_uri": "https://localhost:8080/"
        },
        "id": "jcku5GNZrKpQ",
        "outputId": "e3002cec-e408-4505-fec3-e43a79db4d3d"
      },
      "execution_count": null,
      "outputs": [
        {
          "output_type": "stream",
          "name": "stdout",
          "text": [
            "김치찌개\n",
            "라면\n"
          ]
        }
      ]
    },
    {
      "cell_type": "code",
      "source": [
        "from datetime import date\n",
        "from enum import IntEnum\n",
        "\n",
        "class Week(IntEnum):\n",
        "    MONDAY = 1\n",
        "    TUESDAY = 2\n",
        "    WEDNESDAY = 3\n",
        "    THURSDAY = 4\n",
        "    FRIDAY = 5\n",
        "    SATURDAY = 6\n",
        "    SUNDAY = 7\n",
        "\n",
        "def get_menu(input_date):\n",
        "    menu = {\n",
        "        Week.MONDAY : \"김치찌개\",\n",
        "        Week.TUESDAY : \"비빔밥\",\n",
        "        Week.WEDNESDAY : \"된장찌개\",\n",
        "        Week.THURSDAY : \"불고기\",\n",
        "        Week.FRIDAY : \"갈비탕\",\n",
        "        Week.SATURDAY : \"라면\",\n",
        "        Week.SUNDAY : \"건빵\",\n",
        "    }\n",
        "    return menu[input_date.isoweekday()]\n",
        "print(get_menu(date.today()))"
      ],
      "metadata": {
        "colab": {
          "base_uri": "https://localhost:8080/"
        },
        "id": "CdVTK_-V31oj",
        "outputId": "d0bd16c6-ba56-4120-d3ab-b05e96cbcf36"
      },
      "execution_count": null,
      "outputs": [
        {
          "output_type": "stream",
          "name": "stdout",
          "text": [
            "비빔밥\n"
          ]
        }
      ]
    },
    {
      "cell_type": "code",
      "source": [
        "for week in Week:\n",
        "    print(\"{}:{}\".format(week.name, week.value))"
      ],
      "metadata": {
        "colab": {
          "base_uri": "https://localhost:8080/"
        },
        "id": "VBV7Xlwu7ixr",
        "outputId": "15b90059-3301-49ff-d474-a1cfa30a4b41"
      },
      "execution_count": null,
      "outputs": [
        {
          "output_type": "stream",
          "name": "stdout",
          "text": [
            "MONDAY:1\n",
            "TUESDAY:2\n",
            "WEDNESDAY:3\n",
            "THURSDAY:4\n",
            "FRIDAY:5\n",
            "SATURDAY:6\n",
            "SUNDAY:7\n"
          ]
        }
      ]
    },
    {
      "cell_type": "markdown",
      "source": [
        "016"
      ],
      "metadata": {
        "id": "becrqqQUvr2a"
      }
    },
    {
      "cell_type": "code",
      "source": [
        "from graphlib import TopologicalSorter\n",
        "\n",
        "ts = TopologicalSorter()\n",
        "\n",
        "ts.add('영어 중급','영어 초급')\n",
        "ts.add('영어 고급', '영어 중급')\n",
        "\n",
        "ts.add('영어 문법', '영어 중급')\n",
        "ts.add('영어 고급', '영어 문법')\n",
        "\n",
        "ts.add('영어 회화', '영어 문법')\n",
        "\n",
        "print(list(ts.static_order()))"
      ],
      "metadata": {
        "colab": {
          "base_uri": "https://localhost:8080/"
        },
        "id": "LWEWa9q7vMUx",
        "outputId": "a7c1b776-c1f3-4a63-f799-e4be23d66c91"
      },
      "execution_count": null,
      "outputs": [
        {
          "output_type": "stream",
          "name": "stdout",
          "text": [
            "['영어 초급', '영어 중급', '영어 문법', '영어 고급', '영어 회화']\n"
          ]
        }
      ]
    },
    {
      "cell_type": "code",
      "source": [
        "from graphlib import TopologicalSorter\n",
        "\n",
        "ts = TopologicalSorter()\n",
        "\n",
        "ts.add('영어 중급','영어 초급')\n",
        "\n",
        "ts.add('영어 문법', '영어 중급')\n",
        "ts.add('영어 고급', '영어 중급', '영어 문법')\n",
        "\n",
        "ts.add('영어 회화', '영어 문법')\n",
        "\n",
        "print(list(ts.static_order()))"
      ],
      "metadata": {
        "colab": {
          "base_uri": "https://localhost:8080/"
        },
        "id": "K-2oTpwz-UHs",
        "outputId": "d87e2f06-2a9f-4665-8db1-dac86e1a95f4"
      },
      "execution_count": null,
      "outputs": [
        {
          "output_type": "stream",
          "name": "stdout",
          "text": [
            "['영어 초급', '영어 중급', '영어 문법', '영어 고급', '영어 회화']\n"
          ]
        }
      ]
    }
  ]
}