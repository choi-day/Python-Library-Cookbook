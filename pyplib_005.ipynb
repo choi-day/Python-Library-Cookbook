{
  "nbformat": 4,
  "nbformat_minor": 0,
  "metadata": {
    "colab": {
      "provenance": [],
      "authorship_tag": "ABX9TyPw01bPpbdySmrRBtQbegkM",
      "include_colab_link": true
    },
    "kernelspec": {
      "name": "python3",
      "display_name": "Python 3"
    },
    "language_info": {
      "name": "python"
    }
  },
  "cells": [
    {
      "cell_type": "markdown",
      "metadata": {
        "id": "view-in-github",
        "colab_type": "text"
      },
      "source": [
        "<a href=\"https://colab.research.google.com/github/choi-day/Python-Library-Cookbook/blob/main/pyplib_005.ipynb\" target=\"_parent\"><img src=\"https://colab.research.google.com/assets/colab-badge.svg\" alt=\"Open In Colab\"/></a>"
      ]
    },
    {
      "cell_type": "markdown",
      "source": [
        "035"
      ],
      "metadata": {
        "id": "1DHR8Cz8p-pK"
      }
    },
    {
      "cell_type": "code",
      "source": [
        "!echo \"hello1\" > test01.txt\n",
        "!echo \"hello2\" > test02.txt\n",
        "!echo \"hello3\" > test03.txt"
      ],
      "metadata": {
        "id": "8iBrWtMsrq-j"
      },
      "execution_count": 69,
      "outputs": []
    },
    {
      "cell_type": "code",
      "source": [
        "!mkdir archive"
      ],
      "metadata": {
        "colab": {
          "base_uri": "https://localhost:8080/",
          "height": 0
        },
        "id": "jUuA7HJUs-Ai",
        "outputId": "b52d9a92-75b3-48d3-dc3a-ee25dfb60855"
      },
      "execution_count": 10,
      "outputs": [
        {
          "output_type": "stream",
          "name": "stdout",
          "text": [
            "mkdir: cannot create directory ‘archive’: File exists\n"
          ]
        }
      ]
    },
    {
      "cell_type": "code",
      "execution_count": 12,
      "metadata": {
        "id": "S42x7wBTpjGE"
      },
      "outputs": [],
      "source": [
        "import glob\n",
        "import os\n",
        "import shutil\n",
        "\n",
        "for file_path in glob.glob('%s/*.txt' % os.getcwd()):\n",
        "    parent = os.path.dirname(file_path)\n",
        "    filename = os.path.basename(file_path)\n",
        "    new_path = os.path.join(parent, 'test')\n",
        "    if not os.path.exists(os.path.join(parent, 'test')):\n",
        "        os.mkdir(new_path)\n",
        "    new_path = os.path.join(parent, 'archive', filename)\n",
        "    shutil.move(file_path, new_path)"
      ]
    },
    {
      "cell_type": "code",
      "source": [
        "!mkdir archive2"
      ],
      "metadata": {
        "id": "wTXRRaeMvmx8"
      },
      "execution_count": 18,
      "outputs": []
    },
    {
      "cell_type": "code",
      "source": [
        "import pathlib\n",
        "\n",
        "for p in pathlib.Path.cwd().glob('*.txt'):\n",
        "    print(type(p))\n",
        "    new_p = p.parent.joinpath('archive2', p.name)\n",
        "    p.replace(new_p)"
      ],
      "metadata": {
        "colab": {
          "base_uri": "https://localhost:8080/",
          "height": 0
        },
        "id": "WWtp_vjhqAP7",
        "outputId": "3dfbe805-8a99-4564-c098-bc27203c0bad"
      },
      "execution_count": 21,
      "outputs": [
        {
          "output_type": "stream",
          "name": "stdout",
          "text": [
            "<class 'pathlib.PosixPath'>\n",
            "<class 'pathlib.PosixPath'>\n",
            "<class 'pathlib.PosixPath'>\n"
          ]
        }
      ]
    },
    {
      "cell_type": "code",
      "source": [
        "!echo \"hello1\" > test01.txt\n",
        "!echo \"hello2\" > test02.txt\n",
        "!echo \"hello3\" > test03.txt"
      ],
      "metadata": {
        "id": "1w0wsXpJq8N1"
      },
      "execution_count": 22,
      "outputs": []
    },
    {
      "cell_type": "code",
      "source": [
        "!echo \"readme\" > README.md"
      ],
      "metadata": {
        "id": "R5Hpfk6owC-M"
      },
      "execution_count": 24,
      "outputs": []
    },
    {
      "cell_type": "code",
      "source": [
        "!ls -al"
      ],
      "metadata": {
        "colab": {
          "base_uri": "https://localhost:8080/",
          "height": 0
        },
        "id": "i-XVONolwH2r",
        "outputId": "05421c2c-6bd1-4c64-b158-b8a86ac9acee"
      },
      "execution_count": 25,
      "outputs": [
        {
          "output_type": "stream",
          "name": "stdout",
          "text": [
            "total 48\n",
            "drwxr-xr-x 1 root root 4096 Apr 11 00:39 .\n",
            "drwxr-xr-x 1 root root 4096 Apr 11 00:11 ..\n",
            "drwxr-xr-x 2 root root 4096 Apr 11 00:36 archive\n",
            "drwxr-xr-x 2 root root 4096 Apr 11 00:37 archive2\n",
            "drwxr-xr-x 4 root root 4096 Apr  7 13:29 .config\n",
            "-rw-r--r-- 1 root root    7 Apr 11 00:39 README.md\n",
            "-rw-r--r-- 1 root root    7 Apr 11 00:39 README.me\n",
            "drwxr-xr-x 1 root root 4096 Apr  7 13:30 sample_data\n",
            "drwxr-xr-x 2 root root 4096 Apr 11 00:28 test\n",
            "-rw-r--r-- 1 root root    7 Apr 11 00:38 test01.txt\n",
            "-rw-r--r-- 1 root root    7 Apr 11 00:38 test02.txt\n",
            "-rw-r--r-- 1 root root    7 Apr 11 00:38 test03.txt\n"
          ]
        }
      ]
    },
    {
      "cell_type": "markdown",
      "source": [
        "016"
      ],
      "metadata": {
        "id": "CU45rG8FwdRb"
      }
    },
    {
      "cell_type": "code",
      "source": [
        "import collections, pathlib\n",
        "\n",
        "def search(dirname):\n",
        "    filenames = os.listdir(dirname)\n",
        "    for p in pathlib.Path.cwd().iterdir():\n",
        "        for filename in filenames:\n",
        "            if os.path.isfile(filename):\n",
        "                filepath = os.path.join(dirname, filename)\n",
        "                name, ext = os.path.splitext(filename)\n",
        "                if ext == '.py' or ext == '.txt': \n",
        "                    print(filepath)\n",
        "                elif os.path.isdir(filepath):\n",
        "                    search(filepath)\n",
        "        \n",
        "\n",
        "collections.Counter([p.suffix for p in pathlib.Path.cwd().iterdir()])"
      ],
      "metadata": {
        "colab": {
          "base_uri": "https://localhost:8080/",
          "height": 0
        },
        "id": "W7X9j3lLwKvr",
        "outputId": "3e820eaa-31b7-40b5-9569-58e345ed67bb"
      },
      "execution_count": 39,
      "outputs": [
        {
          "output_type": "execute_result",
          "data": {
            "text/plain": [
              "Counter({'': 5, '.txt': 3, '.md': 1, '.me': 1})"
            ]
          },
          "metadata": {},
          "execution_count": 39
        }
      ]
    },
    {
      "cell_type": "code",
      "source": [
        "import pathlib\n",
        "\n",
        "def search(dirname):\n",
        "    for p in pathlib.Path(dirname).rglob('*.txt'):\n",
        "        print(p)\n",
        "\n",
        "search('.')"
      ],
      "metadata": {
        "colab": {
          "base_uri": "https://localhost:8080/",
          "height": 0
        },
        "id": "gYpOynfExbtr",
        "outputId": "703d4682-17a6-45ca-c4a2-f73d759676cc"
      },
      "execution_count": 38,
      "outputs": [
        {
          "output_type": "stream",
          "name": "stdout",
          "text": [
            "test01.txt\n",
            "test02.txt\n",
            "test03.txt\n",
            "archive/test01.txt\n",
            "archive/test02.txt\n",
            "archive/test03.txt\n",
            "archive2/test01.txt\n",
            "archive2/test02.txt\n",
            "archive2/test03.txt\n"
          ]
        }
      ]
    },
    {
      "cell_type": "markdown",
      "source": [
        "037"
      ],
      "metadata": {
        "id": "wPtNsfv5yDYL"
      }
    },
    {
      "cell_type": "code",
      "source": [
        "filenames = os.listdir(os.getcwd())\n",
        "textfiles = []\n",
        "for filename in filenames:\n",
        "    filepath = os.path.join(os.getcwd(), filename)\n",
        "    if os.path.isfile(filepath):\n",
        "        name, ext = os.path.splitext(filename)\n",
        "        if ext == '.txt':\n",
        "            textfiles.append(filepath)\n",
        "textfiles"
      ],
      "metadata": {
        "colab": {
          "base_uri": "https://localhost:8080/",
          "height": 0
        },
        "id": "9Wj_k7k90X1D",
        "outputId": "d03faf5c-50ce-4a3a-8151-4c80c4132005"
      },
      "execution_count": 43,
      "outputs": [
        {
          "output_type": "execute_result",
          "data": {
            "text/plain": [
              "['/content/test01.txt', '/content/test02.txt', '/content/test03.txt']"
            ]
          },
          "metadata": {},
          "execution_count": 43
        }
      ]
    },
    {
      "cell_type": "code",
      "source": [
        "for textfile in textfiles:\n",
        "    with open(textfile, 'r') as f:\n",
        "        while True:\n",
        "            line = f.readline()\n",
        "            if not line:\n",
        "                break\n",
        "            print(line)"
      ],
      "metadata": {
        "colab": {
          "base_uri": "https://localhost:8080/",
          "height": 0
        },
        "id": "jKbDZpEb0MQE",
        "outputId": "10755378-7c96-4740-a6ec-c292203403ef"
      },
      "execution_count": 44,
      "outputs": [
        {
          "output_type": "stream",
          "name": "stdout",
          "text": [
            "hello1\n",
            "\n",
            "hello2\n",
            "\n",
            "hello3\n",
            "\n"
          ]
        }
      ]
    },
    {
      "cell_type": "markdown",
      "source": [
        "038"
      ],
      "metadata": {
        "id": "jzDeF8F5yFD6"
      }
    },
    {
      "cell_type": "code",
      "source": [
        "import filecmp\n",
        "\n",
        "fd = filecmp.dircmp('.', 'test')\n",
        "\n",
        "for a in fd.left_only:\n",
        "    print(\"a: %s\" % a)\n",
        "for b in fd.right_only:\n",
        "    print(\"b: %s\" % b)\n",
        "for x in fd.diff_files:\n",
        "    print(\"x: %s\" % x)\n",
        "\n",
        "for c in fd.common_files:\n",
        "    print(\"axb: %s\" % c)"
      ],
      "metadata": {
        "colab": {
          "base_uri": "https://localhost:8080/",
          "height": 0
        },
        "id": "AyRp2dzy2RWb",
        "outputId": "0ac9834b-71a7-4b6a-a83f-0a409c3db926"
      },
      "execution_count": 47,
      "outputs": [
        {
          "output_type": "stream",
          "name": "stdout",
          "text": [
            "a: .config\n",
            "a: README.md\n",
            "a: README.me\n",
            "a: archive\n",
            "a: archive2\n",
            "a: sample_data\n",
            "a: test\n",
            "a: test01.txt\n",
            "a: test02.txt\n",
            "a: test03.txt\n"
          ]
        }
      ]
    },
    {
      "cell_type": "markdown",
      "source": [
        "039"
      ],
      "metadata": {
        "id": "cIe3LE0k20bM"
      }
    },
    {
      "cell_type": "code",
      "source": [
        "def sumfile(f):\n",
        "    result = 0\n",
        "    for line in f.readlines():\n",
        "        num = int(line)\n",
        "        result += num\n",
        "    return result"
      ],
      "metadata": {
        "id": "PQ6S-h7J7kdU"
      },
      "execution_count": 59,
      "outputs": []
    },
    {
      "cell_type": "code",
      "source": [
        "import tempfile\n",
        "import random\n",
        "\n",
        "tf = tempfile.NamedTemporaryFile(mode = 'w+')\n",
        "for i in range(10):\n",
        "    num = random.randint(1, 100)\n",
        "    tf.write(str(num))\n",
        "    tf.write('\\n')\n",
        "input()\n",
        "\n",
        "tf.seek(0)\n",
        "result = sumfile(tf)\n",
        "tf.close()\n",
        "\n",
        "print(result)"
      ],
      "metadata": {
        "colab": {
          "base_uri": "https://localhost:8080/",
          "height": 0
        },
        "id": "mcpyo4Hg8Gfz",
        "outputId": "0d3350d7-8c9a-468e-e2f1-a22c1dc2dc90"
      },
      "execution_count": 60,
      "outputs": [
        {
          "output_type": "stream",
          "name": "stdout",
          "text": [
            "1 2 3 4\n",
            "554\n"
          ]
        }
      ]
    },
    {
      "cell_type": "markdown",
      "source": [
        "040"
      ],
      "metadata": {
        "id": "_xI78UKP8shQ"
      }
    },
    {
      "cell_type": "code",
      "source": [
        "import glob\n",
        "\n",
        "for filename in glob.glob(\"**/*.txt\"):\n",
        "    print(filename)"
      ],
      "metadata": {
        "colab": {
          "base_uri": "https://localhost:8080/",
          "height": 0
        },
        "id": "hfrL62Vw9gDU",
        "outputId": "5e2e9301-dbb7-4dc6-8a47-59d505041478"
      },
      "execution_count": 61,
      "outputs": [
        {
          "output_type": "stream",
          "name": "stdout",
          "text": [
            "temp/test02.txt\n",
            "archive/test01.txt\n",
            "archive/test02.txt\n",
            "archive/test03.txt\n",
            "archive2/test01.txt\n",
            "archive2/test02.txt\n",
            "archive2/test03.txt\n"
          ]
        }
      ]
    },
    {
      "cell_type": "markdown",
      "source": [
        "041"
      ],
      "metadata": {
        "id": "1zbG_evs9mka"
      }
    },
    {
      "cell_type": "code",
      "source": [
        "import fnmatch\n",
        "import os\n",
        "\n",
        "for filename in os.listdir('.'):\n",
        "    if fnmatch.fnmatch(filename, 'a???[0-9].py'):\n",
        "        print(filename)"
      ],
      "metadata": {
        "id": "XqsDTp9o-Vok"
      },
      "execution_count": 62,
      "outputs": []
    },
    {
      "cell_type": "code",
      "source": [
        "import fnmatch\n",
        "import os\n",
        "\n",
        "for filename in os.listdir('.'):\n",
        "    if fnmatch.fnmatch(filename, 't????[0-9].txt'):\n",
        "        print(filename)"
      ],
      "metadata": {
        "colab": {
          "base_uri": "https://localhost:8080/",
          "height": 0
        },
        "id": "l-SPNrfa-h20",
        "outputId": "579144a0-ee43-4fe6-e142-8773627247a7"
      },
      "execution_count": 63,
      "outputs": [
        {
          "output_type": "stream",
          "name": "stdout",
          "text": [
            "test01.txt\n",
            "test03.txt\n"
          ]
        }
      ]
    },
    {
      "cell_type": "markdown",
      "source": [
        "042"
      ],
      "metadata": {
        "id": "IQM6dK-s_MR0"
      }
    },
    {
      "cell_type": "code",
      "source": [
        "import linecache\n",
        "import random\n",
        "\n",
        "no = random.randint(1, 100)\n",
        "print(linecache.getline('saying.txt', no))"
      ],
      "metadata": {
        "colab": {
          "base_uri": "https://localhost:8080/",
          "height": 0
        },
        "id": "RCdaPKFE_nF0",
        "outputId": "69a106d3-68d2-48f3-983d-ecab4f3b2c39"
      },
      "execution_count": 64,
      "outputs": [
        {
          "output_type": "stream",
          "name": "stdout",
          "text": [
            "콩 심은 데 콩 나고 팥 심은 데 팥 난다\n",
            "\n"
          ]
        }
      ]
    },
    {
      "cell_type": "markdown",
      "source": [
        "043"
      ],
      "metadata": {
        "id": "g3xaBfF9BIrv"
      }
    },
    {
      "cell_type": "code",
      "source": [
        "!mkdir temp"
      ],
      "metadata": {
        "colab": {
          "base_uri": "https://localhost:8080/",
          "height": 0
        },
        "id": "0YERXWZHBnge",
        "outputId": "04ce9d28-f91a-4344-cf4d-f0b81c46e15c"
      },
      "execution_count": 65,
      "outputs": [
        {
          "output_type": "stream",
          "name": "stdout",
          "text": [
            "mkdir: cannot create directory ‘temp’: File exists\n"
          ]
        }
      ]
    },
    {
      "cell_type": "code",
      "source": [
        "import shutil\n",
        "\n",
        "shutil.copy('test01.txt', 'temp/test01.txt.bak')"
      ],
      "metadata": {
        "colab": {
          "base_uri": "https://localhost:8080/",
          "height": 35
        },
        "id": "VYDx54jiBQp0",
        "outputId": "76c1c024-94a8-4b68-ba50-163badf976f0"
      },
      "execution_count": 66,
      "outputs": [
        {
          "output_type": "execute_result",
          "data": {
            "text/plain": [
              "'temp/test01.txt.bak'"
            ],
            "application/vnd.google.colaboratory.intrinsic+json": {
              "type": "string"
            }
          },
          "metadata": {},
          "execution_count": 66
        }
      ]
    },
    {
      "cell_type": "code",
      "source": [
        "shutil.move('test02.txt', \"temp/test02.txt\")"
      ],
      "metadata": {
        "colab": {
          "base_uri": "https://localhost:8080/",
          "height": 35
        },
        "id": "6id5waDbB2Vt",
        "outputId": "abe6fd7c-cc36-4e9a-f9fe-c076aa5b3d96"
      },
      "execution_count": 70,
      "outputs": [
        {
          "output_type": "execute_result",
          "data": {
            "text/plain": [
              "'temp/test02.txt'"
            ],
            "application/vnd.google.colaboratory.intrinsic+json": {
              "type": "string"
            }
          },
          "metadata": {},
          "execution_count": 70
        }
      ]
    },
    {
      "cell_type": "code",
      "source": [],
      "metadata": {
        "id": "J0PvQmC3CtYB"
      },
      "execution_count": null,
      "outputs": []
    }
  ]
}