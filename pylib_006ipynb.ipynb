{
  "nbformat": 4,
  "nbformat_minor": 0,
  "metadata": {
    "colab": {
      "provenance": [],
      "authorship_tag": "ABX9TyMiy0ICcrPRm/CDla558UWj",
      "include_colab_link": true
    },
    "kernelspec": {
      "name": "python3",
      "display_name": "Python 3"
    },
    "language_info": {
      "name": "python"
    }
  },
  "cells": [
    {
      "cell_type": "markdown",
      "metadata": {
        "id": "view-in-github",
        "colab_type": "text"
      },
      "source": [
        "<a href=\"https://colab.research.google.com/github/choi-day/Python-Library-Cookbook/blob/main/pylib_006ipynb.ipynb\" target=\"_parent\"><img src=\"https://colab.research.google.com/assets/colab-badge.svg\" alt=\"Open In Colab\"/></a>"
      ]
    },
    {
      "cell_type": "markdown",
      "source": [
        "044"
      ],
      "metadata": {
        "id": "OKc-n1qYs1fj"
      }
    },
    {
      "cell_type": "code",
      "execution_count": null,
      "metadata": {
        "id": "3HBdWkjJrBzQ"
      },
      "outputs": [],
      "source": [
        "import pickle"
      ]
    },
    {
      "cell_type": "code",
      "source": [
        "data = {}\n",
        "\n",
        "data[1] = {'no': 1, 'subject': '안녕 피클?', 'content' : '피클 정말 쉽네?'}\n",
        "\n",
        "with open('data.p', 'wb') as f:\n",
        "    pickle.dump(data, f)"
      ],
      "metadata": {
        "id": "2qz-ovjxs4MT"
      },
      "execution_count": null,
      "outputs": []
    },
    {
      "cell_type": "code",
      "source": [
        "!cat data.p"
      ],
      "metadata": {
        "colab": {
          "base_uri": "https://localhost:8080/"
        },
        "id": "sgnlyCWOtpKS",
        "outputId": "89327afe-0031-4f90-e7ae-44146d6e81ef"
      },
      "execution_count": null,
      "outputs": [
        {
          "output_type": "stream",
          "name": "stdout",
          "text": [
            "�\u0004�N\u0000\u0000\u0000\u0000\u0000\u0000\u0000}�K\u0001}�(�\u0002no�K\u0001�\u0007subject��\u000e안녕 피클?��\u0007content��\u0015피클 정말 쉽네?�us."
          ]
        }
      ]
    },
    {
      "cell_type": "code",
      "source": [
        "with open('data.p', 'rb') as f:\n",
        "    load_data = pickle.load(f)\n",
        "\n",
        "load_data"
      ],
      "metadata": {
        "colab": {
          "base_uri": "https://localhost:8080/"
        },
        "id": "NDF9Dh39uB-h",
        "outputId": "b6205997-f8f6-47bb-dd56-125cfddf53a2"
      },
      "execution_count": null,
      "outputs": [
        {
          "output_type": "execute_result",
          "data": {
            "text/plain": [
              "{1: {'no': 1, 'subject': '안녕 피클?', 'content': '피클 정말 쉽네?'}}"
            ]
          },
          "metadata": {},
          "execution_count": 4
        }
      ]
    },
    {
      "cell_type": "code",
      "source": [
        "import pickle\n",
        "\n",
        "def get_all_data():\n",
        "    try:\n",
        "        with open('data.p', 'rb') as f:\n",
        "            return pickle.load(f)\n",
        "    except FileNotFoundError:\n",
        "        return{}\n",
        "\n",
        "def add_data(no, subject, content):\n",
        "    data = get_all_data()\n",
        "    assert no not in data\n",
        "    data[no] = {'no': no, 'subject': subject, 'content': content}\n",
        "    with open('data.p', 'wb') as f:\n",
        "        pickle.dump(data, f)\n",
        "\n",
        "def get_data(no):\n",
        "    load_data = get_all_data()\n",
        "    return load_data[no]\n",
        "\n",
        "add_data(1, '안녕 피클', '피클은 단순하다.')\n",
        "data = get_data(1)\n",
        "print(data['no'])\n",
        "print(data['subject'])\n",
        "print(data['content'])"
      ],
      "metadata": {
        "colab": {
          "base_uri": "https://localhost:8080/"
        },
        "id": "lkIUDlIjuaNh",
        "outputId": "62908d83-1716-4b8c-8168-b714f8b02c0d"
      },
      "execution_count": null,
      "outputs": [
        {
          "output_type": "stream",
          "name": "stdout",
          "text": [
            "1\n",
            "안녕 피클\n",
            "피클은 단순하다.\n"
          ]
        }
      ]
    },
    {
      "cell_type": "code",
      "source": [
        "add_data(2, '잘 자 피클', '피클은 멋있어')"
      ],
      "metadata": {
        "id": "Y8NgBEX9v6u8"
      },
      "execution_count": null,
      "outputs": []
    },
    {
      "cell_type": "code",
      "source": [
        "data = get_data(2)\n",
        "print(data['no'])\n",
        "print(data['subject'])\n",
        "print(data['content'])"
      ],
      "metadata": {
        "colab": {
          "base_uri": "https://localhost:8080/"
        },
        "id": "nBCjgV54wVUA",
        "outputId": "8c139235-d564-40d5-b1a7-727d81a4b487"
      },
      "execution_count": null,
      "outputs": [
        {
          "output_type": "stream",
          "name": "stdout",
          "text": [
            "2\n",
            "잘 자 피클\n",
            "피클은 멋있어\n"
          ]
        }
      ]
    },
    {
      "cell_type": "code",
      "source": [
        "get_all_data()"
      ],
      "metadata": {
        "colab": {
          "base_uri": "https://localhost:8080/"
        },
        "id": "ugeovssdwVpg",
        "outputId": "3e265d02-d04c-491b-f6fa-7e686a1e5095"
      },
      "execution_count": null,
      "outputs": [
        {
          "output_type": "execute_result",
          "data": {
            "text/plain": [
              "{1: {'no': 1, 'subject': '안녕 피클', 'content': '피클은 단순하다.'},\n",
              " 2: {'no': 2, 'subject': '잘 자 피클', 'content': '피클은 멋있어'}}"
            ]
          },
          "metadata": {},
          "execution_count": 6
        }
      ]
    },
    {
      "cell_type": "markdown",
      "source": [
        "045"
      ],
      "metadata": {
        "id": "TbcYAKj6wYEw"
      }
    },
    {
      "cell_type": "code",
      "source": [
        "class Student:\n",
        "    def __init__(self, name, age):\n",
        "        self.name = name\n",
        "        self.age = age"
      ],
      "metadata": {
        "id": "iOeb3w4JwiTA"
      },
      "execution_count": null,
      "outputs": []
    },
    {
      "cell_type": "code",
      "source": [
        "import pickle\n",
        "\n",
        "a = Student('최다연', 22)\n",
        "\n",
        "with open('student.p', 'wb') as f:\n",
        "    pickle.dump(a, f)\n",
        "\n",
        "with open('student.p', 'rb') as f:\n",
        "    student = pickle.load(f)\n",
        "\n",
        "print(student)"
      ],
      "metadata": {
        "colab": {
          "base_uri": "https://localhost:8080/"
        },
        "id": "UEubp8IqyNDB",
        "outputId": "174b0ade-b8c5-4a18-c0a3-603935c03c5e"
      },
      "execution_count": null,
      "outputs": [
        {
          "output_type": "stream",
          "name": "stdout",
          "text": [
            "<__main__.Student object at 0x7f5ff70bb4c0>\n"
          ]
        }
      ]
    },
    {
      "cell_type": "code",
      "source": [
        "student.name"
      ],
      "metadata": {
        "colab": {
          "base_uri": "https://localhost:8080/",
          "height": 35
        },
        "id": "3wos0iY2yj4f",
        "outputId": "b2b1451b-bf5d-4d24-a91e-d90f5af02afa"
      },
      "execution_count": null,
      "outputs": [
        {
          "output_type": "execute_result",
          "data": {
            "text/plain": [
              "'최다연'"
            ],
            "application/vnd.google.colaboratory.intrinsic+json": {
              "type": "string"
            }
          },
          "metadata": {},
          "execution_count": 18
        }
      ]
    },
    {
      "cell_type": "code",
      "source": [
        "#code write\n",
        "\n",
        "import pickle\n",
        "import copyreg\n",
        "\n",
        "\n",
        "class Student:\n",
        "    def __init__(self, name, age):\n",
        "        self.name = name\n",
        "        self.age = age\n",
        "\n",
        "\n",
        "def pickle_student(student):\n",
        "    kwargs = student.__dict__\n",
        "    return unpickle_student, (kwargs, )\n",
        "\n",
        "\n",
        "def unpickle_student(kwargs):\n",
        "    return Student(**kwargs)\n",
        "\n",
        "copyreg.pickle(Student, pickle_student)\n",
        "\n",
        "a = Student('최다연', 22)\n",
        "\n",
        "with open('student.p', 'wb') as f:\n",
        "    pickle.dump(a, f)"
      ],
      "metadata": {
        "id": "3mbcZVy_0cwp"
      },
      "execution_count": null,
      "outputs": []
    },
    {
      "cell_type": "code",
      "source": [
        "#code load\n",
        "\n",
        "import pickle\n",
        "import copyreg\n",
        "\n",
        "\n",
        "class Student:\n",
        "    def __init__(self, name, age):\n",
        "        self.name = name\n",
        "        self.age = age\n",
        "        self.dummy = 'dummy'\n",
        "        self.dip = 'IT'\n",
        "\n",
        "\n",
        "def pickle_student(student):\n",
        "    kwargs = student.__dict__\n",
        "    return unpickle_student, (kwargs, )\n",
        "\n",
        "\n",
        "def unpickle_student(kwargs):\n",
        "    return Student(**kwargs)\n",
        "\n",
        "copyreg.pickle(Student, pickle_student)\n",
        "\n",
        "with open('student.p', 'rb') as f:\n",
        "    student = pickle.load(f)\n",
        "\n",
        "print(student.__dict__)"
      ],
      "metadata": {
        "colab": {
          "base_uri": "https://localhost:8080/"
        },
        "id": "xM5MG6Gu1lvP",
        "outputId": "838d979d-1787-4ef9-8989-39477edc6491"
      },
      "execution_count": null,
      "outputs": [
        {
          "output_type": "stream",
          "name": "stdout",
          "text": [
            "{'name': '최다연', 'age': 22, 'dummy': 'dummy', 'dip': 'IT'}\n"
          ]
        }
      ]
    },
    {
      "cell_type": "markdown",
      "source": [
        "046"
      ],
      "metadata": {
        "id": "jASoWI7G2C8h"
      }
    },
    {
      "cell_type": "code",
      "source": [
        "import shelve\n",
        "\n",
        "def save(key, value):\n",
        "    with shelve.open('shelve.data') as d:\n",
        "        d[key] = value\n",
        "\n",
        "def get(key):\n",
        "    with shelve.open('shelve.data') as d:\n",
        "        return d[key]"
      ],
      "metadata": {
        "id": "eilIsbM23Ghd"
      },
      "execution_count": null,
      "outputs": []
    },
    {
      "cell_type": "code",
      "source": [
        "save('numbers', [1, 2, 3, 4, 5])"
      ],
      "metadata": {
        "id": "IHNfNLHm3nZX"
      },
      "execution_count": null,
      "outputs": []
    },
    {
      "cell_type": "code",
      "source": [
        "get('numbers')"
      ],
      "metadata": {
        "colab": {
          "base_uri": "https://localhost:8080/"
        },
        "id": "Cxcs0Msj3rBv",
        "outputId": "f36d53f5-a609-49cd-b665-bc5eae40513c"
      },
      "execution_count": null,
      "outputs": [
        {
          "output_type": "execute_result",
          "data": {
            "text/plain": [
              "[1, 2, 3, 4, 5]"
            ]
          },
          "metadata": {},
          "execution_count": 34
        }
      ]
    },
    {
      "cell_type": "code",
      "source": [
        "save('numbers', [1, 2, 3])"
      ],
      "metadata": {
        "id": "3d9yXvrP3sfe"
      },
      "execution_count": null,
      "outputs": []
    },
    {
      "cell_type": "code",
      "source": [
        "get('numbers')"
      ],
      "metadata": {
        "colab": {
          "base_uri": "https://localhost:8080/"
        },
        "id": "jB0keBy-37_N",
        "outputId": "01b90dfe-dc51-4dc4-e196-349c4ff63aa1"
      },
      "execution_count": null,
      "outputs": [
        {
          "output_type": "execute_result",
          "data": {
            "text/plain": [
              "[1, 2, 3]"
            ]
          },
          "metadata": {},
          "execution_count": 36
        }
      ]
    },
    {
      "cell_type": "markdown",
      "source": [
        "047"
      ],
      "metadata": {
        "id": "qGv0qc8R389b"
      }
    },
    {
      "cell_type": "code",
      "source": [
        "import sqlite3\n",
        "conn = sqlite3.connect('blog.db')"
      ],
      "metadata": {
        "id": "ZB6-nzbt936K"
      },
      "execution_count": null,
      "outputs": []
    },
    {
      "cell_type": "code",
      "source": [
        "c = conn.cursor()\n",
        "c.execute('''CREATE TABLE blog (id integer PRIMARY KEY, subject text, content text, date text)''')"
      ],
      "metadata": {
        "colab": {
          "base_uri": "https://localhost:8080/"
        },
        "id": "qwo81Rwy-Zbs",
        "outputId": "dd1b79e2-6423-41ea-f4a5-5de74fae65e9"
      },
      "execution_count": null,
      "outputs": [
        {
          "output_type": "execute_result",
          "data": {
            "text/plain": [
              "<sqlite3.Cursor at 0x7f5fe9d7ddc0>"
            ]
          },
          "metadata": {},
          "execution_count": 38
        }
      ]
    },
    {
      "cell_type": "code",
      "source": [
        "c.execute(\"INSERT INTO blog VALUES (1, '첫 번째 포스트', '첫 번째 포스트입니다.', '20230418')\")"
      ],
      "metadata": {
        "colab": {
          "base_uri": "https://localhost:8080/"
        },
        "id": "xDn_e-_0-5Nb",
        "outputId": "e52faff8-29fe-44ee-962d-df2e2b3e107b"
      },
      "execution_count": null,
      "outputs": [
        {
          "output_type": "execute_result",
          "data": {
            "text/plain": [
              "<sqlite3.Cursor at 0x7f5fe9d7ddc0>"
            ]
          },
          "metadata": {},
          "execution_count": 39
        }
      ]
    },
    {
      "cell_type": "code",
      "source": [
        "c.execute(\"INSERT INTO blog VALUES (2, '첫 번째 포스트', '첫 번째 포스트입니다.', '20230418')\")"
      ],
      "metadata": {
        "colab": {
          "base_uri": "https://localhost:8080/"
        },
        "id": "IeayaG9PAoDK",
        "outputId": "69e1962e-497f-4285-f6bd-8bd9220f7c56"
      },
      "execution_count": null,
      "outputs": [
        {
          "output_type": "execute_result",
          "data": {
            "text/plain": [
              "<sqlite3.Cursor at 0x7f5fe9d7ddc0>"
            ]
          },
          "metadata": {},
          "execution_count": 41
        }
      ]
    },
    {
      "cell_type": "code",
      "source": [
        "_id = 3\n",
        "subject = '세 번째 포스트'\n",
        "content = '세 번째 포스트입니다'\n",
        "date = '20230418'\n",
        "\n",
        "c.execute(\"INSERT INTO blog VALUES (%d, '%s', '%s', '%s')\" %(_id, subject, content, date))"
      ],
      "metadata": {
        "colab": {
          "base_uri": "https://localhost:8080/"
        },
        "id": "ZeZG38CIApvq",
        "outputId": "5866a899-fd1a-4947-f9b6-985b75f06f13"
      },
      "execution_count": null,
      "outputs": [
        {
          "output_type": "execute_result",
          "data": {
            "text/plain": [
              "<sqlite3.Cursor at 0x7f5fe9d7ddc0>"
            ]
          },
          "metadata": {},
          "execution_count": 43
        }
      ]
    },
    {
      "cell_type": "code",
      "source": [
        "_id = 4\n",
        "subject = '네 번째 포스트'\n",
        "content = '네 번째 포스트입니다'\n",
        "date = '20230418'\n",
        "\n",
        "c.execute(\"INSERT INTO blog VALUES (?, ?, ?, ?)\", (_id, subject, content, date))"
      ],
      "metadata": {
        "colab": {
          "base_uri": "https://localhost:8080/"
        },
        "id": "iEn3-ILQBOSz",
        "outputId": "1c3b7b70-c6bc-42e6-d496-aa174f6f2166"
      },
      "execution_count": null,
      "outputs": [
        {
          "output_type": "execute_result",
          "data": {
            "text/plain": [
              "<sqlite3.Cursor at 0x7f5fe9d7ddc0>"
            ]
          },
          "metadata": {},
          "execution_count": 46
        }
      ]
    },
    {
      "cell_type": "code",
      "source": [
        "_id = 5\n",
        "subject = '다섯 번째 포스트'\n",
        "content = '다섯 번째 포스트입니다'\n",
        "date = '20230418'\n",
        "\n",
        "c.execute(\"INSERT INTO blog VALUES (:id, :subject, :content, :date)\",\n",
        "          {'id': _id, 'subject': subject, 'content': content, 'date': date})"
      ],
      "metadata": {
        "colab": {
          "base_uri": "https://localhost:8080/"
        },
        "id": "ulbiCUk1BeIZ",
        "outputId": "4c918bc2-f4c9-45b0-e283-01e67a9d1fd6"
      },
      "execution_count": null,
      "outputs": [
        {
          "output_type": "execute_result",
          "data": {
            "text/plain": [
              "<sqlite3.Cursor at 0x7f5fe9d7ddc0>"
            ]
          },
          "metadata": {},
          "execution_count": 47
        }
      ]
    },
    {
      "cell_type": "code",
      "source": [
        "c.execute('SELECT * FROM blog')\n",
        "all = c.fetchall()\n",
        "print(all)"
      ],
      "metadata": {
        "colab": {
          "base_uri": "https://localhost:8080/"
        },
        "id": "xZulRIx7CFfb",
        "outputId": "6241a540-f43c-43fc-e59c-86b48c73a191"
      },
      "execution_count": null,
      "outputs": [
        {
          "output_type": "stream",
          "name": "stdout",
          "text": [
            "[(1, '첫 번째 포스트', '첫 번째 포스트입니다.', '20230418'), (2, '첫 번째 포스트', '첫 번째 포스트입니다.', '20230418'), (3, '세 번째 포스트', '세 번째 포스트입니다', '20230418'), (4, '네 번째 포스트', '네 번째 포스트입니다', '20230418'), (5, '다섯 번째 포스트', '다섯 번째 포스트입니다', '20230418')]\n"
          ]
        }
      ]
    },
    {
      "cell_type": "code",
      "source": [
        "c.execute('SELECT * FROM blog')\n",
        "all = c.fetchall()\n",
        "\n",
        "for data in all:\n",
        "    print(data)"
      ],
      "metadata": {
        "colab": {
          "base_uri": "https://localhost:8080/"
        },
        "id": "-KVMUoTCCMsZ",
        "outputId": "b7311645-1a08-49d6-8b83-6cbcbfabb218"
      },
      "execution_count": null,
      "outputs": [
        {
          "output_type": "stream",
          "name": "stdout",
          "text": [
            "(1, '첫 번째 포스트', '첫 번째 포스트입니다.', '20230418')\n",
            "(2, '첫 번째 포스트', '첫 번째 포스트입니다.', '20230418')\n",
            "(3, '세 번째 포스트', '세 번째 포스트입니다', '20230418')\n",
            "(4, '네 번째 포스트', '네 번째 포스트입니다', '20230418')\n",
            "(5, '다섯 번째 포스트', '다섯 번째 포스트입니다', '20230418')\n"
          ]
        }
      ]
    },
    {
      "cell_type": "code",
      "source": [
        "c.execute('SELECT * FROM blog')\n",
        "one = c.fetchone()"
      ],
      "metadata": {
        "id": "tPEbBVSyCqMo"
      },
      "execution_count": null,
      "outputs": []
    },
    {
      "cell_type": "code",
      "source": [
        "print(one)"
      ],
      "metadata": {
        "colab": {
          "base_uri": "https://localhost:8080/"
        },
        "id": "tvApY83hCwS5",
        "outputId": "609678bd-2fa7-4b57-d0b9-985699a19e8f"
      },
      "execution_count": null,
      "outputs": [
        {
          "output_type": "stream",
          "name": "stdout",
          "text": [
            "(1, '첫 번째 포스트', '첫 번째 포스트입니다.', '20230418')\n"
          ]
        }
      ]
    },
    {
      "cell_type": "code",
      "source": [
        "c.execute(\"UPDATE blog SET subject='최초의 블로그' WHERE id=1\")"
      ],
      "metadata": {
        "colab": {
          "base_uri": "https://localhost:8080/"
        },
        "id": "3mTgj_XeC35I",
        "outputId": "c4a55c4c-e2cf-415a-8c6d-a1751b0e04bd"
      },
      "execution_count": null,
      "outputs": [
        {
          "output_type": "execute_result",
          "data": {
            "text/plain": [
              "<sqlite3.Cursor at 0x7f5fe9d7ddc0>"
            ]
          },
          "metadata": {},
          "execution_count": 54
        }
      ]
    },
    {
      "cell_type": "code",
      "source": [
        "c.execute('SELECT * FROM blog')\n",
        "one = c.fetchone()\n",
        "print(one)"
      ],
      "metadata": {
        "colab": {
          "base_uri": "https://localhost:8080/"
        },
        "id": "PRTRuVQCC90Y",
        "outputId": "c08a9827-c4b7-490a-ba8a-131f423f3969"
      },
      "execution_count": null,
      "outputs": [
        {
          "output_type": "stream",
          "name": "stdout",
          "text": [
            "(1, '최초의 블로그', '첫 번째 포스트입니다.', '20230418')\n"
          ]
        }
      ]
    },
    {
      "cell_type": "code",
      "source": [
        "c.execute('DELETE FROM blog WHERE id=5')"
      ],
      "metadata": {
        "colab": {
          "base_uri": "https://localhost:8080/"
        },
        "id": "gN5QAjleDL_J",
        "outputId": "4abda2ea-1398-44e3-e5ab-25a7678e1ef0"
      },
      "execution_count": null,
      "outputs": [
        {
          "output_type": "execute_result",
          "data": {
            "text/plain": [
              "<sqlite3.Cursor at 0x7f5fe9d7ddc0>"
            ]
          },
          "metadata": {},
          "execution_count": 57
        }
      ]
    },
    {
      "cell_type": "code",
      "source": [
        "c.execute('SELECT * FROM blog')\n",
        "all = c.fetchall()\n",
        "\n",
        "for data in all:\n",
        "    print(data)"
      ],
      "metadata": {
        "colab": {
          "base_uri": "https://localhost:8080/"
        },
        "id": "yeCqX6K2DVp4",
        "outputId": "fd38cd12-973e-42c7-8cdb-5e29ece0aa1a"
      },
      "execution_count": null,
      "outputs": [
        {
          "output_type": "stream",
          "name": "stdout",
          "text": [
            "(1, '최초의 블로그', '첫 번째 포스트입니다.', '20230418')\n",
            "(2, '첫 번째 포스트', '첫 번째 포스트입니다.', '20230418')\n",
            "(3, '세 번째 포스트', '세 번째 포스트입니다', '20230418')\n",
            "(4, '네 번째 포스트', '네 번째 포스트입니다', '20230418')\n"
          ]
        }
      ]
    },
    {
      "cell_type": "code",
      "source": [
        "conn.commit()"
      ],
      "metadata": {
        "id": "epZWfyu3DYnY"
      },
      "execution_count": null,
      "outputs": []
    },
    {
      "cell_type": "code",
      "source": [
        "conn.rollback()"
      ],
      "metadata": {
        "id": "qU6AUSInDm5o"
      },
      "execution_count": null,
      "outputs": []
    },
    {
      "cell_type": "code",
      "source": [
        "conn.close()"
      ],
      "metadata": {
        "id": "olW-_zduD1KI"
      },
      "execution_count": null,
      "outputs": []
    },
    {
      "cell_type": "code",
      "source": [
        "conn = sqlite3.connect('blog.db')\n",
        "\n",
        "c = conn.cursor()\n",
        "c.execute(\"INSERT INTO blog (subject, content, date) VALUES ('자동증가', 'id 값이 자동 증가되어 입력됩니다', '20230418')\")"
      ],
      "metadata": {
        "colab": {
          "base_uri": "https://localhost:8080/"
        },
        "id": "9heGXPKFF8hI",
        "outputId": "f2c3553d-3028-41ec-9ad7-76c952498ed7"
      },
      "execution_count": null,
      "outputs": [
        {
          "output_type": "execute_result",
          "data": {
            "text/plain": [
              "<sqlite3.Cursor at 0x7f5fe995c110>"
            ]
          },
          "metadata": {},
          "execution_count": 68
        }
      ]
    },
    {
      "cell_type": "code",
      "source": [
        "conn.commit()\n",
        "conn.close()"
      ],
      "metadata": {
        "id": "AfpDbWgwGykw"
      },
      "execution_count": null,
      "outputs": []
    },
    {
      "cell_type": "code",
      "source": [
        "import sqlite3\n",
        "import time\n",
        "\n",
        "def get_blog_list():\n",
        "    conn = sqlite3.connect('blog.db')\n",
        "    conn.row_factory = sqlite3.Row\n",
        "    c = conn.cursor()\n",
        "    c.execute(\"SELECT * FROM blog\")\n",
        "    result = c.fetchall()\n",
        "    conn.close()\n",
        "    return result\n",
        "\n",
        "def add_blog (subject, content):\n",
        "    conn = sqlite3.connect('blog.db')\n",
        "    conn.row_factory = sqlite3.Row\n",
        "    c = conn.cursor()\n",
        "    today = time.strftime('%Y%m%d')\n",
        "    c.execute(\"INSERT INTO blog (subject, content, date) VALUES (?, ?, ?)\", \n",
        "        (subject, content, today))\n",
        "    conn.commit()\n",
        "    conn.close()\n",
        "\n",
        "def read_blog (_id):\n",
        "    conn = sqlite3.connect('blog.db')\n",
        "    conn.row_factory = sqlite3.Row\n",
        "    c = conn.cursor()\n",
        "    c.execute(\"SELECT * FROM blog WHERE id=?\", (_id,))\n",
        "    result = c.fetchone()\n",
        "    conn.close()\n",
        "    return result\n",
        "\n",
        "def modify_blog(_id, subject, content):\n",
        "    conn = sqlite3.connect('blog.db')\n",
        "    conn.row_factory = sqlite3.Row\n",
        "    c = conn.cursor()\n",
        "    c.execute(\"UPDATE blog SET subject=?, content=? WHERE id=?\", \n",
        "        (subject, content, _id))\n",
        "    conn.commit()\n",
        "    conn.close()\n",
        "\n",
        "def remove_blog(_id):\n",
        "    conn = sqlite3.connect('blog.db')\n",
        "    conn.row_factory = sqlite3.Row\n",
        "    c = conn.cursor()\n",
        "    c.execute(\"DELETE FROM blog WHERE id=?\", (_id,))\n",
        "    conn.commit()\n",
        "    conn.close()"
      ],
      "metadata": {
        "id": "zh4zYzzoG9pn"
      },
      "execution_count": null,
      "outputs": []
    },
    {
      "cell_type": "code",
      "source": [
        "get_blog_list()"
      ],
      "metadata": {
        "colab": {
          "base_uri": "https://localhost:8080/"
        },
        "id": "WX-qdi1fG_PQ",
        "outputId": "816d0f08-d70b-4ea5-e175-bae53134b685"
      },
      "execution_count": null,
      "outputs": [
        {
          "output_type": "execute_result",
          "data": {
            "text/plain": [
              "[<sqlite3.Row at 0x7f5fe9d99690>,\n",
              " <sqlite3.Row at 0x7f5fe9970650>,\n",
              " <sqlite3.Row at 0x7f5fe99700b0>,\n",
              " <sqlite3.Row at 0x7f5fe9970d70>,\n",
              " <sqlite3.Row at 0x7f5fe9970170>]"
            ]
          },
          "metadata": {},
          "execution_count": 91
        }
      ]
    },
    {
      "cell_type": "code",
      "source": [
        "dict(get_blog_list()[0])"
      ],
      "metadata": {
        "colab": {
          "base_uri": "https://localhost:8080/"
        },
        "id": "cCbHBVgtH0U3",
        "outputId": "2a5c9c95-e14b-41b8-88fe-c5ee6c57d7bb"
      },
      "execution_count": null,
      "outputs": [
        {
          "output_type": "execute_result",
          "data": {
            "text/plain": [
              "{'id': 1, 'subject': '최초의 블로그', 'content': '첫 번째 포스트입니다.', 'date': '20230418'}"
            ]
          },
          "metadata": {},
          "execution_count": 92
        }
      ]
    },
    {
      "cell_type": "code",
      "source": [
        "for blog in get_blog_list():\n",
        "    print(dict(blog))"
      ],
      "metadata": {
        "colab": {
          "base_uri": "https://localhost:8080/"
        },
        "id": "Sqm13VSsIHln",
        "outputId": "b0a23ca1-3ef1-4f9f-c12e-e2f2ff4b7869"
      },
      "execution_count": null,
      "outputs": [
        {
          "output_type": "stream",
          "name": "stdout",
          "text": [
            "{'id': 1, 'subject': '최초의 블로그', 'content': '첫 번째 포스트입니다.', 'date': '20230418'}\n",
            "{'id': 2, 'subject': '첫 번째 포스트', 'content': '첫 번째 포스트입니다.', 'date': '20230418'}\n",
            "{'id': 3, 'subject': '세 번째 포스트', 'content': '세 번째 포스트입니다', 'date': '20230418'}\n",
            "{'id': 4, 'subject': '네 번째 포스트', 'content': '네 번째 포스트입니다', 'date': '20230418'}\n",
            "{'id': 5, 'subject': '자동증가', 'content': 'id 값이 자동 증가되어 입력됩니다', 'date': '20230418'}\n"
          ]
        }
      ]
    },
    {
      "cell_type": "code",
      "source": [
        "read_blog(5)"
      ],
      "metadata": {
        "colab": {
          "base_uri": "https://localhost:8080/"
        },
        "id": "82TUws8fIxJX",
        "outputId": "1b6fc866-4a8a-44f8-efde-94c6e0205582"
      },
      "execution_count": null,
      "outputs": [
        {
          "output_type": "execute_result",
          "data": {
            "text/plain": [
              "<sqlite3.Row at 0x7f5fe9970990>"
            ]
          },
          "metadata": {},
          "execution_count": 94
        }
      ]
    },
    {
      "cell_type": "code",
      "source": [
        "modify_blog(4, '어제의 일기', '재밌었다')"
      ],
      "metadata": {
        "id": "xNaGVlTEJx0n"
      },
      "execution_count": null,
      "outputs": []
    },
    {
      "cell_type": "code",
      "source": [
        "for blog in get_blog_list():\n",
        "    print(dict(blog))"
      ],
      "metadata": {
        "colab": {
          "base_uri": "https://localhost:8080/"
        },
        "id": "AdgGnUkOKD34",
        "outputId": "af050c9f-a40a-4f8c-d566-9c3e65b9cd28"
      },
      "execution_count": null,
      "outputs": [
        {
          "output_type": "stream",
          "name": "stdout",
          "text": [
            "{'id': 1, 'subject': '최초의 블로그', 'content': '첫 번째 포스트입니다.', 'date': '20230418'}\n",
            "{'id': 2, 'subject': '첫 번째 포스트', 'content': '첫 번째 포스트입니다.', 'date': '20230418'}\n",
            "{'id': 3, 'subject': '세 번째 포스트', 'content': '세 번째 포스트입니다', 'date': '20230418'}\n",
            "{'id': 4, 'subject': '어제의 일기', 'content': '재밌었다', 'date': '20230418'}\n",
            "{'id': 5, 'subject': '자동증가', 'content': 'id 값이 자동 증가되어 입력됩니다', 'date': '20230418'}\n"
          ]
        }
      ]
    },
    {
      "cell_type": "code",
      "source": [
        "remove_blog(5)"
      ],
      "metadata": {
        "id": "wcZ83zltKHXh"
      },
      "execution_count": null,
      "outputs": []
    },
    {
      "cell_type": "code",
      "source": [
        "for blog in get_blog_list():\n",
        "    print(dict(blog))"
      ],
      "metadata": {
        "colab": {
          "base_uri": "https://localhost:8080/"
        },
        "id": "JVNYvDXxKpf1",
        "outputId": "1641c6b0-5f10-4c46-f92b-764ae82de50b"
      },
      "execution_count": null,
      "outputs": [
        {
          "output_type": "stream",
          "name": "stdout",
          "text": [
            "{'id': 1, 'subject': '최초의 블로그', 'content': '첫 번째 포스트입니다.', 'date': '20230418'}\n",
            "{'id': 2, 'subject': '첫 번째 포스트', 'content': '첫 번째 포스트입니다.', 'date': '20230418'}\n",
            "{'id': 3, 'subject': '세 번째 포스트', 'content': '세 번째 포스트입니다', 'date': '20230418'}\n",
            "{'id': 4, 'subject': '어제의 일기', 'content': '재밌었다', 'date': '20230418'}\n"
          ]
        }
      ]
    },
    {
      "cell_type": "code",
      "source": [
        "import sqlite3\n",
        "import time\n",
        "\n",
        "def with_cursor(original_func):\n",
        "    def wrapper(*args, **kwargs):\n",
        "        conn = sqlite3.connect('blog.db')\n",
        "        conn.row_factory = sqlite3.Row\n",
        "        c = conn.cursor()\n",
        "        result = original_func(c, **args, **kwargs)\n",
        "        conn.commit()\n",
        "        conn.close()\n",
        "    return wrapper\n",
        "\n",
        "@with_cursor\n",
        "def get_blog_list():\n",
        "    c.execute(\"SELECT * FROM blog\")\n",
        "    return c.fetchall()\n",
        "\n",
        "@with_cursor\n",
        "def add_blog (subject, content):\n",
        "    today = time.strftime('%Y%m%d')\n",
        "    c.execute(\"INSERT INTO blog (subject, content, date) VALUES (?, ?, ?)\", \n",
        "        (subject, content, today))\n",
        "    \n",
        "@with_cursor   \n",
        "def read_blog (_id):\n",
        "    c.execute(\"SELECT * FROM blog WHERE id=?\", (_id,))\n",
        "    result = c.fetchone()\n",
        "    return result\n",
        "\n",
        "@with_cursor\n",
        "def modify_blog(_id, subject, content):\n",
        "    c.execute(\"UPDATE blog SET subject=?, content=? WHERE id=?\", \n",
        "        (subject, content, _id))\n",
        "\n",
        "@with_cursor\n",
        "def remove_blog(_id):\n",
        "    c.execute(\"DELETE FROM blog WHERE id=?\", (_id,))"
      ],
      "metadata": {
        "id": "gkZ1A5nrKrT1"
      },
      "execution_count": null,
      "outputs": []
    },
    {
      "cell_type": "markdown",
      "source": [
        "048"
      ],
      "metadata": {
        "id": "YJnHme61L3Y-"
      }
    },
    {
      "cell_type": "code",
      "source": [
        "import zlib\n",
        "\n",
        "\n",
        "data = \"Life is too short, You need python.\" * 10000\n",
        "compress_data = zlib.compress(data.encode(encoding='utf-8'))\n",
        "print(len(compress_data))\n",
        "\n",
        "org_data = zlib.decompress(compress_data).decode('utf-8')\n",
        "print(len(org_data))"
      ],
      "metadata": {
        "colab": {
          "base_uri": "https://localhost:8080/"
        },
        "id": "K-pKqwxSL5rW",
        "outputId": "729f539b-c7c1-4e30-caf9-8c35696d6f49"
      },
      "execution_count": null,
      "outputs": [
        {
          "output_type": "stream",
          "name": "stdout",
          "text": [
            "1077\n",
            "350000\n"
          ]
        }
      ]
    },
    {
      "cell_type": "markdown",
      "source": [
        "049"
      ],
      "metadata": {
        "id": "27lrD32XMIZk"
      }
    },
    {
      "cell_type": "code",
      "source": [
        "import gzip\n",
        "\n",
        "data = \"Life is too short, you need python.\" * 10000\n",
        "\n",
        "with gzip.open('data.txt.gz', 'wb') as f:\n",
        "    f.write(data.encode('utf-8')) \n",
        "\n",
        "with gzip.open('data.txt.gz', 'rb') as f:\n",
        "    read_data = f.read().decode('utf-8')\n",
        "\n",
        "assert data == read_data"
      ],
      "metadata": {
        "id": "TDCzEKZ-MMB0"
      },
      "execution_count": null,
      "outputs": []
    },
    {
      "cell_type": "markdown",
      "source": [
        "050"
      ],
      "metadata": {
        "id": "KKmlAyKUNMCm"
      }
    },
    {
      "cell_type": "code",
      "source": [
        "import bz2\n",
        "\n",
        "data = \"Life is too short, You need python.\" * 10000\n",
        "compress_data = bz2.compress(data.encode(encoding='utf-8'))\n",
        "print(len(compress_data))\n",
        "\n",
        "org_data = bz2.decompress(compress_data).decode('utf-8')\n",
        "print(len(org_data))\n",
        "\n",
        "assert data == org_data"
      ],
      "metadata": {
        "colab": {
          "base_uri": "https://localhost:8080/"
        },
        "id": "5pUaYdRINUnV",
        "outputId": "6eb6c765-a72b-444b-b819-90139cf62ac4"
      },
      "execution_count": null,
      "outputs": [
        {
          "output_type": "stream",
          "name": "stdout",
          "text": [
            "163\n",
            "350000\n"
          ]
        }
      ]
    },
    {
      "cell_type": "code",
      "source": [
        "import bz2\n",
        "\n",
        "data = \"Life is too short, you need python.\" * 10000\n",
        "\n",
        "with bz2.open('data.txt.bz2', 'wb') as f:\n",
        "    f.write(data.encode('utf-8'))\n",
        "\n",
        "with bz2.open('data.txt.bz2', 'rb') as f:\n",
        "    read_data = f.read().decode('utf-8')\n",
        "\n",
        "assert data == read_data"
      ],
      "metadata": {
        "id": "pPk7oRK6NX79"
      },
      "execution_count": null,
      "outputs": []
    },
    {
      "cell_type": "markdown",
      "source": [
        "051"
      ],
      "metadata": {
        "id": "VuPJt54cN6pU"
      }
    },
    {
      "cell_type": "code",
      "source": [
        "import lzma\n",
        "\n",
        "data = \"Life is too short, You need python.\" * 10000\n",
        "compress_data = lzma.compress(data.encode(encoding='utf-8'))\n",
        "print(len(compress_data))\n",
        "\n",
        "org_data = lzma.decompress(compress_data).decode('utf-8')\n",
        "print(len(org_data))\n",
        "\n",
        "assert data == org_data"
      ],
      "metadata": {
        "colab": {
          "base_uri": "https://localhost:8080/"
        },
        "id": "Ah9orSUBN8BU",
        "outputId": "647de9c7-35a4-4188-c1d6-42fbc6287541"
      },
      "execution_count": null,
      "outputs": [
        {
          "output_type": "stream",
          "name": "stdout",
          "text": [
            "220\n",
            "350000\n"
          ]
        }
      ]
    },
    {
      "cell_type": "code",
      "source": [
        "import lzma\n",
        "\n",
        "data = \"Life is too short, you need python.\" * 10000\n",
        "\n",
        "with lzma.open('data.txt.xz', 'wb') as f:\n",
        "    f.write(data.encode('utf-8'))\n",
        "\n",
        "with lzma.open('data.txt.xz', 'rb') as f:\n",
        "    read_data = f.read().decode('utf-8')\n",
        "\n",
        "assert data == read_data"
      ],
      "metadata": {
        "id": "xWt0sghqOGVV"
      },
      "execution_count": null,
      "outputs": []
    },
    {
      "cell_type": "markdown",
      "source": [
        "052"
      ],
      "metadata": {
        "id": "LqpVufLSOI5k"
      }
    },
    {
      "cell_type": "code",
      "source": [
        "! echo > a.txt\n",
        "! echo > b.txt\n",
        "! echo > c.txt"
      ],
      "metadata": {
        "id": "jgAMWQk7OSRR"
      },
      "execution_count": null,
      "outputs": []
    },
    {
      "cell_type": "code",
      "source": [
        "import zipfile\n",
        "\n",
        "with zipfile.ZipFile('mytext.zip', 'w') as myzip:\n",
        "    myzip.write('a.txt')\n",
        "    myzip.write('b.txt')\n",
        "    myzip.write('c.txt')\n",
        "\n",
        "with zipfile.ZipFile('mytext.zip') as myzip:\n",
        "    myzip.extractall()\n",
        "    \n",
        "with zipfile.ZipFile('mytext.zip') as myzip:\n",
        "    myzip.extract('a.txt')"
      ],
      "metadata": {
        "id": "VWGVW7JlOKlk"
      },
      "execution_count": null,
      "outputs": []
    },
    {
      "cell_type": "markdown",
      "source": [
        "053"
      ],
      "metadata": {
        "id": "B0vCUBVGOPcZ"
      }
    },
    {
      "cell_type": "code",
      "source": [
        "import tarfile\n",
        "\n",
        "with tarfile.open('mytext.tar', 'w') as mytar:\n",
        "    mytar.add('a.txt')\n",
        "    mytar.add('b.txt')\n",
        "    mytar.add('c.txt')\n",
        "\n",
        "with tarfile.open('mytext.tar') as mytar:\n",
        "    mytar.extractall()\n",
        "    \n",
        "with tarfile.open('mytext.tar') as mytar:\n",
        "    mytar.extract('a.txt')"
      ],
      "metadata": {
        "id": "hBh644i4OboU"
      },
      "execution_count": null,
      "outputs": []
    },
    {
      "cell_type": "code",
      "source": [
        "import tarfile\n",
        "\n",
        "with tarfile.open('mytext.tar.gz', 'w:gz') as mytar:\n",
        "    mytar.add('a.txt')\n",
        "    mytar.add('b.txt')\n",
        "    mytar.add('c.txt')\n",
        "\n",
        "with tarfile.open('mytext.tar.gz') as mytar:\n",
        "    mytar.extractall()"
      ],
      "metadata": {
        "id": "NG4rpf4SOrsU"
      },
      "execution_count": null,
      "outputs": []
    }
  ]
}